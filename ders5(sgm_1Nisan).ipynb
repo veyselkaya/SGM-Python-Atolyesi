{
  "nbformat": 4,
  "nbformat_minor": 0,
  "metadata": {
    "colab": {
      "name": "ders5(sgm_1Nisan).ipynb",
      "provenance": []
    },
    "kernelspec": {
      "name": "python3",
      "display_name": "Python 3"
    },
    "language_info": {
      "name": "python"
    }
  },
  "cells": [
    {
      "cell_type": "code",
      "execution_count": null,
      "metadata": {
        "id": "24JD74Gr6_dy"
      },
      "outputs": [],
      "source": [
        "#ödev-1: while true döngüsü kullanılarak girilen sayıların karelerini ve küplerini bulan ve en son toplamını söyleyen program\n"
      ]
    },
    {
      "cell_type": "code",
      "source": [
        "print(\"Girirlen sayıların karelerinni toplayan program\")\n",
        "print(\"sistemi sonlandırmak için q ya bas!\")\n",
        "toplam = 0\n",
        "toplam_kup=0\n",
        "girilen_sayilar= []\n",
        "girilen_sayilarin_kareleri=[]\n",
        "girilen_sayilarin_kupleri = []\n",
        "\n",
        "while True:\n",
        "  sayi=input(\"Bir sayı gir: \")\n",
        "  if sayi == \"q\":\n",
        "    print(\"program sonlandırıldı...\")\n",
        "    break\n",
        "  sayi = int(sayi)\n",
        "  toplam = toplam +sayi**2 #3.ekrana yazılacak veri\n",
        "  kare = sayi**2\n",
        "  toplam_kup = toplam_kup +sayi**3\n",
        "  kup= sayi**3\n",
        "  girilen_sayilar.append(sayi) #1.ekrana yazılacak veri\n",
        "  girilen_sayilarin_kareleri.append(kare) #2. ekrana yazılacak veri\n",
        "  girilen_sayilarin_kupleri.append(kup)\n",
        "\n",
        "print(30*\"*\")\n",
        "print(f\"Giridiğin sayılar: {girilen_sayilar}\")\n",
        "print(f\"Girilen sayıların kareleri: {girilen_sayilarin_kareleri} \")\n",
        "print(f\"Girilen sayıların küpleri: {girilen_sayilarin_kupleri} \")\n",
        "print(f\"Girilen sayıların kareleri toplamı: {toplam} \")\n",
        "print(f\"Girilen sayıların küpleri toplamı: {toplam_kup} \")"
      ],
      "metadata": {
        "colab": {
          "base_uri": "https://localhost:8080/"
        },
        "id": "cwdXmAc67mRr",
        "outputId": "b9b5bd01-d16e-4f60-d4d5-81dc6cd20fb5"
      },
      "execution_count": 4,
      "outputs": [
        {
          "output_type": "stream",
          "name": "stdout",
          "text": [
            "Girirlen sayıların karelerinni toplayan program\n",
            "sistemi sonlandırmak için q ya bas!\n",
            "Bir sayı gir: 1\n",
            "Bir sayı gir: 2\n",
            "Bir sayı gir: 3\n",
            "Bir sayı gir: q\n",
            "program sonlandırıldı...\n",
            "******************************\n",
            "Giridiğin sayılar: [1, 2, 3]\n",
            "Girilen sayıların kareleri: [1, 4, 9] \n",
            "Girilen sayıların küpleri: [1, 8, 27] \n",
            "Girilen sayıların kareleri toplamı: 14 \n",
            "Girilen sayıların küpleri toplamı: 36 \n"
          ]
        }
      ]
    },
    {
      "cell_type": "code",
      "source": [
        "#ödev-1: kullanıcı adı veya şifresini 3 kez hatalı giren bir kullanıcıyı sistemden dışarı atan bir program\n"
      ],
      "metadata": {
        "id": "oC5zNznS_IhP"
      },
      "execution_count": null,
      "outputs": []
    },
    {
      "cell_type": "code",
      "source": [
        "sifre_DB=\"kedi\"\n",
        "giris_hakki=4\n",
        "print(\"Web sayfamıza hoş geldiniz...Lütfen giriş yapınız!\")\n",
        "print(\"Çıkış için q ya basınız!\")\n",
        "\n",
        "while True:\n",
        "  sifre = input(\"şifrenizi giriniz..: \")\n",
        "  if sifre == \"q\":\n",
        "    print(\"program sonlandırıldı...\")\n",
        "    break\n",
        "  elif sifre == sifre_DB:\n",
        "    print(\"Giriş başarılı...Hoşgeldiniz\")\n",
        "    break\n",
        "  elif sifre !=sifre_DB:\n",
        "    print(\"şifreniz hatalı..!\")\n",
        "    giris_hakki= giris_hakki-1\n",
        "    print(f\"Kalan giriş hakkınız: {giris_hakki} \")\n",
        "    if giris_hakki==0:\n",
        "      print(\"Giriş hakkınız doldu...Sistem yöneticisi ile görüşünüz!\")\n",
        "      break"
      ],
      "metadata": {
        "colab": {
          "base_uri": "https://localhost:8080/"
        },
        "id": "UJTRkYYu_LXd",
        "outputId": "9f12c16e-b803-4a73-ed36-68ef00a23dea"
      },
      "execution_count": 11,
      "outputs": [
        {
          "output_type": "stream",
          "name": "stdout",
          "text": [
            "Web sayfamıza hoş geldiniz...Lütfen giriş yapınız!\n",
            "Çıkış için q ya basınız!\n",
            "şifrenizi giriniz..: e\n",
            "şifreniz hatalı..!\n",
            "Kalan giriş hakkınız: 2 \n",
            "şifrenizi giriniz..: r\n",
            "şifreniz hatalı..!\n",
            "Kalan giriş hakkınız: 1 \n",
            "şifrenizi giriniz..: t\n",
            "şifreniz hatalı..!\n",
            "Kalan giriş hakkınız: 0 \n",
            "Giriş hakkınız doldur...Sistem yöneticisi ile görüşünüz!\n"
          ]
        }
      ]
    },
    {
      "cell_type": "code",
      "source": [
        "#Fonksiyonlar..."
      ],
      "metadata": {
        "id": "dKVeWWFBD-z4"
      },
      "execution_count": null,
      "outputs": []
    },
    {
      "cell_type": "code",
      "source": [
        "def selam():\n",
        "  print(\"Merhaba, Siteye hoşgeldin..\")"
      ],
      "metadata": {
        "id": "IhEXhuItEd_1"
      },
      "execution_count": 12,
      "outputs": []
    },
    {
      "cell_type": "code",
      "source": [
        "selam()"
      ],
      "metadata": {
        "colab": {
          "base_uri": "https://localhost:8080/"
        },
        "id": "7x4NpcglFAZr",
        "outputId": "c61f5d9d-a8bb-4a38-a739-9ad5cf2c2c55"
      },
      "execution_count": 13,
      "outputs": [
        {
          "output_type": "stream",
          "name": "stdout",
          "text": [
            "Merhaba, Siteye hoşgeldin..\n"
          ]
        }
      ]
    },
    {
      "cell_type": "code",
      "source": [
        "#Yaş kontrolu yapan fonksiyon..."
      ],
      "metadata": {
        "id": "HLGVThxPFPOS"
      },
      "execution_count": null,
      "outputs": []
    },
    {
      "cell_type": "code",
      "source": [
        "def yasKontrolu():\n",
        "  yas = int(input(\"yaşını gir: \"))\n",
        "  if yas <18:\n",
        "    print(\"Bu işlemi yapamazsınız...Lütfen Veliniz ile geliniz...!\")\n",
        "  else:\n",
        "    print(\"Yaşınız işlem yapmaya uygundur...\")"
      ],
      "metadata": {
        "id": "nK12xRYVFZtO"
      },
      "execution_count": 14,
      "outputs": []
    },
    {
      "cell_type": "code",
      "source": [
        "yasKontrolu()"
      ],
      "metadata": {
        "colab": {
          "base_uri": "https://localhost:8080/"
        },
        "id": "b6FwXSNVFvML",
        "outputId": "c6011801-7f6f-4730-dcd1-398005ef5f1f"
      },
      "execution_count": 15,
      "outputs": [
        {
          "output_type": "stream",
          "name": "stdout",
          "text": [
            "yaşını gir: 12\n",
            "Bu işlemi yapamazsınız...Lütfen Veliniz ile geliniz...!\n"
          ]
        }
      ]
    },
    {
      "cell_type": "code",
      "source": [
        "yasKontrolu()"
      ],
      "metadata": {
        "colab": {
          "base_uri": "https://localhost:8080/"
        },
        "id": "qs23CZNZF0-z",
        "outputId": "262dae65-e438-4dae-afd5-954af69b3c86"
      },
      "execution_count": 16,
      "outputs": [
        {
          "output_type": "stream",
          "name": "stdout",
          "text": [
            "yaşını gir: 65\n",
            "Yaşınız işlem yapmaya uygundur...\n"
          ]
        }
      ]
    },
    {
      "cell_type": "code",
      "source": [
        "selam()"
      ],
      "metadata": {
        "colab": {
          "base_uri": "https://localhost:8080/"
        },
        "id": "B3_1RYCgF_RC",
        "outputId": "dd722c89-e37e-4070-a9d8-fa3d0e6a9f03"
      },
      "execution_count": 17,
      "outputs": [
        {
          "output_type": "stream",
          "name": "stdout",
          "text": [
            "Merhaba, Siteye hoşgeldin..\n"
          ]
        }
      ]
    },
    {
      "cell_type": "code",
      "source": [
        "#hız kontrolü yapan bir fonksiyon"
      ],
      "metadata": {
        "id": "jDLfxb3wGJYi"
      },
      "execution_count": null,
      "outputs": []
    },
    {
      "cell_type": "code",
      "source": [
        "def hiz_kontrolu():\n",
        "  hiz = int(input(\"Ekrandan okunan hızınız alınıyor...: \"))\n",
        "  if 80 <hiz <100:\n",
        "    print(f\"Hızınız: {hiz}. Şehiriçi hız limitini aştınız: cezası= 200₺ dir\")\n",
        "  elif hiz>100:\n",
        "    print(f\"Hızınız: {hiz}. Şehiriçi hız limitini aştınız: cezası= 300₺ dir\")\n",
        "  else:\n",
        "    print(f\"Hızınız: {hiz}. Kurallara uyduğunuz için teşekkürler\")"
      ],
      "metadata": {
        "id": "CslNsgopGNrC"
      },
      "execution_count": 18,
      "outputs": []
    },
    {
      "cell_type": "code",
      "source": [
        "hiz_kontrolu()"
      ],
      "metadata": {
        "colab": {
          "base_uri": "https://localhost:8080/"
        },
        "id": "vXX-aoubHhAL",
        "outputId": "47799585-e9d3-46e1-ff5a-1652804691f8"
      },
      "execution_count": 19,
      "outputs": [
        {
          "output_type": "stream",
          "name": "stdout",
          "text": [
            "Ekrandan okunan hızınız alınıyor...: 90\n",
            " hızınız: 90.  Şehiriçi hız limitini aştınız: cezası= 200₺ dir\n"
          ]
        }
      ]
    },
    {
      "cell_type": "code",
      "source": [
        "hiz_kontrolu()"
      ],
      "metadata": {
        "colab": {
          "base_uri": "https://localhost:8080/"
        },
        "id": "rxO__FJ6Hphl",
        "outputId": "9cfca79b-1e48-4679-9695-885355e7c690"
      },
      "execution_count": 20,
      "outputs": [
        {
          "output_type": "stream",
          "name": "stdout",
          "text": [
            "Ekrandan okunan hızınız alınıyor...: 75\n",
            "hızınız: 75. Kurallara uyduğunuz için teşekkürler\n"
          ]
        }
      ]
    },
    {
      "cell_type": "code",
      "source": [
        "#Yüzde hesaplaayan bir fonksiyon"
      ],
      "metadata": {
        "id": "gEUsWirhIR7R"
      },
      "execution_count": null,
      "outputs": []
    },
    {
      "cell_type": "code",
      "source": [
        "def yuzdeHesapla():\n",
        "  urun_fiyati = float(input(\"ürünün fiyatını giriniz: \"))\n",
        "  yuzdelik_oran = float(input(\"yüzdelik oranı giriniz: \"))\n",
        "\n",
        "  tutar = urun_fiyati- (urun_fiyati*yuzdelik_oran)/100\n",
        "  print(f\"Ürünün gerçek fiyatı: {urun_fiyati} \")\n",
        "  print(f\"İndirim oranı: %{yuzdelik_oran} \")\n",
        "  print(f\"Ödeyeceğiniz fiyat: {tutar} \")\n"
      ],
      "metadata": {
        "id": "B-vSYv6jIbDg"
      },
      "execution_count": 23,
      "outputs": []
    },
    {
      "cell_type": "code",
      "source": [
        "yuzdeHesapla()"
      ],
      "metadata": {
        "colab": {
          "base_uri": "https://localhost:8080/"
        },
        "id": "-KEmLfmAJWpq",
        "outputId": "9510e578-3755-43cf-acf7-08254aa17180"
      },
      "execution_count": 24,
      "outputs": [
        {
          "output_type": "stream",
          "name": "stdout",
          "text": [
            "ürünün fiyatını giriniz: 375\n",
            "yüzdelik oranı giriniz: 22.5\n",
            "Ürünün gerçek fiyatı: 375.0 \n",
            "İndirim oranı: %22.5 \n",
            "Ödeyeceğiniz fiyat: 290.625 \n"
          ]
        }
      ]
    }
  ]
}