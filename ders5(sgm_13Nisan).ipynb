{
  "nbformat": 4,
  "nbformat_minor": 0,
  "metadata": {
    "colab": {
      "name": "ders5(sgm_13Nisan).ipynb",
      "provenance": []
    },
    "kernelspec": {
      "name": "python3",
      "display_name": "Python 3"
    },
    "language_info": {
      "name": "python"
    }
  },
  "cells": [
    {
      "cell_type": "code",
      "execution_count": 1,
      "metadata": {
        "id": "QwOybf7nI_i4"
      },
      "outputs": [],
      "source": [
        "#Foksiyonlar 2. ders"
      ]
    },
    {
      "cell_type": "code",
      "source": [
        "def selam():\n",
        "  print(\"merhaba, sayfamıza hoş geldin..:)\")"
      ],
      "metadata": {
        "id": "D8529dGAMCHK"
      },
      "execution_count": 3,
      "outputs": []
    },
    {
      "cell_type": "code",
      "source": [
        "selam()"
      ],
      "metadata": {
        "colab": {
          "base_uri": "https://localhost:8080/"
        },
        "id": "nuDuNve9MKf4",
        "outputId": "f5900cf9-0e2b-447c-996e-5f3ae008660f"
      },
      "execution_count": 4,
      "outputs": [
        {
          "output_type": "stream",
          "name": "stdout",
          "text": [
            "merhaba, sayfamıza hoş geldin..:)\n"
          ]
        }
      ]
    },
    {
      "cell_type": "code",
      "source": [
        "#parametre"
      ],
      "metadata": {
        "id": "_J2Bd6w3MPNc"
      },
      "execution_count": null,
      "outputs": []
    },
    {
      "cell_type": "code",
      "source": [
        "def merhaba(isim):\n",
        "  print(f\"Merhaba:{isim} \")"
      ],
      "metadata": {
        "id": "xr29TmLiMQvt"
      },
      "execution_count": 5,
      "outputs": []
    },
    {
      "cell_type": "code",
      "source": [
        "merhaba(\"veysel\")"
      ],
      "metadata": {
        "colab": {
          "base_uri": "https://localhost:8080/"
        },
        "id": "7Rojjf8jMXSM",
        "outputId": "a7a82305-a5b7-4997-c4b2-cdd46e956313"
      },
      "execution_count": 6,
      "outputs": [
        {
          "output_type": "stream",
          "name": "stdout",
          "text": [
            "Merhaba:veysel \n"
          ]
        }
      ]
    },
    {
      "cell_type": "code",
      "source": [
        "merhaba(\"Burak\")"
      ],
      "metadata": {
        "colab": {
          "base_uri": "https://localhost:8080/"
        },
        "id": "8sPdI6DdMdDV",
        "outputId": "fd33d1eb-4a52-4408-ff8d-fcbcfea12180"
      },
      "execution_count": 7,
      "outputs": [
        {
          "output_type": "stream",
          "name": "stdout",
          "text": [
            "Merhaba:Burak \n"
          ]
        }
      ]
    },
    {
      "cell_type": "code",
      "source": [
        "def toplam(a,b,c):\n",
        "  print(f\"Toplamları: {a+b+c} \")\n"
      ],
      "metadata": {
        "id": "qywtd-21MmID"
      },
      "execution_count": 8,
      "outputs": []
    },
    {
      "cell_type": "code",
      "source": [
        "toplam(3,4,5)"
      ],
      "metadata": {
        "colab": {
          "base_uri": "https://localhost:8080/"
        },
        "id": "LOJiGc1TMyFq",
        "outputId": "5e344d61-2c16-45d1-ee33-11b6647d0258"
      },
      "execution_count": 9,
      "outputs": [
        {
          "output_type": "stream",
          "name": "stdout",
          "text": [
            "Toplamları: 12 \n"
          ]
        }
      ]
    },
    {
      "cell_type": "code",
      "source": [
        "def faktoriyel(a):\n",
        "  faktor=1\n",
        "  for i in range(1,a+1):\n",
        "    faktor *=i\n",
        "  print(f\"{a}! = {faktor}\")\n"
      ],
      "metadata": {
        "id": "DBgCE4ueM4se"
      },
      "execution_count": 10,
      "outputs": []
    },
    {
      "cell_type": "code",
      "source": [
        "faktoriyel(5)"
      ],
      "metadata": {
        "colab": {
          "base_uri": "https://localhost:8080/"
        },
        "id": "5lx4RM35NS-a",
        "outputId": "2c796926-8d65-440b-e824-a4379bd96ca2"
      },
      "execution_count": 11,
      "outputs": [
        {
          "output_type": "stream",
          "name": "stdout",
          "text": [
            "5! = 120\n"
          ]
        }
      ]
    },
    {
      "cell_type": "code",
      "source": [
        "faktoriyel(3)"
      ],
      "metadata": {
        "colab": {
          "base_uri": "https://localhost:8080/"
        },
        "id": "2i7cqtmZNXpa",
        "outputId": "870a7d7b-506b-4cda-a30d-9f502c50ca5b"
      },
      "execution_count": 13,
      "outputs": [
        {
          "output_type": "stream",
          "name": "stdout",
          "text": [
            "3! = 6\n"
          ]
        }
      ]
    },
    {
      "cell_type": "code",
      "source": [
        "def faktoriyel2():\n",
        "  faktoriyel=1\n",
        "  sayi = int(input(\"sayıyı giriniz: \"))\n",
        "  for i in range(1, sayi +1):\n",
        "    faktoriyel *=i\n",
        "  print(f\" {i} sayısının faktöriyeli: \", faktoriyel)"
      ],
      "metadata": {
        "id": "ES2X35W6NhUH"
      },
      "execution_count": 17,
      "outputs": []
    },
    {
      "cell_type": "code",
      "source": [
        "faktoriyel2()"
      ],
      "metadata": {
        "colab": {
          "base_uri": "https://localhost:8080/"
        },
        "id": "BTP7a7LKONVm",
        "outputId": "b1cac875-e00c-4b75-dfa8-40e28afefafb"
      },
      "execution_count": 18,
      "outputs": [
        {
          "output_type": "stream",
          "name": "stdout",
          "text": [
            "sayıyı giriniz: 4\n",
            " 4 sayısının faktöriyeli:  24\n"
          ]
        }
      ]
    },
    {
      "cell_type": "code",
      "source": [
        "faktoriyel2()"
      ],
      "metadata": {
        "colab": {
          "base_uri": "https://localhost:8080/"
        },
        "id": "KtnlFDiXOWmH",
        "outputId": "610383bd-6d24-40a5-fbb0-c7602f3ac335"
      },
      "execution_count": 19,
      "outputs": [
        {
          "output_type": "stream",
          "name": "stdout",
          "text": [
            "sayıyı giriniz: 5\n",
            " 5 sayısının faktöriyeli:  120\n"
          ]
        }
      ]
    },
    {
      "cell_type": "code",
      "source": [
        "def toplam2(a,b,c):\n",
        "  print(a+b+c)\n"
      ],
      "metadata": {
        "id": "-aMeAV1IPCWU"
      },
      "execution_count": 22,
      "outputs": []
    },
    {
      "cell_type": "code",
      "source": [
        "toplam2(1,2,3)"
      ],
      "metadata": {
        "colab": {
          "base_uri": "https://localhost:8080/"
        },
        "id": "C0DSsv2LPYt2",
        "outputId": "7e7b1c19-d6ff-4204-9ad8-56876611c91e"
      },
      "execution_count": 23,
      "outputs": [
        {
          "output_type": "stream",
          "name": "stdout",
          "text": [
            "6\n"
          ]
        }
      ]
    },
    {
      "cell_type": "code",
      "source": [
        "def toplam3(*sayilar):\n",
        "  toplam =0\n",
        "  print(\"Değerler: \", sayilar)\n",
        "  for i in sayilar:\n",
        "    toplam +=i\n",
        "  print(f\"Toplamları: {toplam} \")\n",
        "\n"
      ],
      "metadata": {
        "id": "39bN40IbPcXf"
      },
      "execution_count": 26,
      "outputs": []
    },
    {
      "cell_type": "code",
      "source": [
        "toplam3(1,2,3,4,5,6,7,8,9,10)"
      ],
      "metadata": {
        "colab": {
          "base_uri": "https://localhost:8080/"
        },
        "id": "aJEcji_vPy-w",
        "outputId": "89c8edfb-a612-4677-dce7-1eb07d973fb1"
      },
      "execution_count": 27,
      "outputs": [
        {
          "output_type": "stream",
          "name": "stdout",
          "text": [
            "Değerler:  (1, 2, 3, 4, 5, 6, 7, 8, 9, 10)\n",
            "Toplamları: 55 \n"
          ]
        }
      ]
    },
    {
      "cell_type": "code",
      "source": [
        "toplam3(17,789,677)"
      ],
      "metadata": {
        "colab": {
          "base_uri": "https://localhost:8080/"
        },
        "id": "gMf9xrvtP-hZ",
        "outputId": "1262a4f1-3846-4b9d-e0a3-01058b4f8c6a"
      },
      "execution_count": 28,
      "outputs": [
        {
          "output_type": "stream",
          "name": "stdout",
          "text": [
            "Değerler:  (17, 789, 677)\n",
            "Toplamları: 1483 \n"
          ]
        }
      ]
    },
    {
      "cell_type": "code",
      "source": [
        "#f(x)= x^2+4x+5... x=3 için sonucu nedir..."
      ],
      "metadata": {
        "id": "rFDpIfrLQL7M"
      },
      "execution_count": null,
      "outputs": []
    },
    {
      "cell_type": "code",
      "source": [
        "#return kavramı"
      ],
      "metadata": {
        "id": "1qCzP7a7QfJ5"
      },
      "execution_count": null,
      "outputs": []
    },
    {
      "cell_type": "code",
      "source": [
        "def iki_il_carp(a):\n",
        "  return 2*a\n"
      ],
      "metadata": {
        "id": "4AxzQHaKQkBC"
      },
      "execution_count": 29,
      "outputs": []
    },
    {
      "cell_type": "code",
      "source": [
        "iki_il_carp(4)"
      ],
      "metadata": {
        "colab": {
          "base_uri": "https://localhost:8080/"
        },
        "id": "qRfgfCGGQrVq",
        "outputId": "20ec4b03-83a4-4f11-a3f2-3651de775a8f"
      },
      "execution_count": 30,
      "outputs": [
        {
          "output_type": "execute_result",
          "data": {
            "text/plain": [
              "8"
            ]
          },
          "metadata": {},
          "execution_count": 30
        }
      ]
    },
    {
      "cell_type": "code",
      "source": [
        "def uc_ile_bol(a):\n",
        "  return a/3"
      ],
      "metadata": {
        "id": "iMwMzR4xQz2U"
      },
      "execution_count": 32,
      "outputs": []
    },
    {
      "cell_type": "code",
      "source": [
        "uc_ile_bol(12)"
      ],
      "metadata": {
        "colab": {
          "base_uri": "https://localhost:8080/"
        },
        "id": "KAgeYtTHQ5j7",
        "outputId": "91183b60-fe11-4852-9709-f618266bc358"
      },
      "execution_count": 33,
      "outputs": [
        {
          "output_type": "execute_result",
          "data": {
            "text/plain": [
              "4.0"
            ]
          },
          "metadata": {},
          "execution_count": 33
        }
      ]
    },
    {
      "cell_type": "code",
      "source": [
        "iki_il_carp(uc_ile_bol(12))"
      ],
      "metadata": {
        "colab": {
          "base_uri": "https://localhost:8080/"
        },
        "id": "8yZWXI21RLWc",
        "outputId": "889fa0e2-68ad-4bb9-ebce-46af114c022b"
      },
      "execution_count": 34,
      "outputs": [
        {
          "output_type": "execute_result",
          "data": {
            "text/plain": [
              "8.0"
            ]
          },
          "metadata": {},
          "execution_count": 34
        }
      ]
    },
    {
      "cell_type": "code",
      "source": [
        "def kare_al(a):\n",
        "  return a**2"
      ],
      "metadata": {
        "id": "PwO7BtlkRej5"
      },
      "execution_count": 35,
      "outputs": []
    },
    {
      "cell_type": "code",
      "source": [
        "kare_al(uc_ile_bol(iki_il_carp(6)))"
      ],
      "metadata": {
        "colab": {
          "base_uri": "https://localhost:8080/"
        },
        "id": "YEq4vMAJUwmo",
        "outputId": "443073ec-59e0-4801-fe28-619e80a2a40e"
      },
      "execution_count": 36,
      "outputs": [
        {
          "output_type": "execute_result",
          "data": {
            "text/plain": [
              "16.0"
            ]
          },
          "metadata": {},
          "execution_count": 36
        }
      ]
    },
    {
      "cell_type": "code",
      "source": [
        "#Emekliliğe kaç yıl kaldığını hesaplayan program"
      ],
      "metadata": {
        "id": "nWOFq3IpVEF6"
      },
      "execution_count": null,
      "outputs": []
    },
    {
      "cell_type": "code",
      "source": [
        "def yasBul(dogumYili):\n",
        "  return 2022 - dogumYili\n",
        "\n",
        "yasEymen = yasBul(2006)\n",
        "yasBurak = yasBul(2007)\n",
        "yasEmin = yasBul(2006)\n",
        "\n",
        "print(yasEymen,  yasBurak, yasEmin)"
      ],
      "metadata": {
        "colab": {
          "base_uri": "https://localhost:8080/"
        },
        "id": "8yVHETIwVHUC",
        "outputId": "4004d968-7f07-43ac-8d2c-2ed1decb41a2"
      },
      "execution_count": 37,
      "outputs": [
        {
          "output_type": "stream",
          "name": "stdout",
          "text": [
            "16 15 16\n"
          ]
        }
      ]
    },
    {
      "cell_type": "code",
      "source": [
        "def emekliligimeNeKadarKaldi(dogumYili, isim):\n",
        "  yas = yasBul(dogumYili)\n",
        "  ekmeklilik = 65 - yas\n",
        "  if ekmeklilik > 0:\n",
        "    print(f\"Sayın: {isim} bey. Emekliliğinize: {ekmeklilik} yıl kaldı. \")\n",
        "  else:\n",
        "    print(f\"Sayın: {isim} bey. Emeklisiniz. Tebrikler. Çünkü {yas} yaşındasınız. Hatta {yas-65}  yıllık emeklilik paranızı da alabilirsiniz... \")"
      ],
      "metadata": {
        "id": "ehovtEINV117"
      },
      "execution_count": 44,
      "outputs": []
    },
    {
      "cell_type": "code",
      "source": [
        "emekliligimeNeKadarKaldi(1980, \"Veysel\")"
      ],
      "metadata": {
        "colab": {
          "base_uri": "https://localhost:8080/"
        },
        "id": "4brBDFDTW5mF",
        "outputId": "56ecce60-d5a6-4093-fb7a-2e76c4fd8f66"
      },
      "execution_count": 45,
      "outputs": [
        {
          "output_type": "stream",
          "name": "stdout",
          "text": [
            "Sayın: Veysel bey. Emekliliğinize: 23 yıl kaldı. \n"
          ]
        }
      ]
    },
    {
      "cell_type": "code",
      "source": [
        "emekliligimeNeKadarKaldi(1956, \"Kemal\")"
      ],
      "metadata": {
        "colab": {
          "base_uri": "https://localhost:8080/"
        },
        "id": "SeZIK-meXJAs",
        "outputId": "5c27edc5-4814-4781-8474-2648620ffd00"
      },
      "execution_count": 46,
      "outputs": [
        {
          "output_type": "stream",
          "name": "stdout",
          "text": [
            "Sayın: Kemal bey. Emeklisiniz. Tebrikler. Çünkü 66 yaşındasınız. Hatta 1  yıllık emeklilik paranızı da alabilirsiniz... \n"
          ]
        }
      ]
    },
    {
      "cell_type": "code",
      "source": [
        "#pisagot teoremi c^2= a^2+c^2"
      ],
      "metadata": {
        "id": "QKguNCEgYhhl"
      },
      "execution_count": null,
      "outputs": []
    },
    {
      "cell_type": "code",
      "source": [
        "def pisagorBul():\n",
        "  pisagor_liste= []\n",
        "  for a in range(1,11):\n",
        "    for b in range(1,11):\n",
        "      c = (a**2+b**2)**0.5\n",
        "      if c == int(c):\n",
        "        pisagor_liste.append((a,b,int(c)))\n",
        "  return pisagor_liste, (\"Eleman satısı: \", len(pisagor_liste))\n"
      ],
      "metadata": {
        "id": "wIA-yzQcYl5Q"
      },
      "execution_count": 57,
      "outputs": []
    },
    {
      "cell_type": "code",
      "source": [
        "pisagorBul()"
      ],
      "metadata": {
        "colab": {
          "base_uri": "https://localhost:8080/"
        },
        "id": "3FIDBZ3CZ7Li",
        "outputId": "395c234a-45d5-4032-9ba0-e6b621f481b0"
      },
      "execution_count": 58,
      "outputs": [
        {
          "output_type": "execute_result",
          "data": {
            "text/plain": [
              "([(3, 4, 5), (4, 3, 5), (6, 8, 10), (8, 6, 10)], ('Eleman satısı: ', 4))"
            ]
          },
          "metadata": {},
          "execution_count": 58
        }
      ]
    }
  ]
}