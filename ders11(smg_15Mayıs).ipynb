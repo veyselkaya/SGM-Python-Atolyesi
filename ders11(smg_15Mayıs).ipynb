{
  "nbformat": 4,
  "nbformat_minor": 0,
  "metadata": {
    "colab": {
      "name": "ders11(smg_15Mayıs).ipynb",
      "provenance": []
    },
    "kernelspec": {
      "name": "python3",
      "display_name": "Python 3"
    },
    "language_info": {
      "name": "python"
    }
  },
  "cells": [
    {
      "cell_type": "code",
      "execution_count": null,
      "metadata": {
        "id": "aRbwjYlMlP4y"
      },
      "outputs": [],
      "source": [
        "#genel tekrar"
      ]
    },
    {
      "cell_type": "code",
      "source": [
        "print(\"merhaba\")"
      ],
      "metadata": {
        "colab": {
          "base_uri": "https://localhost:8080/"
        },
        "id": "uoZL6zcqlarg",
        "outputId": "764c65eb-3828-45e2-a60d-056b81aeb593"
      },
      "execution_count": 1,
      "outputs": [
        {
          "output_type": "stream",
          "name": "stdout",
          "text": [
            "merhaba\n"
          ]
        }
      ]
    },
    {
      "cell_type": "code",
      "source": [
        "print(50*\"*\")"
      ],
      "metadata": {
        "colab": {
          "base_uri": "https://localhost:8080/"
        },
        "id": "QP-TQczdlhse",
        "outputId": "535cf86b-07e5-4f1a-f7e5-0b2e614de788"
      },
      "execution_count": 2,
      "outputs": [
        {
          "output_type": "stream",
          "name": "stdout",
          "text": [
            "**************************************************\n"
          ]
        }
      ]
    },
    {
      "cell_type": "code",
      "source": [
        "print(*\"Merhaba\")"
      ],
      "metadata": {
        "colab": {
          "base_uri": "https://localhost:8080/"
        },
        "id": "uNVv0cRRlm8U",
        "outputId": "b4587f0d-9ac7-44e8-a018-66f740508c83"
      },
      "execution_count": 3,
      "outputs": [
        {
          "output_type": "stream",
          "name": "stdout",
          "text": [
            "M e r h a b a\n"
          ]
        }
      ]
    },
    {
      "cell_type": "code",
      "source": [
        "print(*\"Merhaba\", sep=\"...\")"
      ],
      "metadata": {
        "colab": {
          "base_uri": "https://localhost:8080/"
        },
        "id": "cE4q7MxIl9ne",
        "outputId": "ee250565-e0b5-478e-f64a-d3136dc4988f"
      },
      "execution_count": 7,
      "outputs": [
        {
          "output_type": "stream",
          "name": "stdout",
          "text": [
            "M...e...r...h...a...b...a\n"
          ]
        }
      ]
    },
    {
      "cell_type": "code",
      "source": [
        "print(*\"Merhaba\", sep=\"\\n\")"
      ],
      "metadata": {
        "colab": {
          "base_uri": "https://localhost:8080/"
        },
        "id": "dxj0YdBDmFsD",
        "outputId": "e80e06f4-b071-45f6-905a-176750ef4d44"
      },
      "execution_count": 8,
      "outputs": [
        {
          "output_type": "stream",
          "name": "stdout",
          "text": [
            "M\n",
            "e\n",
            "r\n",
            "h\n",
            "a\n",
            "b\n",
            "a\n"
          ]
        }
      ]
    },
    {
      "cell_type": "code",
      "source": [
        "ad = \"kedi\"\n",
        "print(ad)"
      ],
      "metadata": {
        "colab": {
          "base_uri": "https://localhost:8080/"
        },
        "id": "jKYYD_jVmODm",
        "outputId": "9c1a0523-67a5-4dbc-99a7-3dbb17a0a502"
      },
      "execution_count": 9,
      "outputs": [
        {
          "output_type": "stream",
          "name": "stdout",
          "text": [
            "kedi\n"
          ]
        }
      ]
    },
    {
      "cell_type": "code",
      "source": [
        "type(ad)"
      ],
      "metadata": {
        "colab": {
          "base_uri": "https://localhost:8080/"
        },
        "id": "hBSIwKy1mTBF",
        "outputId": "7fde7c5b-18db-4cd7-a2f3-3b8a5a09a519"
      },
      "execution_count": 10,
      "outputs": [
        {
          "output_type": "execute_result",
          "data": {
            "text/plain": [
              "str"
            ]
          },
          "metadata": {},
          "execution_count": 10
        }
      ]
    },
    {
      "cell_type": "code",
      "source": [
        "print(ad.upper())"
      ],
      "metadata": {
        "colab": {
          "base_uri": "https://localhost:8080/"
        },
        "id": "c6U46_F7mppG",
        "outputId": "aca563bd-36da-4ca0-85d4-a093b3d8d06a"
      },
      "execution_count": 14,
      "outputs": [
        {
          "output_type": "stream",
          "name": "stdout",
          "text": [
            "KEDI\n"
          ]
        }
      ]
    },
    {
      "cell_type": "code",
      "source": [
        "#kullanıcıdan değer alma\n",
        "#input fonksiyyonu standart olarak string değer alır...."
      ],
      "metadata": {
        "id": "2T0uCyGtmxrl"
      },
      "execution_count": null,
      "outputs": []
    },
    {
      "cell_type": "code",
      "source": [
        "ad_soyad = input(\"Adınız ve soyadınız..: \")\n",
        "print(f\"hoşgeldin: {ad_soyad.upper()} \")"
      ],
      "metadata": {
        "colab": {
          "base_uri": "https://localhost:8080/"
        },
        "id": "eQWIOrb4m077",
        "outputId": "bb4ae434-ca28-4c15-f3dd-7ce6dc0b2341"
      },
      "execution_count": 17,
      "outputs": [
        {
          "output_type": "stream",
          "name": "stdout",
          "text": [
            "Adınız ve soyadınız..: veySel kAYa\n",
            "hoşgeldin: VEYSEL KAYA \n"
          ]
        }
      ]
    },
    {
      "cell_type": "code",
      "source": [
        "#kullanıcıdan 2 sayı alıp toplayan program\n",
        "\n",
        "a = int(input(\"Birinci sayıyı gir: \"))\n",
        "b = int(input(\"İkinci sayıyı gir: \"))\n",
        "toplam = a +b\n",
        "\n",
        "print(f\"Girdiğin sayılar: {a}, {b}. Toplamları: {toplam} \")"
      ],
      "metadata": {
        "colab": {
          "base_uri": "https://localhost:8080/"
        },
        "id": "mPSN_EcendSq",
        "outputId": "8d4b0704-fb88-4e9d-8f09-23703d44e1db"
      },
      "execution_count": 18,
      "outputs": [
        {
          "output_type": "stream",
          "name": "stdout",
          "text": [
            "Birinci sayıyı gir: 4\n",
            "İkinci sayıyı gir: 5\n",
            "girgiğin sayılar: 4, 5. Toplamları: 9 \n"
          ]
        }
      ]
    },
    {
      "cell_type": "code",
      "source": [
        "#kullanıcıdan 2 sayı alıp toplayan program\n",
        "\n",
        "a = input(\"Birinci sayıyı gir: \")\n",
        "b = input(\"İkinci sayıyı gir: \")\n",
        "\n",
        "toplam = int(a) + int(b)\n",
        "\n",
        "print(f\"Girdiğin sayılar: {a}, {b}. Toplamları: {toplam} \")"
      ],
      "metadata": {
        "colab": {
          "base_uri": "https://localhost:8080/"
        },
        "id": "V4opm9kon1ve",
        "outputId": "fcc5f92d-3d56-4a5e-80c7-b33859813486"
      },
      "execution_count": 20,
      "outputs": [
        {
          "output_type": "stream",
          "name": "stdout",
          "text": [
            "Birinci sayıyı gir: 3\n",
            "İkinci sayıyı gir: 4\n",
            "Girdiğin sayılar: 3, 4. Toplamları: 7 \n"
          ]
        }
      ]
    },
    {
      "cell_type": "code",
      "source": [
        "# +,-,*,/, //, %... matematiksel operatörleri\n",
        "# <,>,<=, >=, ==, !=...karşılaştırma operatörleri\n",
        "# true, false....bool değerler\n",
        "# int, float,...tamsayı ve ondalık sayı"
      ],
      "metadata": {
        "id": "RwLN-lItnI37"
      },
      "execution_count": null,
      "outputs": []
    },
    {
      "cell_type": "code",
      "source": [
        "5==5"
      ],
      "metadata": {
        "colab": {
          "base_uri": "https://localhost:8080/"
        },
        "id": "1G3ekniQozFa",
        "outputId": "68772701-65e0-4233-e98e-529428497ed6"
      },
      "execution_count": 22,
      "outputs": [
        {
          "output_type": "execute_result",
          "data": {
            "text/plain": [
              "True"
            ]
          },
          "metadata": {},
          "execution_count": 22
        }
      ]
    },
    {
      "cell_type": "code",
      "source": [
        "#if elif, else... koşul durumları\n"
      ],
      "metadata": {
        "id": "wxEKsU1Eo3Ol"
      },
      "execution_count": null,
      "outputs": []
    },
    {
      "cell_type": "code",
      "source": [
        "yas = int(input(\"yaşınızı giriniz: \"))\n",
        "\n",
        "if yas >=18:\n",
        "  print(\"Artık yasal olarak oy kullanabilirsin\")\n",
        "else:\n",
        "  print(\"henüz oy kullanamazsınız\")\n"
      ],
      "metadata": {
        "colab": {
          "base_uri": "https://localhost:8080/"
        },
        "id": "bqVAcpVHo-Kp",
        "outputId": "909546e6-64ba-444f-8cb2-e174957f6a11"
      },
      "execution_count": 31,
      "outputs": [
        {
          "output_type": "stream",
          "name": "stdout",
          "text": [
            "yaşınızı giriniz: 56\n",
            "Artık yasal olarak oy kullanabilirsin\n"
          ]
        }
      ]
    },
    {
      "cell_type": "code",
      "source": [
        "#girilen sayının tek, çift olduğunu anlayan program\n",
        "\n",
        "sayi = int(input(\"Sayı giriniz: \"))\n",
        "\n",
        "if sayi %2 ==0:\n",
        "  print(f\"{sayi} sı çifttir\")\n",
        "else:\n",
        "  print(f\"{sayi} sı tektir\")"
      ],
      "metadata": {
        "colab": {
          "base_uri": "https://localhost:8080/"
        },
        "id": "7wRafwB-qDVT",
        "outputId": "a8064e4a-1219-4a1e-ef29-3bd802319085"
      },
      "execution_count": 33,
      "outputs": [
        {
          "output_type": "stream",
          "name": "stdout",
          "text": [
            "Sayı giriniz: 54\n",
            "54 sı çifttir\n"
          ]
        }
      ]
    },
    {
      "cell_type": "code",
      "source": [
        "#bir sayının işaretini inceleyen program\n",
        "sayi = float(input(\"Biri sayı giriniz: \"))\n",
        "\n",
        "if sayi ==0:\n",
        "  print(f\"Girdiğin sayı {sayi} olduğundan işaret yoktur!\")\n",
        "elif sayi>0:\n",
        "  print(f\"Girdiğin sayı: {sayi} pozitiftir... \")\n",
        "else: \n",
        "  print(f\"Girdiğin sayı: {sayi} negatiftri... \")\n"
      ],
      "metadata": {
        "colab": {
          "base_uri": "https://localhost:8080/"
        },
        "id": "KU3yPl00qwip",
        "outputId": "0b75bbb3-fc71-4890-99f8-5a38f2d93aec"
      },
      "execution_count": 35,
      "outputs": [
        {
          "output_type": "stream",
          "name": "stdout",
          "text": [
            "Biri sayı giriniz: 0\n",
            "Girdiğin sayı 0.0 olduğundan işaret yoktur!\n"
          ]
        }
      ]
    },
    {
      "cell_type": "code",
      "source": [
        "#listeler..."
      ],
      "metadata": {
        "id": "tScWcMUor9rh"
      },
      "execution_count": null,
      "outputs": []
    },
    {
      "cell_type": "code",
      "source": [
        "rakamlar = [0,1,2,3,4,5]"
      ],
      "metadata": {
        "id": "OQ3DbP1Xuzxw"
      },
      "execution_count": 36,
      "outputs": []
    },
    {
      "cell_type": "code",
      "source": [
        "type(rakamlar)"
      ],
      "metadata": {
        "colab": {
          "base_uri": "https://localhost:8080/"
        },
        "id": "AWdpnDLHu34e",
        "outputId": "8b2ee252-b7a4-44d6-c1ed-9271e706b8bb"
      },
      "execution_count": 37,
      "outputs": [
        {
          "output_type": "execute_result",
          "data": {
            "text/plain": [
              "list"
            ]
          },
          "metadata": {},
          "execution_count": 37
        }
      ]
    },
    {
      "cell_type": "code",
      "source": [
        "rakamlar.append(6)"
      ],
      "metadata": {
        "id": "Q3sCjMKMvOlo"
      },
      "execution_count": 39,
      "outputs": []
    },
    {
      "cell_type": "code",
      "source": [
        "rakamlar"
      ],
      "metadata": {
        "colab": {
          "base_uri": "https://localhost:8080/"
        },
        "id": "c0ELAM_RvTcU",
        "outputId": "f04f26e7-72bd-4587-e9c0-f842b017afaa"
      },
      "execution_count": 40,
      "outputs": [
        {
          "output_type": "execute_result",
          "data": {
            "text/plain": [
              "[0, 1, 2, 3, 4, 5, 6]"
            ]
          },
          "metadata": {},
          "execution_count": 40
        }
      ]
    },
    {
      "cell_type": "code",
      "source": [
        "rakamlar[5]"
      ],
      "metadata": {
        "colab": {
          "base_uri": "https://localhost:8080/"
        },
        "id": "5_qp1YQMvXub",
        "outputId": "80f250ab-5b36-4317-b3d3-93220371a336"
      },
      "execution_count": 41,
      "outputs": [
        {
          "output_type": "execute_result",
          "data": {
            "text/plain": [
              "5"
            ]
          },
          "metadata": {},
          "execution_count": 41
        }
      ]
    },
    {
      "cell_type": "code",
      "source": [
        "len(rakamlar)"
      ],
      "metadata": {
        "colab": {
          "base_uri": "https://localhost:8080/"
        },
        "id": "IoLnIl_avi7h",
        "outputId": "e12330e4-37e2-4e07-fa5c-0db3433fe3a8"
      },
      "execution_count": 42,
      "outputs": [
        {
          "output_type": "execute_result",
          "data": {
            "text/plain": [
              "7"
            ]
          },
          "metadata": {},
          "execution_count": 42
        }
      ]
    },
    {
      "cell_type": "code",
      "source": [
        "ad = \"Muhammed\"\n",
        "liste = list(ad)\n",
        "liste"
      ],
      "metadata": {
        "colab": {
          "base_uri": "https://localhost:8080/"
        },
        "id": "GGWTKgOivrhu",
        "outputId": "d45cb649-6c49-4b0f-93a4-2c4d71cfbbb5"
      },
      "execution_count": 44,
      "outputs": [
        {
          "output_type": "execute_result",
          "data": {
            "text/plain": [
              "['M', 'u', 'h', 'a', 'm', 'm', 'e', 'd']"
            ]
          },
          "metadata": {},
          "execution_count": 44
        }
      ]
    },
    {
      "cell_type": "code",
      "source": [
        "yeniliste = 5*liste\n",
        "yeniliste"
      ],
      "metadata": {
        "colab": {
          "base_uri": "https://localhost:8080/"
        },
        "id": "05tUskwbv7_R",
        "outputId": "97b67361-0ef4-4677-efb9-f0370f382c31"
      },
      "execution_count": 46,
      "outputs": [
        {
          "output_type": "execute_result",
          "data": {
            "text/plain": [
              "['M',\n",
              " 'u',\n",
              " 'h',\n",
              " 'a',\n",
              " 'm',\n",
              " 'm',\n",
              " 'e',\n",
              " 'd',\n",
              " 'M',\n",
              " 'u',\n",
              " 'h',\n",
              " 'a',\n",
              " 'm',\n",
              " 'm',\n",
              " 'e',\n",
              " 'd',\n",
              " 'M',\n",
              " 'u',\n",
              " 'h',\n",
              " 'a',\n",
              " 'm',\n",
              " 'm',\n",
              " 'e',\n",
              " 'd',\n",
              " 'M',\n",
              " 'u',\n",
              " 'h',\n",
              " 'a',\n",
              " 'm',\n",
              " 'm',\n",
              " 'e',\n",
              " 'd',\n",
              " 'M',\n",
              " 'u',\n",
              " 'h',\n",
              " 'a',\n",
              " 'm',\n",
              " 'm',\n",
              " 'e',\n",
              " 'd']"
            ]
          },
          "metadata": {},
          "execution_count": 46
        }
      ]
    },
    {
      "cell_type": "code",
      "source": [
        "#for döngüsü....\n",
        "\n",
        "rakamlar = [0,1,2,3,4,5,6,7,8,9]\n",
        "\n",
        "for i in rakamlar:\n",
        "  print(f\"{i}-rakamdır\")\n"
      ],
      "metadata": {
        "colab": {
          "base_uri": "https://localhost:8080/"
        },
        "id": "zRTGbZ02wC-n",
        "outputId": "c1997507-125e-4551-aa7e-4933a167a98a"
      },
      "execution_count": 48,
      "outputs": [
        {
          "output_type": "stream",
          "name": "stdout",
          "text": [
            "0-rakamdır\n",
            "1-rakamdır\n",
            "2-rakamdır\n",
            "3-rakamdır\n",
            "4-rakamdır\n",
            "5-rakamdır\n",
            "6-rakamdır\n",
            "7-rakamdır\n",
            "8-rakamdır\n",
            "9-rakamdır\n"
          ]
        }
      ]
    },
    {
      "cell_type": "code",
      "source": [
        "giderler = [100,300,5000,679,9000,490]\n",
        "\n",
        "toplam = 0\n",
        "for i in giderler:\n",
        "  toplam = toplam +i\n",
        "print(f\"Bu ayki toplam gideler: {toplam}\")"
      ],
      "metadata": {
        "colab": {
          "base_uri": "https://localhost:8080/"
        },
        "id": "H7sk2bT3woSt",
        "outputId": "f27e1c9c-8a7b-4bcf-e309-7523afc71370"
      },
      "execution_count": 52,
      "outputs": [
        {
          "output_type": "stream",
          "name": "stdout",
          "text": [
            "Bu ayki toplam gideler: 15569\n"
          ]
        }
      ]
    },
    {
      "cell_type": "code",
      "source": [
        "#faktöriyel hesaplama...5!=5*4*3*2*1\n",
        "#5! hesaplama\n",
        "faktoriyel = 1\n",
        "for i in range(1,6):\n",
        "  faktoriyel = faktoriyel*i\n",
        "  print(f\"{i} nin faktöriyeli:{faktoriyel} \")"
      ],
      "metadata": {
        "colab": {
          "base_uri": "https://localhost:8080/"
        },
        "id": "P5S7Y1tkxmxE",
        "outputId": "319dfafd-6dcf-4996-f39f-b676bb30ec77"
      },
      "execution_count": 55,
      "outputs": [
        {
          "output_type": "stream",
          "name": "stdout",
          "text": [
            "1 nin faktöriyeli:1 \n",
            "2 nin faktöriyeli:2 \n",
            "3 nin faktöriyeli:6 \n",
            "4 nin faktöriyeli:24 \n",
            "5 nin faktöriyeli:120 \n"
          ]
        }
      ]
    },
    {
      "cell_type": "code",
      "source": [
        "sayi = int(input(\"faktöriyelini bulmak istediğiniz sayıyı giriniz: \"))\n",
        "\n",
        "faktoriyel = 1\n",
        "for i in range(1,sayi+1):\n",
        "  faktoriyel = faktoriyel*i\n",
        "print(f\"{i} sayısının faktöriyeli:{faktoriyel} \")"
      ],
      "metadata": {
        "colab": {
          "base_uri": "https://localhost:8080/"
        },
        "id": "SDtH8kfhyX99",
        "outputId": "ead1f9c5-b837-4b29-d0f1-4e25fa458e9a"
      },
      "execution_count": 58,
      "outputs": [
        {
          "output_type": "stream",
          "name": "stdout",
          "text": [
            "faktöriyelini bulmak istediğiniz sayıyı giriniz: 100\n",
            "100 sayısının faktöriyeli:93326215443944152681699238856266700490715968264381621468592963895217599993229915608941463976156518286253697920827223758251185210916864000000000000000000000000 \n"
          ]
        }
      ]
    },
    {
      "cell_type": "code",
      "source": [
        "#while döngüsü\n",
        "\n",
        "i = 1\n",
        "while i<10:\n",
        "  print(f\"{i}-merhaba\")\n",
        "  i = i+1"
      ],
      "metadata": {
        "colab": {
          "base_uri": "https://localhost:8080/"
        },
        "id": "Am-Acq2ryvvM",
        "outputId": "0cd8080d-e8a0-4755-d7da-aaceb5e42f98"
      },
      "execution_count": 60,
      "outputs": [
        {
          "output_type": "stream",
          "name": "stdout",
          "text": [
            "1-merhaba\n",
            "2-merhaba\n",
            "3-merhaba\n",
            "4-merhaba\n",
            "5-merhaba\n",
            "6-merhaba\n",
            "7-merhaba\n",
            "8-merhaba\n",
            "9-merhaba\n"
          ]
        }
      ]
    },
    {
      "cell_type": "code",
      "source": [
        "#while döngüsü\n",
        "\n",
        "i = 1\n",
        "while i<10:\n",
        "  i = i+1\n",
        "  print(f\"{i}-merhaba\")\n",
        "  "
      ],
      "metadata": {
        "colab": {
          "base_uri": "https://localhost:8080/"
        },
        "id": "4P7wq094zCTJ",
        "outputId": "74ab42b5-20af-4328-f773-eff6098c20d3"
      },
      "execution_count": 61,
      "outputs": [
        {
          "output_type": "stream",
          "name": "stdout",
          "text": [
            "2-merhaba\n",
            "3-merhaba\n",
            "4-merhaba\n",
            "5-merhaba\n",
            "6-merhaba\n",
            "7-merhaba\n",
            "8-merhaba\n",
            "9-merhaba\n",
            "10-merhaba\n"
          ]
        }
      ]
    }
  ]
}