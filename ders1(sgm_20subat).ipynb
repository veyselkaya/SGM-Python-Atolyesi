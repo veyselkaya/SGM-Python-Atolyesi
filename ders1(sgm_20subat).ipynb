{
  "nbformat": 4,
  "nbformat_minor": 0,
  "metadata": {
    "colab": {
      "name": "ders1(sgm-20subat).ipynb",
      "provenance": [],
      "collapsed_sections": []
    },
    "kernelspec": {
      "name": "python3",
      "display_name": "Python 3"
    },
    "language_info": {
      "name": "python"
    }
  },
  "cells": [
    {
      "cell_type": "code",
      "execution_count": 1,
      "metadata": {
        "id": "x2pm-6J2M0G4",
        "colab": {
          "base_uri": "https://localhost:8080/"
        },
        "outputId": "dc370247-e318-4a48-87f1-27087b403bba"
      },
      "outputs": [
        {
          "output_type": "execute_result",
          "data": {
            "text/plain": [
              "10"
            ]
          },
          "metadata": {},
          "execution_count": 1
        }
      ],
      "source": [
        "5+5"
      ]
    },
    {
      "cell_type": "code",
      "source": [
        "567654**45"
      ],
      "metadata": {
        "colab": {
          "base_uri": "https://localhost:8080/"
        },
        "id": "YxiK947hN5LO",
        "outputId": "f4b76586-6530-469c-e898-7c871bd6af35"
      },
      "execution_count": 3,
      "outputs": [
        {
          "output_type": "execute_result",
          "data": {
            "text/plain": [
              "8585520142640890928505337113548782908434807062954774719953018834359053774410819860327421384809295188144021710000170495659927313398427624601608280799578408815026123493163871909342996331373653836649694972758650128331154919028667813433944398141217381056694452224"
            ]
          },
          "metadata": {},
          "execution_count": 3
        }
      ]
    },
    {
      "cell_type": "code",
      "source": [
        "\"merhaba\""
      ],
      "metadata": {
        "colab": {
          "base_uri": "https://localhost:8080/",
          "height": 35
        },
        "id": "2qvsHufGN5Rx",
        "outputId": "98119854-c7ec-4bf2-9cf2-34655a0f8627"
      },
      "execution_count": 4,
      "outputs": [
        {
          "output_type": "execute_result",
          "data": {
            "application/vnd.google.colaboratory.intrinsic+json": {
              "type": "string"
            },
            "text/plain": [
              "'merhaba'"
            ]
          },
          "metadata": {},
          "execution_count": 4
        }
      ]
    },
    {
      "cell_type": "code",
      "source": [
        "# yorum satırı için # kullanılır\n",
        "\n",
        "#Temel veri yapıları.... string, integer, float, liste, boolean..."
      ],
      "metadata": {
        "id": "adwdBKHjOH6Y"
      },
      "execution_count": null,
      "outputs": []
    },
    {
      "cell_type": "code",
      "source": [
        "#string: yazı, karakter içeren veri türüdür...string ifaldeler yazılırken \"\" kullanılır.... ''  olabilir....\n",
        "#print() fonksiyonu"
      ],
      "metadata": {
        "id": "x_IVQncOOWse"
      },
      "execution_count": null,
      "outputs": []
    },
    {
      "cell_type": "code",
      "source": [
        "print(\"Merhaba ŞGMAL\")"
      ],
      "metadata": {
        "colab": {
          "base_uri": "https://localhost:8080/"
        },
        "id": "fLMF9Kx2OoxV",
        "outputId": "fdcfe8c6-ced2-4eee-a71b-9cb8fef337ab"
      },
      "execution_count": 5,
      "outputs": [
        {
          "output_type": "stream",
          "name": "stdout",
          "text": [
            "Merhaba ŞGMAL\n"
          ]
        }
      ]
    },
    {
      "cell_type": "code",
      "source": [
        "print(\"\"\"Lorem ipsum dolor sit amet, \n",
        "consectetur adipiscing elit\"\"\")"
      ],
      "metadata": {
        "colab": {
          "base_uri": "https://localhost:8080/"
        },
        "id": "q075mq_4O3Dq",
        "outputId": "5efc979b-8b74-4b96-b7e7-d5c1f76ad580"
      },
      "execution_count": 10,
      "outputs": [
        {
          "output_type": "stream",
          "name": "stdout",
          "text": [
            "Lorem ipsum dolor sit amet, \n",
            "consectetur adipiscing elit\n"
          ]
        }
      ]
    },
    {
      "cell_type": "code",
      "source": [
        "print('''Lorem ipsum dolor sit amet, \n",
        "consectetur adipiscing elit''')"
      ],
      "metadata": {
        "colab": {
          "base_uri": "https://localhost:8080/"
        },
        "id": "fO7RLJe0PU87",
        "outputId": "d925a782-649b-4ae6-ae6c-35b5b1fa990b"
      },
      "execution_count": 11,
      "outputs": [
        {
          "output_type": "stream",
          "name": "stdout",
          "text": [
            "Lorem ipsum dolor sit amet, \n",
            "consectetur adipiscing elit\n"
          ]
        }
      ]
    },
    {
      "cell_type": "code",
      "source": [
        "print(45*89)"
      ],
      "metadata": {
        "colab": {
          "base_uri": "https://localhost:8080/"
        },
        "id": "wjUDWE-fPa58",
        "outputId": "7558de07-63ac-4ea9-c063-39f73a0b2c0a"
      },
      "execution_count": 12,
      "outputs": [
        {
          "output_type": "stream",
          "name": "stdout",
          "text": [
            "4005\n"
          ]
        }
      ]
    },
    {
      "cell_type": "code",
      "source": [
        "print(\"45*56 İşleminin sonucu:\", 45*56, \"dir.\")"
      ],
      "metadata": {
        "colab": {
          "base_uri": "https://localhost:8080/"
        },
        "id": "_9nA8oG-Pexc",
        "outputId": "034276a6-8cdc-44c7-e33d-be15bf1e9529"
      },
      "execution_count": 16,
      "outputs": [
        {
          "output_type": "stream",
          "name": "stdout",
          "text": [
            " 45*56 İşleminin sonucu: 2520 dir\n"
          ]
        }
      ]
    },
    {
      "cell_type": "code",
      "source": [
        "print(\"Benim adım Veysel\")\n",
        "print(\"Matematik  öğretmeniyim.\" )\n",
        "print(\"Yazılım ile ilgileniyorum.\")"
      ],
      "metadata": {
        "colab": {
          "base_uri": "https://localhost:8080/"
        },
        "id": "gsITMFwCQFoV",
        "outputId": "2a4ab9ed-7164-4576-ba2d-f00c4c193f8b"
      },
      "execution_count": 19,
      "outputs": [
        {
          "output_type": "stream",
          "name": "stdout",
          "text": [
            "Benim adım Veysel\n",
            "Matematik  öğretmeniyim.\n",
            "Yazılım ile ilgileniyorum.\n"
          ]
        }
      ]
    },
    {
      "cell_type": "code",
      "source": [
        "print(\"Benim adım Veysel. \\nMatematik  öğretmeniyim. \\nYazılım ile ilgileniyorum.\")"
      ],
      "metadata": {
        "colab": {
          "base_uri": "https://localhost:8080/"
        },
        "id": "U_QVMe07P1hc",
        "outputId": "80612743-7635-4f41-f8a9-beba2a59d79a"
      },
      "execution_count": 18,
      "outputs": [
        {
          "output_type": "stream",
          "name": "stdout",
          "text": [
            "Benim adım veysel. \n",
            "Matematik  öğretmeniyim. \n",
            "Yazılım ile ilgileniyorum.\n"
          ]
        }
      ]
    },
    {
      "cell_type": "code",
      "source": [
        "#help fonksiyonu"
      ],
      "metadata": {
        "id": "pHr1dMuKQeGB"
      },
      "execution_count": null,
      "outputs": []
    },
    {
      "cell_type": "code",
      "source": [
        "help(print)"
      ],
      "metadata": {
        "colab": {
          "base_uri": "https://localhost:8080/"
        },
        "id": "0fTEcnWLQiFq",
        "outputId": "357300f4-2fea-43c5-ab5d-046a50d4e227"
      },
      "execution_count": 20,
      "outputs": [
        {
          "output_type": "stream",
          "name": "stdout",
          "text": [
            "Help on built-in function print in module builtins:\n",
            "\n",
            "print(...)\n",
            "    print(value, ..., sep=' ', end='\\n', file=sys.stdout, flush=False)\n",
            "    \n",
            "    Prints the values to a stream, or to sys.stdout by default.\n",
            "    Optional keyword arguments:\n",
            "    file:  a file-like object (stream); defaults to the current sys.stdout.\n",
            "    sep:   string inserted between values, default a space.\n",
            "    end:   string appended after the last value, default a newline.\n",
            "    flush: whether to forcibly flush the stream.\n",
            "\n"
          ]
        }
      ]
    },
    {
      "cell_type": "code",
      "source": [
        "print(\"TBMM\")"
      ],
      "metadata": {
        "colab": {
          "base_uri": "https://localhost:8080/"
        },
        "id": "2lCJyqlJQqPA",
        "outputId": "0a100cce-88ee-4d5b-b178-18c3c243293a"
      },
      "execution_count": 22,
      "outputs": [
        {
          "output_type": "stream",
          "name": "stdout",
          "text": [
            "TBMM\n"
          ]
        }
      ]
    },
    {
      "cell_type": "code",
      "source": [
        "print(*\"TBMM\", sep=\".\")"
      ],
      "metadata": {
        "colab": {
          "base_uri": "https://localhost:8080/"
        },
        "id": "yU5nzSHWQ0Zb",
        "outputId": "4881c324-2c9b-4ceb-9889-f84621922e47"
      },
      "execution_count": 23,
      "outputs": [
        {
          "output_type": "stream",
          "name": "stdout",
          "text": [
            "T.B.M.M\n"
          ]
        }
      ]
    },
    {
      "cell_type": "code",
      "source": [
        "print(*\"0123456789\", sep=\"-\")"
      ],
      "metadata": {
        "colab": {
          "base_uri": "https://localhost:8080/"
        },
        "id": "K3WXlPusQ6iQ",
        "outputId": "f4743297-1987-40ee-e1fb-0cd2f6c0f536"
      },
      "execution_count": 25,
      "outputs": [
        {
          "output_type": "stream",
          "name": "stdout",
          "text": [
            "0-1-2-3-4-5-6-7-8-9\n"
          ]
        }
      ]
    },
    {
      "cell_type": "code",
      "source": [
        "#integer....int...tam sayılar..."
      ],
      "metadata": {
        "id": "TIXz3FS5REkc"
      },
      "execution_count": null,
      "outputs": []
    },
    {
      "cell_type": "code",
      "source": [
        "print(45/6 +56)"
      ],
      "metadata": {
        "colab": {
          "base_uri": "https://localhost:8080/"
        },
        "id": "FqvlsTnARIpg",
        "outputId": "5955e0d4-2f7e-467e-fd70-e73f29ebfcd3"
      },
      "execution_count": 26,
      "outputs": [
        {
          "output_type": "stream",
          "name": "stdout",
          "text": [
            "63.5\n"
          ]
        }
      ]
    },
    {
      "cell_type": "code",
      "source": [
        "#değişken atama... işlemi = eşittr ile yapılır..."
      ],
      "metadata": {
        "id": "PqPcZkzyRQJP"
      },
      "execution_count": null,
      "outputs": []
    },
    {
      "cell_type": "code",
      "source": [
        "a = 90\n",
        "b = 78\n",
        "\n",
        "toplam = a+b\n",
        "carpimlari = a*b\n",
        "print(\"Toplama işleminin sonucu: \", toplam)\n",
        "print(\"Çarpımları: \", carpimlari)"
      ],
      "metadata": {
        "colab": {
          "base_uri": "https://localhost:8080/"
        },
        "id": "bTw3AsMbRe4z",
        "outputId": "522d1b29-5bf5-4811-ab77-3ee3b8d65b8c"
      },
      "execution_count": 32,
      "outputs": [
        {
          "output_type": "stream",
          "name": "stdout",
          "text": [
            "Toplama işleminin sonucu:  168\n",
            "Çarpımları:  7020\n"
          ]
        }
      ]
    },
    {
      "cell_type": "code",
      "source": [
        "#type() bir veri türünün ne olduğunu söyler..."
      ],
      "metadata": {
        "id": "MZVcu4ZHSRbB"
      },
      "execution_count": null,
      "outputs": []
    },
    {
      "cell_type": "code",
      "source": [
        "type(5)"
      ],
      "metadata": {
        "colab": {
          "base_uri": "https://localhost:8080/"
        },
        "id": "rPLcry8OSWUi",
        "outputId": "707f7ecd-f97e-44c3-c4a8-5a45ba1c2523"
      },
      "execution_count": 33,
      "outputs": [
        {
          "output_type": "execute_result",
          "data": {
            "text/plain": [
              "int"
            ]
          },
          "metadata": {},
          "execution_count": 33
        }
      ]
    },
    {
      "cell_type": "code",
      "source": [
        "type(\"kedi\")"
      ],
      "metadata": {
        "colab": {
          "base_uri": "https://localhost:8080/"
        },
        "id": "IVl0mSVJSZWg",
        "outputId": "48c2a95c-26b8-4f10-b6f8-afb1994fedf1"
      },
      "execution_count": 34,
      "outputs": [
        {
          "output_type": "execute_result",
          "data": {
            "text/plain": [
              "str"
            ]
          },
          "metadata": {},
          "execution_count": 34
        }
      ]
    },
    {
      "cell_type": "code",
      "source": [
        "a=\"5\"\n",
        "b=10\n",
        "\n",
        "toplam = a+b\n",
        "\n",
        "print(toplam)\n"
      ],
      "metadata": {
        "colab": {
          "base_uri": "https://localhost:8080/",
          "height": 240
        },
        "id": "fbnuijnaSenK",
        "outputId": "7a24cd08-ea04-4fc7-cb97-f330c8ab2aae"
      },
      "execution_count": 35,
      "outputs": [
        {
          "output_type": "error",
          "ename": "TypeError",
          "evalue": "ignored",
          "traceback": [
            "\u001b[0;31m---------------------------------------------------------------------------\u001b[0m",
            "\u001b[0;31mTypeError\u001b[0m                                 Traceback (most recent call last)",
            "\u001b[0;32m<ipython-input-35-e6ad31bb1b10>\u001b[0m in \u001b[0;36m<module>\u001b[0;34m()\u001b[0m\n\u001b[1;32m      2\u001b[0m \u001b[0mb\u001b[0m\u001b[0;34m=\u001b[0m\u001b[0;36m10\u001b[0m\u001b[0;34m\u001b[0m\u001b[0;34m\u001b[0m\u001b[0m\n\u001b[1;32m      3\u001b[0m \u001b[0;34m\u001b[0m\u001b[0m\n\u001b[0;32m----> 4\u001b[0;31m \u001b[0mtoplam\u001b[0m \u001b[0;34m=\u001b[0m \u001b[0ma\u001b[0m\u001b[0;34m+\u001b[0m\u001b[0mb\u001b[0m\u001b[0;34m\u001b[0m\u001b[0;34m\u001b[0m\u001b[0m\n\u001b[0m\u001b[1;32m      5\u001b[0m \u001b[0;34m\u001b[0m\u001b[0m\n\u001b[1;32m      6\u001b[0m \u001b[0mprint\u001b[0m\u001b[0;34m(\u001b[0m\u001b[0mtoplam\u001b[0m\u001b[0;34m)\u001b[0m\u001b[0;34m\u001b[0m\u001b[0;34m\u001b[0m\u001b[0m\n",
            "\u001b[0;31mTypeError\u001b[0m: can only concatenate str (not \"int\") to str"
          ]
        }
      ]
    },
    {
      "cell_type": "code",
      "source": [
        "#veri türün dönüştürme...\n",
        "\n",
        "a=\"5\"\n",
        "b=10\n",
        "\n",
        "a = int(a)\n",
        "\n",
        "toplam = a+b\n",
        "\n",
        "print(toplam)"
      ],
      "metadata": {
        "colab": {
          "base_uri": "https://localhost:8080/"
        },
        "id": "4OPn_Cs4SrxQ",
        "outputId": "f8529c73-ed99-4ec9-ff53-56a106d884f2"
      },
      "execution_count": 39,
      "outputs": [
        {
          "output_type": "stream",
          "name": "stdout",
          "text": [
            "15\n"
          ]
        }
      ]
    },
    {
      "cell_type": "code",
      "source": [
        "ad = \"veysel\"\n",
        "soyad = \" kaya\"\n",
        "\n",
        "print(ad+soyad)"
      ],
      "metadata": {
        "colab": {
          "base_uri": "https://localhost:8080/"
        },
        "id": "fhMV00AbYBKO",
        "outputId": "8af894ad-8664-4a2e-ce22-ea326a3fd797"
      },
      "execution_count": 57,
      "outputs": [
        {
          "output_type": "stream",
          "name": "stdout",
          "text": [
            "veysel kaya\n"
          ]
        }
      ]
    },
    {
      "cell_type": "code",
      "source": [
        "yas = 20\n",
        "yas = yas +1\n",
        "\n",
        "print(yas)"
      ],
      "metadata": {
        "colab": {
          "base_uri": "https://localhost:8080/"
        },
        "id": "2MaJby7RTNfh",
        "outputId": "b4dfc17d-682e-476e-b058-7824316dbd25"
      },
      "execution_count": 42,
      "outputs": [
        {
          "output_type": "stream",
          "name": "stdout",
          "text": [
            "21\n"
          ]
        }
      ]
    },
    {
      "cell_type": "code",
      "source": [
        "ad = 123\n",
        "\n",
        "ad = str(ad)\n",
        "\n",
        "print(ad)\n",
        "type(ad)"
      ],
      "metadata": {
        "colab": {
          "base_uri": "https://localhost:8080/"
        },
        "id": "VUP-RoLkTmwp",
        "outputId": "7e1b7880-2aca-4a1c-d03d-8e97b15fcc5c"
      },
      "execution_count": 44,
      "outputs": [
        {
          "output_type": "stream",
          "name": "stdout",
          "text": [
            "123\n"
          ]
        },
        {
          "output_type": "execute_result",
          "data": {
            "text/plain": [
              "str"
            ]
          },
          "metadata": {},
          "execution_count": 44
        }
      ]
    },
    {
      "cell_type": "code",
      "source": [
        "#Matematiksel operatörler.... +, -, *, /, **, //, %"
      ],
      "metadata": {
        "id": "O8UCP_fXT1Gm"
      },
      "execution_count": null,
      "outputs": []
    },
    {
      "cell_type": "code",
      "source": [
        "6+5"
      ],
      "metadata": {
        "colab": {
          "base_uri": "https://localhost:8080/"
        },
        "id": "tTq6WpWGT_r8",
        "outputId": "a92f9692-aaa9-4540-bb47-d2698e613b86"
      },
      "execution_count": 45,
      "outputs": [
        {
          "output_type": "execute_result",
          "data": {
            "text/plain": [
              "11"
            ]
          },
          "metadata": {},
          "execution_count": 45
        }
      ]
    },
    {
      "cell_type": "code",
      "source": [
        "6-5"
      ],
      "metadata": {
        "colab": {
          "base_uri": "https://localhost:8080/"
        },
        "id": "CV7fXbu4UA9z",
        "outputId": "211bd3e4-c656-4f5d-c90e-2f43981ef660"
      },
      "execution_count": 46,
      "outputs": [
        {
          "output_type": "execute_result",
          "data": {
            "text/plain": [
              "1"
            ]
          },
          "metadata": {},
          "execution_count": 46
        }
      ]
    },
    {
      "cell_type": "code",
      "source": [
        "6/5"
      ],
      "metadata": {
        "colab": {
          "base_uri": "https://localhost:8080/"
        },
        "id": "VXvm539XUCWT",
        "outputId": "3f0f320c-ca43-4ad8-f030-0dc436076f8d"
      },
      "execution_count": 47,
      "outputs": [
        {
          "output_type": "execute_result",
          "data": {
            "text/plain": [
              "1.2"
            ]
          },
          "metadata": {},
          "execution_count": 47
        }
      ]
    },
    {
      "cell_type": "code",
      "source": [
        "2**3"
      ],
      "metadata": {
        "colab": {
          "base_uri": "https://localhost:8080/"
        },
        "id": "_SPlKBRuUEEE",
        "outputId": "f52091c5-eec9-4a13-a429-e596ea48a8fb"
      },
      "execution_count": 49,
      "outputs": [
        {
          "output_type": "execute_result",
          "data": {
            "text/plain": [
              "8"
            ]
          },
          "metadata": {},
          "execution_count": 49
        }
      ]
    },
    {
      "cell_type": "code",
      "source": [
        "30//7"
      ],
      "metadata": {
        "colab": {
          "base_uri": "https://localhost:8080/"
        },
        "id": "zeXgQgpKUHu-",
        "outputId": "21be6fc8-d5a6-49f9-fa65-29af69205fe4"
      },
      "execution_count": 50,
      "outputs": [
        {
          "output_type": "execute_result",
          "data": {
            "text/plain": [
              "4"
            ]
          },
          "metadata": {},
          "execution_count": 50
        }
      ]
    },
    {
      "cell_type": "code",
      "source": [
        "30%7"
      ],
      "metadata": {
        "colab": {
          "base_uri": "https://localhost:8080/"
        },
        "id": "A3GnMiYKUMGl",
        "outputId": "fe434830-7fb8-4a3d-9543-811688116554"
      },
      "execution_count": 51,
      "outputs": [
        {
          "output_type": "execute_result",
          "data": {
            "text/plain": [
              "2"
            ]
          },
          "metadata": {},
          "execution_count": 51
        }
      ]
    },
    {
      "cell_type": "code",
      "source": [
        "#input() fonksiyonu..... kullanıcıdan veri laan fonksiyon..."
      ],
      "metadata": {
        "id": "gyNy4ENCUXSt"
      },
      "execution_count": null,
      "outputs": []
    },
    {
      "cell_type": "code",
      "source": [
        "ad = input(\"adın soyadın ne?: \")\n",
        "\n",
        "print(\"Hoşgeldin\", ad)"
      ],
      "metadata": {
        "colab": {
          "base_uri": "https://localhost:8080/"
        },
        "id": "OgUsSQa3UcZw",
        "outputId": "2b7e3d90-9b75-4e0f-d682-7ddd2cfd1951"
      },
      "execution_count": 53,
      "outputs": [
        {
          "output_type": "stream",
          "name": "stdout",
          "text": [
            "adın soyadın ne?: veysel kaya\n",
            "Hoşgeldin veysel kaya\n"
          ]
        }
      ]
    },
    {
      "cell_type": "code",
      "source": [
        "#kullanıcıdan iki sayı alıp toplamını söyleyen program...!\n",
        "\n",
        "sayi1 = input(\"birinci sayıyı gir: \")\n",
        "sayi2 = input(\"ikinci sayıyı gir: \")\n",
        "\n",
        "toplam =sayi1+ sayi2\n",
        "\n",
        "print(\"Girdiğin sayışarın toplamı: \", toplam)"
      ],
      "metadata": {
        "colab": {
          "base_uri": "https://localhost:8080/"
        },
        "id": "xe-gn-rbYXUi",
        "outputId": "d66e399b-e624-4749-a4a3-2846a2a066d1"
      },
      "execution_count": 59,
      "outputs": [
        {
          "output_type": "stream",
          "name": "stdout",
          "text": [
            "birinci sayıyı gir: 25\n",
            "ikinci sayıyı gir: 10\n",
            "Girdiğin sayışarın toplamı:  2510\n"
          ]
        }
      ]
    },
    {
      "cell_type": "code",
      "source": [
        "#kullanıcıdan iki sayı alıp toplamını söyleyen program...!\n",
        "\n",
        "sayi1 = input(\"birinci sayıyı gir: \")\n",
        "sayi2 = input(\"ikinci sayıyı gir: \")\n",
        "\n",
        "toplam = int(sayi1)+ int(sayi2)\n",
        "\n",
        "print(\"Girdiğin sayışarın toplamı: \", toplam)"
      ],
      "metadata": {
        "colab": {
          "base_uri": "https://localhost:8080/"
        },
        "id": "S1r2V6L8Y4Ff",
        "outputId": "9d45d8e9-da31-483f-b805-44469d16ae34"
      },
      "execution_count": 60,
      "outputs": [
        {
          "output_type": "stream",
          "name": "stdout",
          "text": [
            "birinci sayıyı gir: 25\n",
            "ikinci sayıyı gir: 10\n",
            "Girdiğin sayışarın toplamı:  35\n"
          ]
        }
      ]
    },
    {
      "cell_type": "code",
      "source": [
        "#kullanıcıdan iki sayı alıp toplamını söyleyen program...!\n",
        "\n",
        "sayi1 = int(input(\"birinci sayıyı gir: \"))\n",
        "sayi2 = int(input(\"ikinci sayıyı gir: \"))\n",
        "\n",
        "toplam = sayi1+ sayi2\n",
        "\n",
        "print(\"Girdiğin sayışarın toplamı: \", toplam)"
      ],
      "metadata": {
        "colab": {
          "base_uri": "https://localhost:8080/"
        },
        "id": "JLZw-XH-ZAV0",
        "outputId": "53eeb2d2-0fee-4edd-fa93-b24475a2faea"
      },
      "execution_count": 63,
      "outputs": [
        {
          "output_type": "stream",
          "name": "stdout",
          "text": [
            "birinci sayıyı gir: 25\n",
            "ikinci sayıyı gir: 10\n",
            "Girdiğin sayışarın toplamı:  35\n"
          ]
        }
      ]
    },
    {
      "cell_type": "code",
      "source": [
        "#kullanıcıdan 2 sayı alıp 4 temel matematik işleminin sonucunu yazıran program\n",
        "\n",
        "sayi1 = int(input(\"birinci sayıyı gir: \"))\n",
        "sayi2 = int(input(\"ikinci sayıyı gir: \"))\n",
        "\n",
        "toplam = sayi1+sayi2\n",
        "carpim = sayi1*sayi2\n",
        "bolum = sayi1/sayi2\n",
        "cikarma = sayi1-sayi2\n",
        "\n",
        "print(50*\"*\")\n",
        "\n",
        "print(f\"Girdiğin sayılar: {sayi1}, {sayi2}. \\nToplamları: {toplam}. \\nÇarpımları: {carpim}. \\nBölümleri: {bolum}. \\nFarkları: {cikarma} \")"
      ],
      "metadata": {
        "colab": {
          "base_uri": "https://localhost:8080/"
        },
        "id": "f41T2_PLZUKg",
        "outputId": "2291e582-92d0-4f5d-ed38-82438b84ff81"
      },
      "execution_count": 71,
      "outputs": [
        {
          "output_type": "stream",
          "name": "stdout",
          "text": [
            "birinci sayıyı gir: 100\n",
            "ikinci sayıyı gir: 4\n",
            "**************************************************\n",
            "Girdiğin sayılar: 100, 4. \n",
            "Toplamları: 104. \n",
            "Çarpımları: 400. \n",
            "Bölümleri: 25.0. \n",
            "Farkları: 96 \n"
          ]
        }
      ]
    },
    {
      "cell_type": "code",
      "source": [
        "#Kullanıcıdan karenin kenarını alıp alanını ve çevresini hesaplayan python programı...\n",
        "\n",
        "\n",
        "kenar = int(input('Karenin kenarını giriniz: '))\n",
        "\n",
        "alan=kenar*kenar\n",
        "cevre=kenar*4\n",
        "\n",
        "print(50*\"*\")\n",
        "print(f\"karenin kenarı: {kenar}. \\nalan: {alan}. \\nçevre: {cevre} \")\n"
      ],
      "metadata": {
        "colab": {
          "base_uri": "https://localhost:8080/"
        },
        "id": "9dKN3hXca8mj",
        "outputId": "8240601c-e383-4b5e-8a3a-37799398aa2f"
      },
      "execution_count": 80,
      "outputs": [
        {
          "output_type": "stream",
          "name": "stdout",
          "text": [
            "Karenin kenarını giriniz: 10\n",
            "**************************************************\n",
            "karenin kenarı: 10. \n",
            "alan: 100. \n",
            "çevre: 40 \n"
          ]
        }
      ]
    },
    {
      "cell_type": "code",
      "source": [
        "#üçgenin alanını bulan program...\n",
        "\n",
        "taban= int(input(\"üçgenin tabanı: \"))\n",
        "yukseklik= int(input(\"üçgenin yüksekliği: \"))\n",
        "alan= taban*yukseklik/2 \n",
        "\n",
        "print(50*\"*\")\n",
        "print(f\"taban: {taban}, yüksekik: {yukseklik}. \\nüçgenin alanı= {alan}\")"
      ],
      "metadata": {
        "colab": {
          "base_uri": "https://localhost:8080/"
        },
        "id": "MC3Ralw3c9Es",
        "outputId": "2d67a254-4dd5-4e26-c4f4-0549fac5d82e"
      },
      "execution_count": 84,
      "outputs": [
        {
          "output_type": "stream",
          "name": "stdout",
          "text": [
            "üçgenin tabanı: 10\n",
            "üçgenin yüksekliği: 8\n",
            "**************************************************\n",
            "taban: 10, yüksekik: 8. \n",
            "üçgenin alanı= 40.0\n"
          ]
        }
      ]
    },
    {
      "cell_type": "code",
      "source": [
        "#Ödev1: kullanıcıdan 2 sayı alıp...  üs ve kök bulma işlemlerini yaptırınız\n",
        "#Ödev2: dairenin alanı ve çevresini hesaplayan program\n",
        "#Ödev3: diktörtgenler pirzmansını alanını ve hacmini hesaplayan program"
      ],
      "metadata": {
        "id": "f8VbaXtOejgG"
      },
      "execution_count": null,
      "outputs": []
    }
  ]
}