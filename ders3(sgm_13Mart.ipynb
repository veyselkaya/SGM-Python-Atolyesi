{
  "nbformat": 4,
  "nbformat_minor": 0,
  "metadata": {
    "colab": {
      "name": "ders2(sgm_13Mart.ipynb",
      "provenance": [],
      "collapsed_sections": []
    },
    "kernelspec": {
      "name": "python3",
      "display_name": "Python 3"
    },
    "language_info": {
      "name": "python"
    }
  },
  "cells": [
    {
      "cell_type": "code",
      "source": [
        "liste = []"
      ],
      "metadata": {
        "id": "uBb2uND2jgPj"
      },
      "execution_count": 5,
      "outputs": []
    },
    {
      "cell_type": "code",
      "execution_count": 14,
      "metadata": {
        "colab": {
          "base_uri": "https://localhost:8080/"
        },
        "id": "ohVBY4LnjFXB",
        "outputId": "20ef0157-d9fe-486a-ec1f-48c9e0c77610"
      },
      "outputs": [
        {
          "output_type": "stream",
          "name": "stdout",
          "text": [
            "Sinemaya girmek için en az 12 yaşında olmalısınız.\n",
            "**************************************************\n",
            "Adınızı ve soyadınızı giriniz : murat\n",
            "Yaşınızı giriniz : 10\n",
            "**************************************************\n",
            "Sinemaya girmek için 12 yaşından büyük olmanız gerekmektedir.\n",
            "Şu an içerde olan izleyiciler: ['veysel', 'Ahmet', 'kemal', 'eymen']\n"
          ]
        }
      ],
      "source": [
        "#ödev\n",
        "print('Sinemaya girmek için en az 12 yaşında olmalısınız.')\n",
        "print(50*\"*\")\n",
        "\n",
        "adsoyad = str(input('Adınızı ve soyadınızı giriniz : '))\n",
        "yas = int(input('Yaşınızı giriniz : '))\n",
        "\n",
        "print(50*\"*\")\n",
        "\n",
        "if yas > 12 :\n",
        "   liste.append(adsoyad)\n",
        "   print('İyi seyirler.')\n",
        "\n",
        "else:\n",
        "  print('Sinemaya girmek için 12 yaşından büyük olmanız gerekmektedir.')\n",
        "\n",
        "print(f\"Şu an içerde olan izleyiciler: {liste}\")"
      ]
    },
    {
      "cell_type": "code",
      "source": [
        "#kullanıcının şifresini ve kullanıcı adını kontrol eden sistem\n",
        "\n",
        "db_kullaniciAdi= \"kedi\"\n",
        "db_sifre = \"1234\"\n",
        "\n",
        "k_adi = input(\"Kullanıcı adınızı giriniz: \")\n",
        "sifre = input(\"Şifrenizi giriniz: \")\n",
        "\n",
        "if k_adi == db_kullaniciAdi and sifre == db_sifre:\n",
        "  print(\"Giriş bilgileriniz doğru, Hoşgeldiniz...\")\n",
        "elif k_adi == db_kullaniciAdi and sifre != db_sifre:\n",
        "  print(\"Şifreniz hatalı..!\")\n",
        "elif k_adi != db_kullaniciAdi and sifre == db_sifre:\n",
        "  print(\"Kullanıcı adınız hatalı!!\")\n",
        "else:\n",
        "  print(\"Giridğin iki bilgi de hatalı!!!\")"
      ],
      "metadata": {
        "colab": {
          "base_uri": "https://localhost:8080/"
        },
        "id": "6VsRI6tekazk",
        "outputId": "8e19fbfb-fea5-40b4-a712-7c4152140f62"
      },
      "execution_count": 18,
      "outputs": [
        {
          "output_type": "stream",
          "name": "stdout",
          "text": [
            "Kullanıcı adınızı giriniz: portakal\n",
            "Şifrenizi giriniz: 123\n",
            "Giridğin iki bilgi de hatalı!!!\n"
          ]
        }
      ]
    },
    {
      "cell_type": "code",
      "source": [
        "#kullanıcıdan 2 sayı alıp 4 temal işlem yapan hesap makinası\n",
        "\n",
        "print(\"toplama işlemi için: 1, Çarpma işmei için:2, Bölme işlemi için: 3, Çıkarma işlemi için: 4 tuşuna basınız...\")\n",
        "\n",
        "islem= input(\"Lütfen yapmak istediğiniz işlemi seçiniz: \")\n",
        "\n",
        "\n",
        "if islem == \"1\":\n",
        "  print(\"Toplama işlemi seçildi\")\n",
        "  sayi1 = int(input(\"Birinci sayıyı giriniz: \"))\n",
        "  sayi2 = int(input(\"İkinci sayıyı giriniz: \"))\n",
        "  print(f\"Giridğin sayılar: {sayi1}, {sayi2}. Toplamları: {sayi1+sayi2} \")\n",
        "elif islem == \"2\":\n",
        "  print(\"Çarpla işlemi seçildi\")\n",
        "  sayi1 = int(input(\"Birinci sayıyı giriniz: \"))\n",
        "  sayi2 = int(input(\"İkinci sayıyı giriniz: \"))\n",
        "  print(f\"Giridğin sayılar: {sayi1}, {sayi2}. Çarpımları: {sayi1*sayi2} \")\n",
        "elif islem == \"3\":\n",
        "  print(\"Bölme işlemi seçildi\")\n",
        "  sayi1 = int(input(\"Birinci sayıyı giriniz: \"))\n",
        "  sayi2 = int(input(\"İkinci sayıyı giriniz: \"))\n",
        "  print(f\"Giridğin sayılar: {sayi1}, {sayi2}. Bölümleri: {sayi1/sayi2} \")\n",
        "elif islem == \"4\":\n",
        "  sayi1 = int(input(\"Birinci sayıyı giriniz: \"))\n",
        "  sayi2 = int(input(\"İkinci sayıyı giriniz: \"))\n",
        "  print(\"Çıkartma işlemi seçildi\")\n",
        "  print(f\"Giridğin sayılar: {sayi1}, {sayi2}. Farkları: {sayi1-sayi2} \")\n",
        "\n",
        "else:\n",
        "  print(\"Lütfen geçerli bir işlem seçiniz!!!\")"
      ],
      "metadata": {
        "colab": {
          "base_uri": "https://localhost:8080/"
        },
        "id": "r6cnKalymNOU",
        "outputId": "b68611ab-0535-4a12-c189-d5ea3c00794f"
      },
      "execution_count": 25,
      "outputs": [
        {
          "output_type": "stream",
          "name": "stdout",
          "text": [
            "toplama işlemi için: 1, Çarpma işmei için:2, Bölme işlemi için: 3, Çıkarma işlemi için: 4 tuşuna basınız...\n",
            "Lütfen yapmak istediğiniz işlemi seçiniz: 3\n",
            "Bölme işlemi seçildi\n",
            "Birinci sayıyı giriniz: 45\n",
            "İkinci sayıyı giriniz: 3\n",
            "Giridğin sayılar: 45, 3. Bölümleri: 15.0 \n"
          ]
        }
      ]
    },
    {
      "cell_type": "code",
      "source": [
        "#girilen sayını tek, ya da çit olduğunu kontrol eden program\n",
        "\n",
        "sayi = int(input(\"bir sayı giriniz: \"))\n",
        "\n",
        "if sayi % 2 ==0:\n",
        "  print(f\"giridiğin sayı: {sayi} çifttir\")\n",
        "else:\n",
        "  print(f\"girdiğin sayı: {sayi} tektir\")"
      ],
      "metadata": {
        "colab": {
          "base_uri": "https://localhost:8080/"
        },
        "id": "wiVpBEcSojNu",
        "outputId": "de8ce2e5-4d8a-4ac0-820e-528dd0804f3c"
      },
      "execution_count": 27,
      "outputs": [
        {
          "output_type": "stream",
          "name": "stdout",
          "text": [
            "bir sayı giriniz: 2\n",
            "giridğin sayı: 2 çifttir\n"
          ]
        }
      ]
    },
    {
      "cell_type": "code",
      "source": [
        "#bir sayını işaretini kontrol eden python programı\n",
        "\n",
        "sayi = int(input(\"sayıyı giriniz: \"))\n",
        "\n",
        "if sayi>0:\n",
        "  print(f\"giridğin sayı: {sayi} pozitiftri \")\n",
        "elif sayi ==0:\n",
        "  print(f\"giridğin sayı : {sayi} işareti yoktur!\")\n",
        "else:\n",
        "  print(f\"girdiğin sayı: {sayi} negatiftri \")"
      ],
      "metadata": {
        "colab": {
          "base_uri": "https://localhost:8080/"
        },
        "id": "J1CO3xhKpapz",
        "outputId": "73561e4f-ebdf-4c49-b7d8-a2ef6c3e48d1"
      },
      "execution_count": 31,
      "outputs": [
        {
          "output_type": "stream",
          "name": "stdout",
          "text": [
            "sayıyı giriniz: 5\n",
            "giridğin sayı: 5 pozitiftri \n"
          ]
        }
      ]
    },
    {
      "cell_type": "code",
      "source": [
        "#Döngüler... for ve while"
      ],
      "metadata": {
        "id": "uR0b4zPMqSwL"
      },
      "execution_count": null,
      "outputs": []
    },
    {
      "cell_type": "code",
      "source": [
        "\"Ank\" in \"Ankara\""
      ],
      "metadata": {
        "colab": {
          "base_uri": "https://localhost:8080/"
        },
        "id": "qMxJQmiCuHgT",
        "outputId": "70dbb0b5-df52-4e92-e461-d13d4cd282a8"
      },
      "execution_count": 36,
      "outputs": [
        {
          "output_type": "execute_result",
          "data": {
            "text/plain": [
              "True"
            ]
          },
          "metadata": {},
          "execution_count": 36
        }
      ]
    },
    {
      "cell_type": "code",
      "source": [
        "liste = [1,2,3,4,5,6,7,8,9]\n",
        "for eleman in liste:\n",
        "  print(f\"{eleman}-Sınıf\")"
      ],
      "metadata": {
        "colab": {
          "base_uri": "https://localhost:8080/"
        },
        "id": "e8LRj0utqXDC",
        "outputId": "4d0deaec-a9a6-48bf-a4c1-ce7285a05453"
      },
      "execution_count": 56,
      "outputs": [
        {
          "output_type": "stream",
          "name": "stdout",
          "text": [
            "1-Sınıf\n",
            "2-Sınıf\n",
            "3-Sınıf\n",
            "4-Sınıf\n",
            "5-Sınıf\n",
            "6-Sınıf\n",
            "7-Sınıf\n",
            "8-Sınıf\n",
            "9-Sınıf\n"
          ]
        }
      ]
    },
    {
      "cell_type": "code",
      "source": [
        "liste = [1,2,3,4,5,66,77,89,88,666,777,888,90,34,333,444,564,67,899]\n",
        "teksayilar= []\n",
        "ciftsayilar = []\n",
        "\n",
        "for eleman in liste:\n",
        "  if eleman % 2 ==0:\n",
        "    ciftsayilar.append(eleman)\n",
        "  else:\n",
        "    teksayilar.append(eleman)\n",
        "print(f\"Tek sayılar: {teksayilar} \")\n",
        "print(f\"Çift sayılar: {ciftsayilar} \")"
      ],
      "metadata": {
        "colab": {
          "base_uri": "https://localhost:8080/"
        },
        "id": "qhSZVDx1q_0O",
        "outputId": "e1659c73-8744-4aa1-cac5-c0e971a1e9e6"
      },
      "execution_count": 42,
      "outputs": [
        {
          "output_type": "stream",
          "name": "stdout",
          "text": [
            "Tek sayılar: [1, 3, 5, 77, 89, 777, 333, 67, 899] \n",
            "Çift sayılar: [2, 4, 66, 88, 666, 888, 90, 34, 444, 564] \n"
          ]
        }
      ]
    },
    {
      "cell_type": "code",
      "source": [
        "#Günlük hayatta toplama işlemi normalinde bir döngüden ibarettir...\n",
        "liste = [1,2,3,4,5,6,7,8,9]\n",
        "toplam = 0\n",
        "\n",
        "for eleman in liste:\n",
        "  toplam = toplam+eleman\n",
        "  #print(toplam)\n",
        "\n",
        "print(f\"işlemin sonucu {toplam}\")\n"
      ],
      "metadata": {
        "colab": {
          "base_uri": "https://localhost:8080/"
        },
        "id": "iYHgygKQwMoS",
        "outputId": "b341f147-5fc1-4b5c-c22b-a9a7f9510e0b"
      },
      "execution_count": 45,
      "outputs": [
        {
          "output_type": "stream",
          "name": "stdout",
          "text": [
            "işlemin sonucu 45\n"
          ]
        }
      ]
    },
    {
      "cell_type": "code",
      "source": [
        "liste = [2323,45335,3524234,24123123,55656,7778,999,6555,4344234234]\n",
        "teksayilar= []\n",
        "ciftsayilar = []\n",
        "tekToplam = 0\n",
        "ciftToplam = 0\n",
        "\n",
        "for eleman in liste:\n",
        "  if eleman % 2 ==0:\n",
        "    ciftsayilar.append(eleman)\n",
        "    ciftToplam = ciftToplam+eleman\n",
        "  else:\n",
        "    teksayilar.append(eleman)\n",
        "    tekToplam = tekToplam+eleman\n",
        "print(f\"Tek sayılar: {teksayilar} \")\n",
        "print(f\"Tek listenin toplamı: {tekToplam}\")\n",
        "print(f\"Çift sayılar: {ciftsayilar} \")\n",
        "print(f\"Çiftek listenin toplamı: {ciftToplam}\")"
      ],
      "metadata": {
        "colab": {
          "base_uri": "https://localhost:8080/"
        },
        "id": "DG80uSdrxWkq",
        "outputId": "422c98f3-444c-4058-b088-8c71f4b64200"
      },
      "execution_count": 50,
      "outputs": [
        {
          "output_type": "stream",
          "name": "stdout",
          "text": [
            "Tek sayılar: [2323, 45335, 24123123, 999, 6555] \n",
            "Tek listenin toplamı: 24178335\n",
            "Çift sayılar: [3524234, 55656, 7778, 4344234234] \n",
            "Çiftek listenin toplamı: 4347821902\n"
          ]
        }
      ]
    },
    {
      "cell_type": "code",
      "source": [
        "#range() fonksiyonu.....aralık...\n",
        "\n",
        "print(*range(1,10))"
      ],
      "metadata": {
        "colab": {
          "base_uri": "https://localhost:8080/"
        },
        "id": "Jz-4SpAOyTyU",
        "outputId": "12ee0798-021d-4072-8e3a-2614587d9c01"
      },
      "execution_count": 53,
      "outputs": [
        {
          "output_type": "stream",
          "name": "stdout",
          "text": [
            "1 2 3 4 5 6 7 8 9\n"
          ]
        }
      ]
    },
    {
      "cell_type": "code",
      "source": [
        "for eleman in range(1,10):\n",
        "  print(f\"{eleman}-Sınıf\")"
      ],
      "metadata": {
        "colab": {
          "base_uri": "https://localhost:8080/"
        },
        "id": "IsWx16Elyk3I",
        "outputId": "10765dc8-e575-4b75-fb68-d83d6dad7136"
      },
      "execution_count": 55,
      "outputs": [
        {
          "output_type": "stream",
          "name": "stdout",
          "text": [
            "1-Sınıf\n",
            "2-Sınıf\n",
            "3-Sınıf\n",
            "4-Sınıf\n",
            "5-Sınıf\n",
            "6-Sınıf\n",
            "7-Sınıf\n",
            "8-Sınıf\n",
            "9-Sınıf\n"
          ]
        }
      ]
    },
    {
      "cell_type": "code",
      "source": [
        "#ardışık sayıların toplamı.... 1+2+3+...+n = n*(n+1)/2\n",
        "\n",
        "toplam = 0\n",
        "for eleman in range(1,101):\n",
        "  toplam = toplam +eleman\n",
        "\n",
        "print(f\"1'den 100'e kadar olan sayılarının toplamı: {toplam}\")\n"
      ],
      "metadata": {
        "colab": {
          "base_uri": "https://localhost:8080/"
        },
        "id": "_Wgto81oy5ky",
        "outputId": "c4c7ae4e-9026-43b0-aa73-206d9f57d667"
      },
      "execution_count": 57,
      "outputs": [
        {
          "output_type": "stream",
          "name": "stdout",
          "text": [
            "1-den 100'e kadar olan sayılarının toplamı: 5050\n"
          ]
        }
      ]
    },
    {
      "cell_type": "code",
      "source": [
        "#ardışık sayıların toplamı\n",
        "\n",
        "sayi = int(input(\"son sayıyı gir: \"))\n",
        "toplam = 0\n",
        "for eleman in range(1, sayi+1):\n",
        "  toplam = toplam +eleman\n",
        "\n",
        "print(f\"1'den {sayi}'ya kadar olan sayılarının toplamı: {toplam}\")\n"
      ],
      "metadata": {
        "colab": {
          "base_uri": "https://localhost:8080/"
        },
        "id": "t7_QhG-WzfPJ",
        "outputId": "432d3c29-754c-4eca-e54e-00eee9a45f0d"
      },
      "execution_count": 62,
      "outputs": [
        {
          "output_type": "stream",
          "name": "stdout",
          "text": [
            "son sayıyı gir: 56565656\n",
            "1'den 56565656'ya kadar olan sayılarının toplamı: 1599836747637996\n"
          ]
        }
      ]
    },
    {
      "cell_type": "code",
      "source": [
        "print(*range(0,21,5))"
      ],
      "metadata": {
        "colab": {
          "base_uri": "https://localhost:8080/"
        },
        "id": "6xkemeQK0PhV",
        "outputId": "cb568e96-621c-4270-adcc-14cf7b9d9f24"
      },
      "execution_count": 65,
      "outputs": [
        {
          "output_type": "stream",
          "name": "stdout",
          "text": [
            "0 5 10 15 20\n"
          ]
        }
      ]
    },
    {
      "cell_type": "code",
      "source": [
        "toplam = 0\n",
        "for eleman in range(0,21,5):\n",
        "  toplam = toplam + eleman\n",
        "\n",
        "print(f\"Toplamları: {toplam}\")"
      ],
      "metadata": {
        "colab": {
          "base_uri": "https://localhost:8080/"
        },
        "id": "jzoKbP9o0c9h",
        "outputId": "5ff96f68-98a1-4371-cd58-74286c64b51e"
      },
      "execution_count": 66,
      "outputs": [
        {
          "output_type": "stream",
          "name": "stdout",
          "text": [
            "Toplamları: 50\n"
          ]
        }
      ]
    },
    {
      "cell_type": "code",
      "source": [
        "print(*range(70,701,7))"
      ],
      "metadata": {
        "colab": {
          "base_uri": "https://localhost:8080/"
        },
        "id": "3m8_ZLof00Wf",
        "outputId": "f41f7e22-5d48-4984-a337-263facb48eec"
      },
      "execution_count": 70,
      "outputs": [
        {
          "output_type": "stream",
          "name": "stdout",
          "text": [
            "70 77 84 91 98 105 112 119 126 133 140 147 154 161 168 175 182 189 196 203 210 217 224 231 238 245 252 259 266 273 280 287 294 301 308 315 322 329 336 343 350 357 364 371 378 385 392 399 406 413 420 427 434 441 448 455 462 469 476 483 490 497 504 511 518 525 532 539 546 553 560 567 574 581 588 595 602 609 616 623 630 637 644 651 658 665 672 679 686 693 700\n"
          ]
        }
      ]
    },
    {
      "cell_type": "code",
      "source": [
        "toplam = 0\n",
        "for eleman in range(70,701,7):\n",
        "  toplam = toplam + eleman\n",
        "\n",
        "print(f\"Toplamları: {toplam}\")"
      ],
      "metadata": {
        "colab": {
          "base_uri": "https://localhost:8080/"
        },
        "id": "sKNh44YG0wJr",
        "outputId": "02f3bb72-6ed0-4da9-ba0b-eb9dc1f0b390"
      },
      "execution_count": 74,
      "outputs": [
        {
          "output_type": "stream",
          "name": "stdout",
          "text": [
            "Toplamları: 35035\n"
          ]
        }
      ]
    },
    {
      "cell_type": "code",
      "source": [
        "#ödev, 6 matematik işlemini yapan python programı...(kullanıcıdan 2 sayı alınarak yapınız) +,-, *,/,**, kök!"
      ],
      "metadata": {
        "id": "zhLjCV4s1e51"
      },
      "execution_count": null,
      "outputs": []
    },
    {
      "cell_type": "code",
      "source": [
        "#liste=[1,2,3,44,55,66,77,87,86,56,43,54,567,89] listesindeki elemanların tek ve çift olarak ayırıp iki ayrı listeye alalım. Bu listedeki sayılaın çarpımını hesaplayalım"
      ],
      "metadata": {
        "id": "VCWnJLbZ1s5p"
      },
      "execution_count": null,
      "outputs": []
    },
    {
      "cell_type": "code",
      "source": [
        "#range fonksiyonu kullanılarak tek ve çift sayıların toplamını bulan bir program yazınız"
      ],
      "metadata": {
        "id": "eDi55b2P1-sh"
      },
      "execution_count": null,
      "outputs": []
    }
  ]
}