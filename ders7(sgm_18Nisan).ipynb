{
  "nbformat": 4,
  "nbformat_minor": 0,
  "metadata": {
    "colab": {
      "name": "ders7(sgm_18Nisan).ipynb",
      "provenance": [],
      "collapsed_sections": []
    },
    "kernelspec": {
      "name": "python3",
      "display_name": "Python 3"
    },
    "language_info": {
      "name": "python"
    }
  },
  "cells": [
    {
      "cell_type": "code",
      "execution_count": 1,
      "metadata": {
        "id": "KyY5Lf6qG3jB"
      },
      "outputs": [],
      "source": [
        "#modüller....kısaca fonksiyonları ve belli kod yapılarını barındıran kütüphanelerdir..."
      ]
    },
    {
      "cell_type": "code",
      "source": [
        "import math"
      ],
      "metadata": {
        "id": "45OBbRDmHJZ8"
      },
      "execution_count": 2,
      "outputs": []
    },
    {
      "cell_type": "code",
      "source": [
        "math.factorial(3)"
      ],
      "metadata": {
        "colab": {
          "base_uri": "https://localhost:8080/"
        },
        "id": "CsOvzbIpHTXL",
        "outputId": "f2788b00-9b5c-4436-df34-a68082f3de3f"
      },
      "execution_count": 3,
      "outputs": [
        {
          "output_type": "execute_result",
          "data": {
            "text/plain": [
              "6"
            ]
          },
          "metadata": {},
          "execution_count": 3
        }
      ]
    },
    {
      "cell_type": "code",
      "source": [
        "math.hypot(3,4)"
      ],
      "metadata": {
        "colab": {
          "base_uri": "https://localhost:8080/"
        },
        "id": "y61IKk5rIEn2",
        "outputId": "924c113e-543f-4d5d-b8da-d2a1e3c602bd"
      },
      "execution_count": 5,
      "outputs": [
        {
          "output_type": "execute_result",
          "data": {
            "text/plain": [
              "5.0"
            ]
          },
          "metadata": {},
          "execution_count": 5
        }
      ]
    },
    {
      "cell_type": "code",
      "source": [
        "math.ceil(6.7)"
      ],
      "metadata": {
        "colab": {
          "base_uri": "https://localhost:8080/"
        },
        "id": "NHcZTU8xIM-B",
        "outputId": "1ab27151-162a-41cd-c1c7-2625b5945ef8"
      },
      "execution_count": 6,
      "outputs": [
        {
          "output_type": "execute_result",
          "data": {
            "text/plain": [
              "7"
            ]
          },
          "metadata": {},
          "execution_count": 6
        }
      ]
    },
    {
      "cell_type": "code",
      "source": [
        "math.ceil(6.1)"
      ],
      "metadata": {
        "colab": {
          "base_uri": "https://localhost:8080/"
        },
        "id": "pT-PSKa1ISHN",
        "outputId": "0763bf9c-fef7-4fe7-b618-a343e98f713e"
      },
      "execution_count": 7,
      "outputs": [
        {
          "output_type": "execute_result",
          "data": {
            "text/plain": [
              "7"
            ]
          },
          "metadata": {},
          "execution_count": 7
        }
      ]
    },
    {
      "cell_type": "code",
      "source": [
        "math.floor(9.4)"
      ],
      "metadata": {
        "colab": {
          "base_uri": "https://localhost:8080/"
        },
        "id": "8m58OEoHIfd6",
        "outputId": "c5bb07bf-89d8-46e0-8b73-bf85d29f33c9"
      },
      "execution_count": 8,
      "outputs": [
        {
          "output_type": "execute_result",
          "data": {
            "text/plain": [
              "9"
            ]
          },
          "metadata": {},
          "execution_count": 8
        }
      ]
    },
    {
      "cell_type": "code",
      "source": [
        "math.floor(9.9)"
      ],
      "metadata": {
        "colab": {
          "base_uri": "https://localhost:8080/"
        },
        "id": "COpIkLLhIj2e",
        "outputId": "f4ab0846-d78c-46f9-999d-fedd4882f2c3"
      },
      "execution_count": 9,
      "outputs": [
        {
          "output_type": "execute_result",
          "data": {
            "text/plain": [
              "9"
            ]
          },
          "metadata": {},
          "execution_count": 9
        }
      ]
    },
    {
      "cell_type": "code",
      "source": [
        "math.pow(2,3)"
      ],
      "metadata": {
        "colab": {
          "base_uri": "https://localhost:8080/"
        },
        "id": "BTXHEtxqIm5D",
        "outputId": "a086a95c-2738-4a51-8759-d03a79c2d462"
      },
      "execution_count": 10,
      "outputs": [
        {
          "output_type": "execute_result",
          "data": {
            "text/plain": [
              "8.0"
            ]
          },
          "metadata": {},
          "execution_count": 10
        }
      ]
    },
    {
      "cell_type": "code",
      "source": [
        "import time\n",
        "from datetime import datetime\n",
        "from pytz import timezone"
      ],
      "metadata": {
        "id": "dZZdl_OvIw0K"
      },
      "execution_count": 34,
      "outputs": []
    },
    {
      "cell_type": "code",
      "source": [
        "help(time)"
      ],
      "metadata": {
        "colab": {
          "base_uri": "https://localhost:8080/"
        },
        "id": "nilTyDbsI4y7",
        "outputId": "bf0bad98-5148-427b-a126-ee5ea9863e9c"
      },
      "execution_count": 12,
      "outputs": [
        {
          "output_type": "stream",
          "name": "stdout",
          "text": [
            "Help on built-in module time:\n",
            "\n",
            "NAME\n",
            "    time - This module provides various functions to manipulate time values.\n",
            "\n",
            "DESCRIPTION\n",
            "    There are two standard representations of time.  One is the number\n",
            "    of seconds since the Epoch, in UTC (a.k.a. GMT).  It may be an integer\n",
            "    or a floating point number (to represent fractions of seconds).\n",
            "    The Epoch is system-defined; on Unix, it is generally January 1st, 1970.\n",
            "    The actual value can be retrieved by calling gmtime(0).\n",
            "    \n",
            "    The other representation is a tuple of 9 integers giving local time.\n",
            "    The tuple items are:\n",
            "      year (including century, e.g. 1998)\n",
            "      month (1-12)\n",
            "      day (1-31)\n",
            "      hours (0-23)\n",
            "      minutes (0-59)\n",
            "      seconds (0-59)\n",
            "      weekday (0-6, Monday is 0)\n",
            "      Julian day (day in the year, 1-366)\n",
            "      DST (Daylight Savings Time) flag (-1, 0 or 1)\n",
            "    If the DST flag is 0, the time is given in the regular time zone;\n",
            "    if it is 1, the time is given in the DST time zone;\n",
            "    if it is -1, mktime() should guess based on the date and time.\n",
            "\n",
            "CLASSES\n",
            "    builtins.tuple(builtins.object)\n",
            "        struct_time\n",
            "    \n",
            "    class struct_time(builtins.tuple)\n",
            "     |  struct_time(iterable=(), /)\n",
            "     |  \n",
            "     |  The time value as returned by gmtime(), localtime(), and strptime(), and\n",
            "     |  accepted by asctime(), mktime() and strftime().  May be considered as a\n",
            "     |  sequence of 9 integers.\n",
            "     |  \n",
            "     |  Note that several fields' values are not the same as those defined by\n",
            "     |  the C language standard for struct tm.  For example, the value of the\n",
            "     |  field tm_year is the actual year, not year - 1900.  See individual\n",
            "     |  fields' descriptions for details.\n",
            "     |  \n",
            "     |  Method resolution order:\n",
            "     |      struct_time\n",
            "     |      builtins.tuple\n",
            "     |      builtins.object\n",
            "     |  \n",
            "     |  Methods defined here:\n",
            "     |  \n",
            "     |  __reduce__(...)\n",
            "     |      Helper for pickle.\n",
            "     |  \n",
            "     |  __repr__(self, /)\n",
            "     |      Return repr(self).\n",
            "     |  \n",
            "     |  ----------------------------------------------------------------------\n",
            "     |  Static methods defined here:\n",
            "     |  \n",
            "     |  __new__(*args, **kwargs) from builtins.type\n",
            "     |      Create and return a new object.  See help(type) for accurate signature.\n",
            "     |  \n",
            "     |  ----------------------------------------------------------------------\n",
            "     |  Data descriptors defined here:\n",
            "     |  \n",
            "     |  tm_gmtoff\n",
            "     |      offset from UTC in seconds\n",
            "     |  \n",
            "     |  tm_hour\n",
            "     |      hours, range [0, 23]\n",
            "     |  \n",
            "     |  tm_isdst\n",
            "     |      1 if summer time is in effect, 0 if not, and -1 if unknown\n",
            "     |  \n",
            "     |  tm_mday\n",
            "     |      day of month, range [1, 31]\n",
            "     |  \n",
            "     |  tm_min\n",
            "     |      minutes, range [0, 59]\n",
            "     |  \n",
            "     |  tm_mon\n",
            "     |      month of year, range [1, 12]\n",
            "     |  \n",
            "     |  tm_sec\n",
            "     |      seconds, range [0, 61])\n",
            "     |  \n",
            "     |  tm_wday\n",
            "     |      day of week, range [0, 6], Monday is 0\n",
            "     |  \n",
            "     |  tm_yday\n",
            "     |      day of year, range [1, 366]\n",
            "     |  \n",
            "     |  tm_year\n",
            "     |      year, for example, 1993\n",
            "     |  \n",
            "     |  tm_zone\n",
            "     |      abbreviation of timezone name\n",
            "     |  \n",
            "     |  ----------------------------------------------------------------------\n",
            "     |  Data and other attributes defined here:\n",
            "     |  \n",
            "     |  n_fields = 11\n",
            "     |  \n",
            "     |  n_sequence_fields = 9\n",
            "     |  \n",
            "     |  n_unnamed_fields = 0\n",
            "     |  \n",
            "     |  ----------------------------------------------------------------------\n",
            "     |  Methods inherited from builtins.tuple:\n",
            "     |  \n",
            "     |  __add__(self, value, /)\n",
            "     |      Return self+value.\n",
            "     |  \n",
            "     |  __contains__(self, key, /)\n",
            "     |      Return key in self.\n",
            "     |  \n",
            "     |  __eq__(self, value, /)\n",
            "     |      Return self==value.\n",
            "     |  \n",
            "     |  __ge__(self, value, /)\n",
            "     |      Return self>=value.\n",
            "     |  \n",
            "     |  __getattribute__(self, name, /)\n",
            "     |      Return getattr(self, name).\n",
            "     |  \n",
            "     |  __getitem__(self, key, /)\n",
            "     |      Return self[key].\n",
            "     |  \n",
            "     |  __getnewargs__(self, /)\n",
            "     |  \n",
            "     |  __gt__(self, value, /)\n",
            "     |      Return self>value.\n",
            "     |  \n",
            "     |  __hash__(self, /)\n",
            "     |      Return hash(self).\n",
            "     |  \n",
            "     |  __iter__(self, /)\n",
            "     |      Implement iter(self).\n",
            "     |  \n",
            "     |  __le__(self, value, /)\n",
            "     |      Return self<=value.\n",
            "     |  \n",
            "     |  __len__(self, /)\n",
            "     |      Return len(self).\n",
            "     |  \n",
            "     |  __lt__(self, value, /)\n",
            "     |      Return self<value.\n",
            "     |  \n",
            "     |  __mul__(self, value, /)\n",
            "     |      Return self*value.\n",
            "     |  \n",
            "     |  __ne__(self, value, /)\n",
            "     |      Return self!=value.\n",
            "     |  \n",
            "     |  __rmul__(self, value, /)\n",
            "     |      Return value*self.\n",
            "     |  \n",
            "     |  count(self, value, /)\n",
            "     |      Return number of occurrences of value.\n",
            "     |  \n",
            "     |  index(self, value, start=0, stop=9223372036854775807, /)\n",
            "     |      Return first index of value.\n",
            "     |      \n",
            "     |      Raises ValueError if the value is not present.\n",
            "\n",
            "FUNCTIONS\n",
            "    asctime(...)\n",
            "        asctime([tuple]) -> string\n",
            "        \n",
            "        Convert a time tuple to a string, e.g. 'Sat Jun 06 16:26:11 1998'.\n",
            "        When the time tuple is not present, current time as returned by localtime()\n",
            "        is used.\n",
            "    \n",
            "    clock(...)\n",
            "        clock() -> floating point number\n",
            "        \n",
            "        Return the CPU time or real time since the start of the process or since\n",
            "        the first call to clock().  This has as much precision as the system\n",
            "        records.\n",
            "    \n",
            "    clock_getres(...)\n",
            "        clock_getres(clk_id) -> floating point number\n",
            "        \n",
            "        Return the resolution (precision) of the specified clock clk_id.\n",
            "    \n",
            "    clock_gettime(...)\n",
            "        clock_gettime(clk_id) -> float\n",
            "        \n",
            "        Return the time of the specified clock clk_id.\n",
            "    \n",
            "    clock_gettime_ns(...)\n",
            "        clock_gettime_ns(clk_id) -> int\n",
            "        \n",
            "        Return the time of the specified clock clk_id as nanoseconds.\n",
            "    \n",
            "    clock_settime(...)\n",
            "        clock_settime(clk_id, time)\n",
            "        \n",
            "        Set the time of the specified clock clk_id.\n",
            "    \n",
            "    clock_settime_ns(...)\n",
            "        clock_settime_ns(clk_id, time)\n",
            "        \n",
            "        Set the time of the specified clock clk_id with nanoseconds.\n",
            "    \n",
            "    ctime(...)\n",
            "        ctime(seconds) -> string\n",
            "        \n",
            "        Convert a time in seconds since the Epoch to a string in local time.\n",
            "        This is equivalent to asctime(localtime(seconds)). When the time tuple is\n",
            "        not present, current time as returned by localtime() is used.\n",
            "    \n",
            "    get_clock_info(...)\n",
            "        get_clock_info(name: str) -> dict\n",
            "        \n",
            "        Get information of the specified clock.\n",
            "    \n",
            "    gmtime(...)\n",
            "        gmtime([seconds]) -> (tm_year, tm_mon, tm_mday, tm_hour, tm_min,\n",
            "                               tm_sec, tm_wday, tm_yday, tm_isdst)\n",
            "        \n",
            "        Convert seconds since the Epoch to a time tuple expressing UTC (a.k.a.\n",
            "        GMT).  When 'seconds' is not passed in, convert the current time instead.\n",
            "        \n",
            "        If the platform supports the tm_gmtoff and tm_zone, they are available as\n",
            "        attributes only.\n",
            "    \n",
            "    localtime(...)\n",
            "        localtime([seconds]) -> (tm_year,tm_mon,tm_mday,tm_hour,tm_min,\n",
            "                                  tm_sec,tm_wday,tm_yday,tm_isdst)\n",
            "        \n",
            "        Convert seconds since the Epoch to a time tuple expressing local time.\n",
            "        When 'seconds' is not passed in, convert the current time instead.\n",
            "    \n",
            "    mktime(...)\n",
            "        mktime(tuple) -> floating point number\n",
            "        \n",
            "        Convert a time tuple in local time to seconds since the Epoch.\n",
            "        Note that mktime(gmtime(0)) will not generally return zero for most\n",
            "        time zones; instead the returned value will either be equal to that\n",
            "        of the timezone or altzone attributes on the time module.\n",
            "    \n",
            "    monotonic(...)\n",
            "        monotonic() -> float\n",
            "        \n",
            "        Monotonic clock, cannot go backward.\n",
            "    \n",
            "    monotonic_ns(...)\n",
            "        monotonic_ns() -> int\n",
            "        \n",
            "        Monotonic clock, cannot go backward, as nanoseconds.\n",
            "    \n",
            "    perf_counter(...)\n",
            "        perf_counter() -> float\n",
            "        \n",
            "        Performance counter for benchmarking.\n",
            "    \n",
            "    perf_counter_ns(...)\n",
            "        perf_counter_ns() -> int\n",
            "        \n",
            "        Performance counter for benchmarking as nanoseconds.\n",
            "    \n",
            "    process_time(...)\n",
            "        process_time() -> float\n",
            "        \n",
            "        Process time for profiling: sum of the kernel and user-space CPU time.\n",
            "    \n",
            "    process_time_ns(...)\n",
            "        process_time() -> int\n",
            "        \n",
            "        Process time for profiling as nanoseconds:\n",
            "        sum of the kernel and user-space CPU time.\n",
            "    \n",
            "    pthread_getcpuclockid(...)\n",
            "        pthread_getcpuclockid(thread_id) -> int\n",
            "        \n",
            "        Return the clk_id of a thread's CPU time clock.\n",
            "    \n",
            "    sleep(...)\n",
            "        sleep(seconds)\n",
            "        \n",
            "        Delay execution for a given number of seconds.  The argument may be\n",
            "        a floating point number for subsecond precision.\n",
            "    \n",
            "    strftime(...)\n",
            "        strftime(format[, tuple]) -> string\n",
            "        \n",
            "        Convert a time tuple to a string according to a format specification.\n",
            "        See the library reference manual for formatting codes. When the time tuple\n",
            "        is not present, current time as returned by localtime() is used.\n",
            "        \n",
            "        Commonly used format codes:\n",
            "        \n",
            "        %Y  Year with century as a decimal number.\n",
            "        %m  Month as a decimal number [01,12].\n",
            "        %d  Day of the month as a decimal number [01,31].\n",
            "        %H  Hour (24-hour clock) as a decimal number [00,23].\n",
            "        %M  Minute as a decimal number [00,59].\n",
            "        %S  Second as a decimal number [00,61].\n",
            "        %z  Time zone offset from UTC.\n",
            "        %a  Locale's abbreviated weekday name.\n",
            "        %A  Locale's full weekday name.\n",
            "        %b  Locale's abbreviated month name.\n",
            "        %B  Locale's full month name.\n",
            "        %c  Locale's appropriate date and time representation.\n",
            "        %I  Hour (12-hour clock) as a decimal number [01,12].\n",
            "        %p  Locale's equivalent of either AM or PM.\n",
            "        \n",
            "        Other codes may be available on your platform.  See documentation for\n",
            "        the C library strftime function.\n",
            "    \n",
            "    strptime(...)\n",
            "        strptime(string, format) -> struct_time\n",
            "        \n",
            "        Parse a string to a time tuple according to a format specification.\n",
            "        See the library reference manual for formatting codes (same as\n",
            "        strftime()).\n",
            "        \n",
            "        Commonly used format codes:\n",
            "        \n",
            "        %Y  Year with century as a decimal number.\n",
            "        %m  Month as a decimal number [01,12].\n",
            "        %d  Day of the month as a decimal number [01,31].\n",
            "        %H  Hour (24-hour clock) as a decimal number [00,23].\n",
            "        %M  Minute as a decimal number [00,59].\n",
            "        %S  Second as a decimal number [00,61].\n",
            "        %z  Time zone offset from UTC.\n",
            "        %a  Locale's abbreviated weekday name.\n",
            "        %A  Locale's full weekday name.\n",
            "        %b  Locale's abbreviated month name.\n",
            "        %B  Locale's full month name.\n",
            "        %c  Locale's appropriate date and time representation.\n",
            "        %I  Hour (12-hour clock) as a decimal number [01,12].\n",
            "        %p  Locale's equivalent of either AM or PM.\n",
            "        \n",
            "        Other codes may be available on your platform.  See documentation for\n",
            "        the C library strftime function.\n",
            "    \n",
            "    thread_time(...)\n",
            "        thread_time() -> float\n",
            "        \n",
            "        Thread time for profiling: sum of the kernel and user-space CPU time.\n",
            "    \n",
            "    thread_time_ns(...)\n",
            "        thread_time() -> int\n",
            "        \n",
            "        Thread time for profiling as nanoseconds:\n",
            "        sum of the kernel and user-space CPU time.\n",
            "    \n",
            "    time(...)\n",
            "        time() -> floating point number\n",
            "        \n",
            "        Return the current time in seconds since the Epoch.\n",
            "        Fractions of a second may be present if the system clock provides them.\n",
            "    \n",
            "    time_ns(...)\n",
            "        time_ns() -> int\n",
            "        \n",
            "        Return the current time in nanoseconds since the Epoch.\n",
            "    \n",
            "    tzset(...)\n",
            "        tzset()\n",
            "        \n",
            "        Initialize, or reinitialize, the local timezone to the value stored in\n",
            "        os.environ['TZ']. The TZ environment variable should be specified in\n",
            "        standard Unix timezone format as documented in the tzset man page\n",
            "        (eg. 'US/Eastern', 'Europe/Amsterdam'). Unknown timezones will silently\n",
            "        fall back to UTC. If the TZ environment variable is not set, the local\n",
            "        timezone is set to the systems best guess of wallclock time.\n",
            "        Changing the TZ environment variable without calling tzset *may* change\n",
            "        the local timezone used by methods such as localtime, but this behaviour\n",
            "        should not be relied on.\n",
            "\n",
            "DATA\n",
            "    CLOCK_BOOTTIME = 7\n",
            "    CLOCK_MONOTONIC = 1\n",
            "    CLOCK_MONOTONIC_RAW = 4\n",
            "    CLOCK_PROCESS_CPUTIME_ID = 2\n",
            "    CLOCK_REALTIME = 0\n",
            "    CLOCK_THREAD_CPUTIME_ID = 3\n",
            "    altzone = 0\n",
            "    daylight = 0\n",
            "    timezone = 0\n",
            "    tzname = ('UTC', 'UTC')\n",
            "\n",
            "FILE\n",
            "    (built-in)\n",
            "\n",
            "\n"
          ]
        }
      ]
    },
    {
      "cell_type": "code",
      "source": [
        "#araştırma ödevi...\n",
        "\n",
        "time.time()"
      ],
      "metadata": {
        "colab": {
          "base_uri": "https://localhost:8080/"
        },
        "id": "Hd-ExuLeJcn9",
        "outputId": "a4c45dde-f274-4ec5-e2fd-94a45276f600"
      },
      "execution_count": 16,
      "outputs": [
        {
          "output_type": "execute_result",
          "data": {
            "text/plain": [
              "1650293394.3861506"
            ]
          },
          "metadata": {},
          "execution_count": 16
        }
      ]
    },
    {
      "cell_type": "code",
      "source": [
        "time.sleep(5)\n",
        "print(\"merhaba\")"
      ],
      "metadata": {
        "colab": {
          "base_uri": "https://localhost:8080/"
        },
        "id": "ROQjE_NyJoIc",
        "outputId": "4440b62b-83b4-427e-8261-28439326380e"
      },
      "execution_count": 17,
      "outputs": [
        {
          "output_type": "stream",
          "name": "stdout",
          "text": [
            "merhaba\n"
          ]
        }
      ]
    },
    {
      "cell_type": "code",
      "source": [
        "#geriye doğru 10 saniye sayıp doğumgünü kutlayan uygulama"
      ],
      "metadata": {
        "id": "V83eal8fJzbw"
      },
      "execution_count": null,
      "outputs": []
    },
    {
      "cell_type": "code",
      "source": [
        "x = 10\n",
        "while x>=0:\n",
        "  print(x)\n",
        "  x= x-1\n",
        "  time.sleep(1)\n",
        "print(\"Doğum günün kutlu olsun🥳🥳🥳\")"
      ],
      "metadata": {
        "colab": {
          "base_uri": "https://localhost:8080/"
        },
        "id": "DfFF4UuAJ5Ze",
        "outputId": "36c4ac92-a398-4d93-86ea-72712b49ed07"
      },
      "execution_count": 19,
      "outputs": [
        {
          "output_type": "stream",
          "name": "stdout",
          "text": [
            "10\n",
            "9\n",
            "8\n",
            "7\n",
            "6\n",
            "5\n",
            "4\n",
            "3\n",
            "2\n",
            "1\n",
            "0\n",
            "Doğum günün kutlu olsun🥳🥳🥳\n"
          ]
        }
      ]
    },
    {
      "cell_type": "code",
      "source": [
        "x =1\n",
        "while True:\n",
        "  print(x)\n",
        "  x = x+1\n",
        "  time.sleep(1)\n"
      ],
      "metadata": {
        "colab": {
          "base_uri": "https://localhost:8080/",
          "height": 545
        },
        "id": "wAircq9nKW_x",
        "outputId": "08dd38ed-fb62-4f3e-81b3-167173f631b2"
      },
      "execution_count": 20,
      "outputs": [
        {
          "output_type": "stream",
          "name": "stdout",
          "text": [
            "1\n",
            "2\n",
            "3\n",
            "4\n",
            "5\n",
            "6\n",
            "7\n",
            "8\n",
            "9\n",
            "10\n",
            "11\n",
            "12\n",
            "13\n",
            "14\n",
            "15\n",
            "16\n",
            "17\n",
            "18\n",
            "19\n"
          ]
        },
        {
          "output_type": "error",
          "ename": "KeyboardInterrupt",
          "evalue": "ignored",
          "traceback": [
            "\u001b[0;31m---------------------------------------------------------------------------\u001b[0m",
            "\u001b[0;31mKeyboardInterrupt\u001b[0m                         Traceback (most recent call last)",
            "\u001b[0;32m<ipython-input-20-3443047b79aa>\u001b[0m in \u001b[0;36m<module>\u001b[0;34m()\u001b[0m\n\u001b[1;32m      3\u001b[0m   \u001b[0mprint\u001b[0m\u001b[0;34m(\u001b[0m\u001b[0mx\u001b[0m\u001b[0;34m)\u001b[0m\u001b[0;34m\u001b[0m\u001b[0;34m\u001b[0m\u001b[0m\n\u001b[1;32m      4\u001b[0m   \u001b[0mx\u001b[0m \u001b[0;34m=\u001b[0m \u001b[0mx\u001b[0m\u001b[0;34m+\u001b[0m\u001b[0;36m1\u001b[0m\u001b[0;34m\u001b[0m\u001b[0;34m\u001b[0m\u001b[0m\n\u001b[0;32m----> 5\u001b[0;31m   \u001b[0mtime\u001b[0m\u001b[0;34m.\u001b[0m\u001b[0msleep\u001b[0m\u001b[0;34m(\u001b[0m\u001b[0;36m1\u001b[0m\u001b[0;34m)\u001b[0m\u001b[0;34m\u001b[0m\u001b[0;34m\u001b[0m\u001b[0m\n\u001b[0m",
            "\u001b[0;31mKeyboardInterrupt\u001b[0m: "
          ]
        }
      ]
    },
    {
      "cell_type": "code",
      "source": [
        "print(time.strftime(f\"%Y-%m-%d-%H-%M-%S\"))"
      ],
      "metadata": {
        "colab": {
          "base_uri": "https://localhost:8080/"
        },
        "id": "LnZJq1wOK0ve",
        "outputId": "beaf281c-2223-46ab-8ee4-7a5dcd5b6767"
      },
      "execution_count": 30,
      "outputs": [
        {
          "output_type": "stream",
          "name": "stdout",
          "text": [
            "2022-04-18-14-57-57\n"
          ]
        }
      ]
    },
    {
      "cell_type": "code",
      "source": [
        "print(time.localtime())"
      ],
      "metadata": {
        "colab": {
          "base_uri": "https://localhost:8080/"
        },
        "id": "ZHUCvRr3Lhsx",
        "outputId": "91d4000a-9685-4179-d26b-635a584a1e3c"
      },
      "execution_count": 62,
      "outputs": [
        {
          "output_type": "stream",
          "name": "stdout",
          "text": [
            "time.struct_time(tm_year=2022, tm_mon=4, tm_mday=18, tm_hour=15, tm_min=14, tm_sec=10, tm_wday=0, tm_yday=108, tm_isdst=0)\n"
          ]
        }
      ]
    },
    {
      "cell_type": "code",
      "source": [
        "time.asctime()"
      ],
      "metadata": {
        "colab": {
          "base_uri": "https://localhost:8080/",
          "height": 35
        },
        "id": "wdJSsESCMkTV",
        "outputId": "4697e7d0-a3d1-46c3-f839-60732164908b"
      },
      "execution_count": 39,
      "outputs": [
        {
          "output_type": "execute_result",
          "data": {
            "text/plain": [
              "'Mon Apr 18 15:02:58 2022'"
            ],
            "application/vnd.google.colaboratory.intrinsic+json": {
              "type": "string"
            }
          },
          "metadata": {},
          "execution_count": 39
        }
      ]
    },
    {
      "cell_type": "code",
      "source": [
        "import random"
      ],
      "metadata": {
        "id": "Qu_2YWtrMvbq"
      },
      "execution_count": 40,
      "outputs": []
    },
    {
      "cell_type": "code",
      "source": [
        "random.random()"
      ],
      "metadata": {
        "colab": {
          "base_uri": "https://localhost:8080/"
        },
        "id": "p3qYUuKcNb60",
        "outputId": "5f6edfa0-b310-4c75-9f37-68b36b71b37e"
      },
      "execution_count": 46,
      "outputs": [
        {
          "output_type": "execute_result",
          "data": {
            "text/plain": [
              "0.5833680898971265"
            ]
          },
          "metadata": {},
          "execution_count": 46
        }
      ]
    },
    {
      "cell_type": "code",
      "source": [
        "random.randint(1,100)"
      ],
      "metadata": {
        "colab": {
          "base_uri": "https://localhost:8080/"
        },
        "id": "VTwNF3kuNklo",
        "outputId": "f8e50a3d-15bb-472a-9f08-8904794cdb19"
      },
      "execution_count": 51,
      "outputs": [
        {
          "output_type": "execute_result",
          "data": {
            "text/plain": [
              "87"
            ]
          },
          "metadata": {},
          "execution_count": 51
        }
      ]
    },
    {
      "cell_type": "code",
      "source": [
        "for i in range(10):\n",
        "  print(f\"rastgele sayılar. {random.randint(0,100)} \")"
      ],
      "metadata": {
        "colab": {
          "base_uri": "https://localhost:8080/"
        },
        "id": "uqgamYAtN4Qk",
        "outputId": "7b57423b-6f1a-4dcd-e479-fb82f7643286"
      },
      "execution_count": 60,
      "outputs": [
        {
          "output_type": "stream",
          "name": "stdout",
          "text": [
            "rastgele sayılar. 22 \n",
            "rastgele sayılar. 73 \n",
            "rastgele sayılar. 6 \n",
            "rastgele sayılar. 91 \n",
            "rastgele sayılar. 84 \n",
            "rastgele sayılar. 1 \n",
            "rastgele sayılar. 60 \n",
            "rastgele sayılar. 52 \n",
            "rastgele sayılar. 39 \n",
            "rastgele sayılar. 3 \n"
          ]
        }
      ]
    },
    {
      "cell_type": "code",
      "source": [
        "#kaleye kim girecek?\n",
        "\n",
        "print(\"Bu hafta kim kaleci olacak..:)\")\n",
        "liste = [\"Agah\", \"Ahmed\", \"Eymen\", \"Burak\", \"Emir\", \"Muhammed\"]\n",
        "print(f\"Kura sonucu: {random.choice(liste)}\")"
      ],
      "metadata": {
        "colab": {
          "base_uri": "https://localhost:8080/"
        },
        "id": "flv4VBurP8vH",
        "outputId": "65cfca10-088e-4103-e754-a5b1aa846812"
      },
      "execution_count": 68,
      "outputs": [
        {
          "output_type": "stream",
          "name": "stdout",
          "text": [
            "Bu hafta kim kaleci olacak..:)\n",
            "Kura sonucu: Eymen\n"
          ]
        }
      ]
    },
    {
      "cell_type": "code",
      "source": [
        "def kura():\n",
        "  print(\"Bu hafta kim kaleci olacak..:)\")\n",
        "  liste = [\"Agah\", \"Ahmed\", \"Eymen\", \"Burak\", \"Emir\", \"Muhammed\"]\n",
        "  print(f\"Kura sonucu: {random.choice(liste)}\")"
      ],
      "metadata": {
        "id": "iMamEW8ZQzia"
      },
      "execution_count": 69,
      "outputs": []
    },
    {
      "cell_type": "code",
      "source": [
        "kura()"
      ],
      "metadata": {
        "colab": {
          "base_uri": "https://localhost:8080/"
        },
        "id": "89mvEv5EQ4cy",
        "outputId": "2d304852-f68a-4d9d-acba-2405241a437c"
      },
      "execution_count": 72,
      "outputs": [
        {
          "output_type": "stream",
          "name": "stdout",
          "text": [
            "Bu hafta kim kaleci olacak..:)\n",
            "Kura sonucu: Emir\n"
          ]
        }
      ]
    },
    {
      "cell_type": "code",
      "source": [
        "print(\"Bu haftalık Sınıf görevlileri...\")\n",
        "liste = [\"Agah\", \"Ahmed\", \"Eymen\", \"Burak\", \"Emir\", \"Muhammed\"]\n",
        "print(f\"Kura sonucu: {random.choices(liste,k=2)}\")"
      ],
      "metadata": {
        "colab": {
          "base_uri": "https://localhost:8080/"
        },
        "id": "o_SMrUrqRFT6",
        "outputId": "960eb604-e435-46f2-e8b0-1c955cacaa01"
      },
      "execution_count": 77,
      "outputs": [
        {
          "output_type": "stream",
          "name": "stdout",
          "text": [
            "Bu haftalık Sınıf görevlileri...\n",
            "Kura sonucu: ['Agah', 'Ahmed']\n"
          ]
        }
      ]
    },
    {
      "cell_type": "code",
      "source": [
        "#Sayı tahmin oyunu....\n",
        "\n",
        "sayi = random.randint(1,50)\n",
        "sayac = 0\n",
        "while True:\n",
        "  sayac +=1\n",
        "  tahmin = int(input(\"1, ile 100 arasında bir sayı giriniz: (çıkış için 0 a basınız): \"))\n",
        "  if tahmin ==0:\n",
        "    print(\"Oyunu iptal ettiniz!\")\n",
        "    break\n",
        "  elif tahmin < sayi:\n",
        "    print(\"Daha yüksek bir sayı giriniz!\")\n",
        "    continue\n",
        "  elif tahmin > sayi:\n",
        "    print(\"Daha düşük bir sayı giriniz!\")\n",
        "    continue\n",
        "  else:\n",
        "    print(f\"Bilgisayarın seçtiği sayı: {sayi}. Sizin tahmininiz: {tahmin} \")\n",
        "    print(\"Tebrikler\")\n",
        "    print(f\"Tahmin sayınız: {sayac} \")\n",
        "    break\n",
        "\n"
      ],
      "metadata": {
        "colab": {
          "base_uri": "https://localhost:8080/"
        },
        "id": "AX0q8m8ER4_k",
        "outputId": "067f7097-ffe3-409b-d668-d79fbe2f444c"
      },
      "execution_count": 97,
      "outputs": [
        {
          "output_type": "stream",
          "name": "stdout",
          "text": [
            "1, ile 100 arasında bir sayı giriniz: (çıkış için 0 a basınız): 26\n",
            "Daha düşük bir sayı giriniz!\n",
            "1, ile 100 arasında bir sayı giriniz: (çıkış için 0 a basınız): 20\n",
            "Daha düşük bir sayı giriniz!\n",
            "1, ile 100 arasında bir sayı giriniz: (çıkış için 0 a basınız): 10\n",
            "Daha yüksek bir sayı giriniz!\n",
            "1, ile 100 arasında bir sayı giriniz: (çıkış için 0 a basınız): 14\n",
            "Daha yüksek bir sayı giriniz!\n",
            "1, ile 100 arasında bir sayı giriniz: (çıkış için 0 a basınız): 17\n",
            "Bilgisayarın seçtiği sayı: 17. Sizin tahmininiz: 17 \n",
            "Tebrikler\n",
            "Tahmin sayınız: 5 \n"
          ]
        }
      ]
    },
    {
      "cell_type": "code",
      "source": [
        "import secrets"
      ],
      "metadata": {
        "id": "4RTbLylnWOjr"
      },
      "execution_count": 98,
      "outputs": []
    },
    {
      "cell_type": "code",
      "source": [
        "help(secrets)"
      ],
      "metadata": {
        "colab": {
          "base_uri": "https://localhost:8080/"
        },
        "id": "1js0QF1mWY3l",
        "outputId": "eb2bf83d-0b38-4e53-87df-dc0a247bb123"
      },
      "execution_count": 99,
      "outputs": [
        {
          "output_type": "stream",
          "name": "stdout",
          "text": [
            "Help on module secrets:\n",
            "\n",
            "NAME\n",
            "    secrets\n",
            "\n",
            "MODULE REFERENCE\n",
            "    https://docs.python.org/3.7/library/secrets\n",
            "    \n",
            "    The following documentation is automatically generated from the Python\n",
            "    source files.  It may be incomplete, incorrect or include features that\n",
            "    are considered implementation detail and may vary between Python\n",
            "    implementations.  When in doubt, consult the module reference at the\n",
            "    location listed above.\n",
            "\n",
            "DESCRIPTION\n",
            "    Generate cryptographically strong pseudo-random numbers suitable for\n",
            "    managing secrets such as account authentication, tokens, and similar.\n",
            "    \n",
            "    See PEP 506 for more information.\n",
            "    https://www.python.org/dev/peps/pep-0506/\n",
            "\n",
            "CLASSES\n",
            "    random.Random(_random.Random)\n",
            "        random.SystemRandom\n",
            "    \n",
            "    class SystemRandom(Random)\n",
            "     |  SystemRandom(x=None)\n",
            "     |  \n",
            "     |  Alternate random number generator using sources provided\n",
            "     |  by the operating system (such as /dev/urandom on Unix or\n",
            "     |  CryptGenRandom on Windows).\n",
            "     |  \n",
            "     |   Not available on all systems (see os.urandom() for details).\n",
            "     |  \n",
            "     |  Method resolution order:\n",
            "     |      SystemRandom\n",
            "     |      Random\n",
            "     |      _random.Random\n",
            "     |      builtins.object\n",
            "     |  \n",
            "     |  Methods defined here:\n",
            "     |  \n",
            "     |  getrandbits(self, k)\n",
            "     |      getrandbits(k) -> x.  Generates an int with k random bits.\n",
            "     |  \n",
            "     |  getstate = _notimplemented(self, *args, **kwds)\n",
            "     |  \n",
            "     |  random(self)\n",
            "     |      Get the next random number in the range [0.0, 1.0).\n",
            "     |  \n",
            "     |  seed(self, *args, **kwds)\n",
            "     |      Stub method.  Not used for a system random number generator.\n",
            "     |  \n",
            "     |  setstate = _notimplemented(self, *args, **kwds)\n",
            "     |  \n",
            "     |  ----------------------------------------------------------------------\n",
            "     |  Methods inherited from Random:\n",
            "     |  \n",
            "     |  __getstate__(self)\n",
            "     |      # Issue 17489: Since __reduce__ was defined to fix #759889 this is no\n",
            "     |      # longer called; we leave it here because it has been here since random was\n",
            "     |      # rewritten back in 2001 and why risk breaking something.\n",
            "     |  \n",
            "     |  __init__(self, x=None)\n",
            "     |      Initialize an instance.\n",
            "     |      \n",
            "     |      Optional argument x controls seeding, as for Random.seed().\n",
            "     |  \n",
            "     |  __reduce__(self)\n",
            "     |      Helper for pickle.\n",
            "     |  \n",
            "     |  __setstate__(self, state)\n",
            "     |  \n",
            "     |  betavariate(self, alpha, beta)\n",
            "     |      Beta distribution.\n",
            "     |      \n",
            "     |      Conditions on the parameters are alpha > 0 and beta > 0.\n",
            "     |      Returned values range between 0 and 1.\n",
            "     |  \n",
            "     |  choice(self, seq)\n",
            "     |      Choose a random element from a non-empty sequence.\n",
            "     |  \n",
            "     |  choices(self, population, weights=None, *, cum_weights=None, k=1)\n",
            "     |      Return a k sized list of population elements chosen with replacement.\n",
            "     |      \n",
            "     |      If the relative weights or cumulative weights are not specified,\n",
            "     |      the selections are made with equal probability.\n",
            "     |  \n",
            "     |  expovariate(self, lambd)\n",
            "     |      Exponential distribution.\n",
            "     |      \n",
            "     |      lambd is 1.0 divided by the desired mean.  It should be\n",
            "     |      nonzero.  (The parameter would be called \"lambda\", but that is\n",
            "     |      a reserved word in Python.)  Returned values range from 0 to\n",
            "     |      positive infinity if lambd is positive, and from negative\n",
            "     |      infinity to 0 if lambd is negative.\n",
            "     |  \n",
            "     |  gammavariate(self, alpha, beta)\n",
            "     |      Gamma distribution.  Not the gamma function!\n",
            "     |      \n",
            "     |      Conditions on the parameters are alpha > 0 and beta > 0.\n",
            "     |      \n",
            "     |      The probability distribution function is:\n",
            "     |      \n",
            "     |                  x ** (alpha - 1) * math.exp(-x / beta)\n",
            "     |        pdf(x) =  --------------------------------------\n",
            "     |                    math.gamma(alpha) * beta ** alpha\n",
            "     |  \n",
            "     |  gauss(self, mu, sigma)\n",
            "     |      Gaussian distribution.\n",
            "     |      \n",
            "     |      mu is the mean, and sigma is the standard deviation.  This is\n",
            "     |      slightly faster than the normalvariate() function.\n",
            "     |      \n",
            "     |      Not thread-safe without a lock around calls.\n",
            "     |  \n",
            "     |  lognormvariate(self, mu, sigma)\n",
            "     |      Log normal distribution.\n",
            "     |      \n",
            "     |      If you take the natural logarithm of this distribution, you'll get a\n",
            "     |      normal distribution with mean mu and standard deviation sigma.\n",
            "     |      mu can have any value, and sigma must be greater than zero.\n",
            "     |  \n",
            "     |  normalvariate(self, mu, sigma)\n",
            "     |      Normal distribution.\n",
            "     |      \n",
            "     |      mu is the mean, and sigma is the standard deviation.\n",
            "     |  \n",
            "     |  paretovariate(self, alpha)\n",
            "     |      Pareto distribution.  alpha is the shape parameter.\n",
            "     |  \n",
            "     |  randint(self, a, b)\n",
            "     |      Return random integer in range [a, b], including both end points.\n",
            "     |  \n",
            "     |  randrange(self, start, stop=None, step=1, _int=<class 'int'>)\n",
            "     |      Choose a random item from range(start, stop[, step]).\n",
            "     |      \n",
            "     |      This fixes the problem with randint() which includes the\n",
            "     |      endpoint; in Python this is usually not what you want.\n",
            "     |  \n",
            "     |  sample(self, population, k)\n",
            "     |      Chooses k unique random elements from a population sequence or set.\n",
            "     |      \n",
            "     |      Returns a new list containing elements from the population while\n",
            "     |      leaving the original population unchanged.  The resulting list is\n",
            "     |      in selection order so that all sub-slices will also be valid random\n",
            "     |      samples.  This allows raffle winners (the sample) to be partitioned\n",
            "     |      into grand prize and second place winners (the subslices).\n",
            "     |      \n",
            "     |      Members of the population need not be hashable or unique.  If the\n",
            "     |      population contains repeats, then each occurrence is a possible\n",
            "     |      selection in the sample.\n",
            "     |      \n",
            "     |      To choose a sample in a range of integers, use range as an argument.\n",
            "     |      This is especially fast and space efficient for sampling from a\n",
            "     |      large population:   sample(range(10000000), 60)\n",
            "     |  \n",
            "     |  shuffle(self, x, random=None)\n",
            "     |      Shuffle list x in place, and return None.\n",
            "     |      \n",
            "     |      Optional argument random is a 0-argument function returning a\n",
            "     |      random float in [0.0, 1.0); if it is the default None, the\n",
            "     |      standard random.random will be used.\n",
            "     |  \n",
            "     |  triangular(self, low=0.0, high=1.0, mode=None)\n",
            "     |      Triangular distribution.\n",
            "     |      \n",
            "     |      Continuous distribution bounded by given lower and upper limits,\n",
            "     |      and having a given mode value in-between.\n",
            "     |      \n",
            "     |      http://en.wikipedia.org/wiki/Triangular_distribution\n",
            "     |  \n",
            "     |  uniform(self, a, b)\n",
            "     |      Get a random number in the range [a, b) or [a, b] depending on rounding.\n",
            "     |  \n",
            "     |  vonmisesvariate(self, mu, kappa)\n",
            "     |      Circular data distribution.\n",
            "     |      \n",
            "     |      mu is the mean angle, expressed in radians between 0 and 2*pi, and\n",
            "     |      kappa is the concentration parameter, which must be greater than or\n",
            "     |      equal to zero.  If kappa is equal to zero, this distribution reduces\n",
            "     |      to a uniform random angle over the range 0 to 2*pi.\n",
            "     |  \n",
            "     |  weibullvariate(self, alpha, beta)\n",
            "     |      Weibull distribution.\n",
            "     |      \n",
            "     |      alpha is the scale parameter and beta is the shape parameter.\n",
            "     |  \n",
            "     |  ----------------------------------------------------------------------\n",
            "     |  Data descriptors inherited from Random:\n",
            "     |  \n",
            "     |  __dict__\n",
            "     |      dictionary for instance variables (if defined)\n",
            "     |  \n",
            "     |  __weakref__\n",
            "     |      list of weak references to the object (if defined)\n",
            "     |  \n",
            "     |  ----------------------------------------------------------------------\n",
            "     |  Data and other attributes inherited from Random:\n",
            "     |  \n",
            "     |  VERSION = 3\n",
            "     |  \n",
            "     |  ----------------------------------------------------------------------\n",
            "     |  Methods inherited from _random.Random:\n",
            "     |  \n",
            "     |  __getattribute__(self, name, /)\n",
            "     |      Return getattr(self, name).\n",
            "     |  \n",
            "     |  ----------------------------------------------------------------------\n",
            "     |  Static methods inherited from _random.Random:\n",
            "     |  \n",
            "     |  __new__(*args, **kwargs) from builtins.type\n",
            "     |      Create and return a new object.  See help(type) for accurate signature.\n",
            "\n",
            "FUNCTIONS\n",
            "    choice(seq) method of random.SystemRandom instance\n",
            "        Choose a random element from a non-empty sequence.\n",
            "    \n",
            "    compare_digest = _compare_digest(a, b, /)\n",
            "        Return 'a == b'.\n",
            "        \n",
            "        This function uses an approach designed to prevent\n",
            "        timing analysis, making it appropriate for cryptography.\n",
            "        \n",
            "        a and b must both be of the same type: either str (ASCII only),\n",
            "        or any bytes-like object.\n",
            "        \n",
            "        Note: If a and b are of different lengths, or if an error occurs,\n",
            "        a timing attack could theoretically reveal information about the\n",
            "        types and lengths of a and b--but not their values.\n",
            "    \n",
            "    randbelow(exclusive_upper_bound)\n",
            "        Return a random int in the range [0, n).\n",
            "    \n",
            "    randbits = getrandbits(k) method of random.SystemRandom instance\n",
            "        getrandbits(k) -> x.  Generates an int with k random bits.\n",
            "    \n",
            "    token_bytes(nbytes=None)\n",
            "        Return a random byte string containing *nbytes* bytes.\n",
            "        \n",
            "        If *nbytes* is ``None`` or not supplied, a reasonable\n",
            "        default is used.\n",
            "        \n",
            "        >>> token_bytes(16)  #doctest:+SKIP\n",
            "        b'\\xebr\\x17D*t\\xae\\xd4\\xe3S\\xb6\\xe2\\xebP1\\x8b'\n",
            "    \n",
            "    token_hex(nbytes=None)\n",
            "        Return a random text string, in hexadecimal.\n",
            "        \n",
            "        The string has *nbytes* random bytes, each byte converted to two\n",
            "        hex digits.  If *nbytes* is ``None`` or not supplied, a reasonable\n",
            "        default is used.\n",
            "        \n",
            "        >>> token_hex(16)  #doctest:+SKIP\n",
            "        'f9bf78b9a18ce6d46a0cd2b0b86df9da'\n",
            "    \n",
            "    token_urlsafe(nbytes=None)\n",
            "        Return a random URL-safe text string, in Base64 encoding.\n",
            "        \n",
            "        The string has *nbytes* random bytes.  If *nbytes* is ``None``\n",
            "        or not supplied, a reasonable default is used.\n",
            "        \n",
            "        >>> token_urlsafe(16)  #doctest:+SKIP\n",
            "        'Drmhze6EPcv0fN_81Bj-nA'\n",
            "\n",
            "DATA\n",
            "    __all__ = ['choice', 'randbelow', 'randbits', 'SystemRandom', 'token_b...\n",
            "\n",
            "FILE\n",
            "    /usr/lib/python3.7/secrets.py\n",
            "\n",
            "\n"
          ]
        }
      ]
    },
    {
      "cell_type": "code",
      "source": [
        "print(secrets.token_urlsafe(16))"
      ],
      "metadata": {
        "colab": {
          "base_uri": "https://localhost:8080/"
        },
        "id": "upta28l2WlzT",
        "outputId": "62df92b0-0cbc-431f-faa4-f4c089f1e405"
      },
      "execution_count": 100,
      "outputs": [
        {
          "output_type": "stream",
          "name": "stdout",
          "text": [
            "aU9j2svL2YVMxDDvrn6xIQ\n"
          ]
        }
      ]
    },
    {
      "cell_type": "code",
      "source": [
        "sifre_listesi=[]\n",
        "def sifrelerim():\n",
        "  sifre = secrets.token_urlsafe(16)\n",
        "  sifre_listesi.append(sifre)\n",
        "  print(\"Yeni şifre oluşturuldu\")\n",
        "  print(sifre_listesi)\n"
      ],
      "metadata": {
        "id": "qtU4pRuPW1UH"
      },
      "execution_count": 108,
      "outputs": []
    },
    {
      "cell_type": "code",
      "source": [
        "sifrelerim()"
      ],
      "metadata": {
        "colab": {
          "base_uri": "https://localhost:8080/"
        },
        "id": "Tn4ow7FUXLbS",
        "outputId": "b304eabf-c17a-4ca4-85d5-9aa7de5ede70"
      },
      "execution_count": 109,
      "outputs": [
        {
          "output_type": "stream",
          "name": "stdout",
          "text": [
            "Yeni şifre oluşturuldu\n",
            "['DhulQlzaiLT7liqRHisrOg']\n"
          ]
        }
      ]
    },
    {
      "cell_type": "code",
      "source": [
        "sifrelerim()"
      ],
      "metadata": {
        "colab": {
          "base_uri": "https://localhost:8080/"
        },
        "id": "ELfMh_ETXfDE",
        "outputId": "c03a115a-8afb-4d18-b74d-d3c6c1ec0c3b"
      },
      "execution_count": 110,
      "outputs": [
        {
          "output_type": "stream",
          "name": "stdout",
          "text": [
            "Yeni şifre oluşturuldu\n",
            "['DhulQlzaiLT7liqRHisrOg', 'oEvzhczxsCeKV7Dj8NHUOA']\n"
          ]
        }
      ]
    },
    {
      "cell_type": "code",
      "source": [
        "sifrelerim()"
      ],
      "metadata": {
        "colab": {
          "base_uri": "https://localhost:8080/"
        },
        "id": "3klyzAqOXtOR",
        "outputId": "74d06dd1-c20a-40d9-b051-c87081b53f65"
      },
      "execution_count": 111,
      "outputs": [
        {
          "output_type": "stream",
          "name": "stdout",
          "text": [
            "Yeni şifre oluşturuldu\n",
            "['DhulQlzaiLT7liqRHisrOg', 'oEvzhczxsCeKV7Dj8NHUOA', 'qlj6FhsWsIJgzlC2UMqAQw']\n"
          ]
        }
      ]
    }
  ]
}