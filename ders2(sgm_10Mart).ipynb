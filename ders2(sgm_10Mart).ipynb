{
  "nbformat": 4,
  "nbformat_minor": 0,
  "metadata": {
    "colab": {
      "name": "ders2(sgm_10Mart).ipynb",
      "provenance": [],
      "collapsed_sections": []
    },
    "kernelspec": {
      "name": "python3",
      "display_name": "Python 3"
    },
    "language_info": {
      "name": "python"
    }
  },
  "cells": [
    {
      "cell_type": "code",
      "execution_count": null,
      "metadata": {
        "colab": {
          "base_uri": "https://localhost:8080/"
        },
        "id": "RgNp8e7-8W8E",
        "outputId": "a9f7bcd4-47c7-4ad5-db62-4cf8f201910e"
      },
      "outputs": [
        {
          "output_type": "stream",
          "name": "stdout",
          "text": [
            "Birinci ayrıtın uznluğunu gir: 3\n",
            "İkinci ayrıtın uznluğunu gir: 4\n",
            "Üçüncü ayrıtın uznluğunu gir: 5\n",
            "**************************************************\n",
            "Girdiğin ayrıt uzulukları. \n",
            "a = 3, \n",
            "b = 4, \n",
            "c = 5. \n",
            "Hacmi= 60 \n"
          ]
        }
      ],
      "source": [
        "#Dikdörtgenler prizmanın hacmi\n",
        "\n",
        "a = int(input(\"Birinci ayrıtın uznluğunu gir: \"))\n",
        "b = int(input(\"İkinci ayrıtın uznluğunu gir: \"))\n",
        "c = int(input(\"Üçüncü ayrıtın uznluğunu gir: \"))\n",
        "\n",
        "hacim = a*b*c\n",
        "print(50*\"*\")\n",
        "\n",
        "print(f\"Girdiğin ayrıt uzulukları. \\na = {a}, \\nb = {b}, \\nc = {c}. \\nHacmi= {hacim} \")"
      ]
    },
    {
      "cell_type": "code",
      "source": [
        "ad= \"veysel kaya\"\n",
        "print(ad)"
      ],
      "metadata": {
        "colab": {
          "base_uri": "https://localhost:8080/"
        },
        "id": "uVimK-2y8hWI",
        "outputId": "147f2823-b29c-4997-ac23-82c259f8ef3d"
      },
      "execution_count": null,
      "outputs": [
        {
          "output_type": "stream",
          "name": "stdout",
          "text": [
            "veysel kaya\n"
          ]
        }
      ]
    },
    {
      "cell_type": "code",
      "source": [
        "print(ad.capitalize())"
      ],
      "metadata": {
        "colab": {
          "base_uri": "https://localhost:8080/"
        },
        "id": "SSN42BPg9v5i",
        "outputId": "3b7f7360-b253-48c2-ffdd-a72b2a8b56f1"
      },
      "execution_count": null,
      "outputs": [
        {
          "output_type": "stream",
          "name": "stdout",
          "text": [
            "Veysel kaya\n"
          ]
        }
      ]
    },
    {
      "cell_type": "code",
      "source": [
        "print(ad.upper())"
      ],
      "metadata": {
        "colab": {
          "base_uri": "https://localhost:8080/"
        },
        "id": "nTQyZ8Q49439",
        "outputId": "b28f71af-6c2e-4e3e-b567-f88c7b831afa"
      },
      "execution_count": null,
      "outputs": [
        {
          "output_type": "stream",
          "name": "stdout",
          "text": [
            "VEYSEL KAYA\n"
          ]
        }
      ]
    },
    {
      "cell_type": "code",
      "source": [
        "ad= input(\"Ad soyad giriniz: \")\n",
        "print(ad.upper())"
      ],
      "metadata": {
        "colab": {
          "base_uri": "https://localhost:8080/"
        },
        "id": "XCFOaTcR-ChF",
        "outputId": "441c459b-3a97-449b-84aa-58c72362d28d"
      },
      "execution_count": null,
      "outputs": [
        {
          "output_type": "stream",
          "name": "stdout",
          "text": [
            "Ad soyad giriniz: veySel kayA\n",
            "VEYSEL KAYA\n"
          ]
        }
      ]
    },
    {
      "cell_type": "code",
      "source": [
        "ad= input(\"Ad soyad giriniz: \")\n",
        "print(ad.title())"
      ],
      "metadata": {
        "colab": {
          "base_uri": "https://localhost:8080/"
        },
        "id": "UjTEWzKK-PFm",
        "outputId": "d0711786-c951-49f5-a922-46816456c2b3"
      },
      "execution_count": null,
      "outputs": [
        {
          "output_type": "stream",
          "name": "stdout",
          "text": [
            "Ad soyad giriniz: veysL kAya\n",
            "Veysl Kaya\n"
          ]
        }
      ]
    },
    {
      "cell_type": "code",
      "source": [
        "#Python Listeleri"
      ],
      "metadata": {
        "id": "jm4PI-4E-nFT"
      },
      "execution_count": null,
      "outputs": []
    },
    {
      "cell_type": "code",
      "source": [
        "meyveler = [\"elma\", \"armut\", \"muz\", \"kiraz\"]\n"
      ],
      "metadata": {
        "id": "WQxQc_6Z-ry3"
      },
      "execution_count": null,
      "outputs": []
    },
    {
      "cell_type": "code",
      "source": [
        "type(meyveler)"
      ],
      "metadata": {
        "colab": {
          "base_uri": "https://localhost:8080/"
        },
        "id": "OEIHdxvj_BLn",
        "outputId": "4338b682-5ebd-4e21-e542-0ffad7d40f45"
      },
      "execution_count": null,
      "outputs": [
        {
          "output_type": "execute_result",
          "data": {
            "text/plain": [
              "list"
            ]
          },
          "metadata": {},
          "execution_count": 12
        }
      ]
    },
    {
      "cell_type": "code",
      "source": [
        "help(meyveler)"
      ],
      "metadata": {
        "colab": {
          "base_uri": "https://localhost:8080/"
        },
        "id": "abb6LMXV_F9v",
        "outputId": "f1211b80-3d88-4c6e-9845-00694628acb3"
      },
      "execution_count": null,
      "outputs": [
        {
          "output_type": "stream",
          "name": "stdout",
          "text": [
            "Help on list object:\n",
            "\n",
            "class list(object)\n",
            " |  list(iterable=(), /)\n",
            " |  \n",
            " |  Built-in mutable sequence.\n",
            " |  \n",
            " |  If no argument is given, the constructor creates a new empty list.\n",
            " |  The argument must be an iterable if specified.\n",
            " |  \n",
            " |  Methods defined here:\n",
            " |  \n",
            " |  __add__(self, value, /)\n",
            " |      Return self+value.\n",
            " |  \n",
            " |  __contains__(self, key, /)\n",
            " |      Return key in self.\n",
            " |  \n",
            " |  __delitem__(self, key, /)\n",
            " |      Delete self[key].\n",
            " |  \n",
            " |  __eq__(self, value, /)\n",
            " |      Return self==value.\n",
            " |  \n",
            " |  __ge__(self, value, /)\n",
            " |      Return self>=value.\n",
            " |  \n",
            " |  __getattribute__(self, name, /)\n",
            " |      Return getattr(self, name).\n",
            " |  \n",
            " |  __getitem__(...)\n",
            " |      x.__getitem__(y) <==> x[y]\n",
            " |  \n",
            " |  __gt__(self, value, /)\n",
            " |      Return self>value.\n",
            " |  \n",
            " |  __iadd__(self, value, /)\n",
            " |      Implement self+=value.\n",
            " |  \n",
            " |  __imul__(self, value, /)\n",
            " |      Implement self*=value.\n",
            " |  \n",
            " |  __init__(self, /, *args, **kwargs)\n",
            " |      Initialize self.  See help(type(self)) for accurate signature.\n",
            " |  \n",
            " |  __iter__(self, /)\n",
            " |      Implement iter(self).\n",
            " |  \n",
            " |  __le__(self, value, /)\n",
            " |      Return self<=value.\n",
            " |  \n",
            " |  __len__(self, /)\n",
            " |      Return len(self).\n",
            " |  \n",
            " |  __lt__(self, value, /)\n",
            " |      Return self<value.\n",
            " |  \n",
            " |  __mul__(self, value, /)\n",
            " |      Return self*value.\n",
            " |  \n",
            " |  __ne__(self, value, /)\n",
            " |      Return self!=value.\n",
            " |  \n",
            " |  __repr__(self, /)\n",
            " |      Return repr(self).\n",
            " |  \n",
            " |  __reversed__(self, /)\n",
            " |      Return a reverse iterator over the list.\n",
            " |  \n",
            " |  __rmul__(self, value, /)\n",
            " |      Return value*self.\n",
            " |  \n",
            " |  __setitem__(self, key, value, /)\n",
            " |      Set self[key] to value.\n",
            " |  \n",
            " |  __sizeof__(self, /)\n",
            " |      Return the size of the list in memory, in bytes.\n",
            " |  \n",
            " |  append(self, object, /)\n",
            " |      Append object to the end of the list.\n",
            " |  \n",
            " |  clear(self, /)\n",
            " |      Remove all items from list.\n",
            " |  \n",
            " |  copy(self, /)\n",
            " |      Return a shallow copy of the list.\n",
            " |  \n",
            " |  count(self, value, /)\n",
            " |      Return number of occurrences of value.\n",
            " |  \n",
            " |  extend(self, iterable, /)\n",
            " |      Extend list by appending elements from the iterable.\n",
            " |  \n",
            " |  index(self, value, start=0, stop=9223372036854775807, /)\n",
            " |      Return first index of value.\n",
            " |      \n",
            " |      Raises ValueError if the value is not present.\n",
            " |  \n",
            " |  insert(self, index, object, /)\n",
            " |      Insert object before index.\n",
            " |  \n",
            " |  pop(self, index=-1, /)\n",
            " |      Remove and return item at index (default last).\n",
            " |      \n",
            " |      Raises IndexError if list is empty or index is out of range.\n",
            " |  \n",
            " |  remove(self, value, /)\n",
            " |      Remove first occurrence of value.\n",
            " |      \n",
            " |      Raises ValueError if the value is not present.\n",
            " |  \n",
            " |  reverse(self, /)\n",
            " |      Reverse *IN PLACE*.\n",
            " |  \n",
            " |  sort(self, /, *, key=None, reverse=False)\n",
            " |      Stable sort *IN PLACE*.\n",
            " |  \n",
            " |  ----------------------------------------------------------------------\n",
            " |  Static methods defined here:\n",
            " |  \n",
            " |  __new__(*args, **kwargs) from builtins.type\n",
            " |      Create and return a new object.  See help(type) for accurate signature.\n",
            " |  \n",
            " |  ----------------------------------------------------------------------\n",
            " |  Data and other attributes defined here:\n",
            " |  \n",
            " |  __hash__ = None\n",
            "\n"
          ]
        }
      ]
    },
    {
      "cell_type": "code",
      "source": [
        "meyveler.append(\"Kivi\")"
      ],
      "metadata": {
        "id": "7ANlQro5_e4E"
      },
      "execution_count": null,
      "outputs": []
    },
    {
      "cell_type": "code",
      "source": [
        "print(meyveler)"
      ],
      "metadata": {
        "colab": {
          "base_uri": "https://localhost:8080/"
        },
        "id": "RVzayNc4_lyL",
        "outputId": "5ff71e9d-eae1-464c-fb65-b76d00aa4dda"
      },
      "execution_count": null,
      "outputs": [
        {
          "output_type": "stream",
          "name": "stdout",
          "text": [
            "['elma', 'armut', 'muz', 'kiraz', 'Kivi']\n"
          ]
        }
      ]
    },
    {
      "cell_type": "code",
      "source": [
        "meyveler"
      ],
      "metadata": {
        "colab": {
          "base_uri": "https://localhost:8080/"
        },
        "id": "DsKKtT5l_pKy",
        "outputId": "8772bbf2-894f-479c-97d4-059b455e8b10"
      },
      "execution_count": null,
      "outputs": [
        {
          "output_type": "execute_result",
          "data": {
            "text/plain": [
              "['elma', 'armut', 'muz', 'kiraz', 'Kivi']"
            ]
          },
          "metadata": {},
          "execution_count": 16
        }
      ]
    },
    {
      "cell_type": "code",
      "source": [
        "meyveler.append(\"çilek\")"
      ],
      "metadata": {
        "id": "dVsRU1n-_snI"
      },
      "execution_count": null,
      "outputs": []
    },
    {
      "cell_type": "code",
      "source": [
        "meyveler"
      ],
      "metadata": {
        "colab": {
          "base_uri": "https://localhost:8080/"
        },
        "id": "tz7v79lZ_z2z",
        "outputId": "783e925b-1b6c-45e0-9a10-673f6a827a2d"
      },
      "execution_count": null,
      "outputs": [
        {
          "output_type": "execute_result",
          "data": {
            "text/plain": [
              "['elma', 'armut', 'muz', 'kiraz', 'Kivi', 'çilek']"
            ]
          },
          "metadata": {},
          "execution_count": 18
        }
      ]
    },
    {
      "cell_type": "code",
      "source": [
        "meyveler.pop()"
      ],
      "metadata": {
        "colab": {
          "base_uri": "https://localhost:8080/",
          "height": 35
        },
        "id": "pYwp_mQd_2AO",
        "outputId": "7d64735e-0fd6-4287-d32d-7230ee42eabc"
      },
      "execution_count": null,
      "outputs": [
        {
          "output_type": "execute_result",
          "data": {
            "application/vnd.google.colaboratory.intrinsic+json": {
              "type": "string"
            },
            "text/plain": [
              "'çilek'"
            ]
          },
          "metadata": {},
          "execution_count": 19
        }
      ]
    },
    {
      "cell_type": "code",
      "source": [
        "meyveler"
      ],
      "metadata": {
        "colab": {
          "base_uri": "https://localhost:8080/"
        },
        "id": "KNROMUiV_-Wc",
        "outputId": "5b2fe352-f888-4153-8771-a9beb5296114"
      },
      "execution_count": null,
      "outputs": [
        {
          "output_type": "execute_result",
          "data": {
            "text/plain": [
              "['elma', 'armut', 'muz', 'kiraz', 'Kivi']"
            ]
          },
          "metadata": {},
          "execution_count": 20
        }
      ]
    },
    {
      "cell_type": "code",
      "source": [
        "meyveler[0]"
      ],
      "metadata": {
        "colab": {
          "base_uri": "https://localhost:8080/",
          "height": 35
        },
        "id": "wKSNy6jCAFt5",
        "outputId": "9173cae1-2990-4942-b7c4-6e0725cdb7f3"
      },
      "execution_count": null,
      "outputs": [
        {
          "output_type": "execute_result",
          "data": {
            "application/vnd.google.colaboratory.intrinsic+json": {
              "type": "string"
            },
            "text/plain": [
              "'elma'"
            ]
          },
          "metadata": {},
          "execution_count": 21
        }
      ]
    },
    {
      "cell_type": "code",
      "source": [
        "meyveler[3]"
      ],
      "metadata": {
        "colab": {
          "base_uri": "https://localhost:8080/",
          "height": 35
        },
        "id": "TAayuB_4AO69",
        "outputId": "67568d2e-7ded-41a9-eb85-2886814033e0"
      },
      "execution_count": null,
      "outputs": [
        {
          "output_type": "execute_result",
          "data": {
            "application/vnd.google.colaboratory.intrinsic+json": {
              "type": "string"
            },
            "text/plain": [
              "'kiraz'"
            ]
          },
          "metadata": {},
          "execution_count": 22
        }
      ]
    },
    {
      "cell_type": "code",
      "source": [
        "#listenin uznluğu..len() fornksiyonu ile bir veri türünde kaç tane eleman olduğunu sayabiliriz...\n",
        "len(meyveler)"
      ],
      "metadata": {
        "colab": {
          "base_uri": "https://localhost:8080/"
        },
        "id": "k13xm5HnAm58",
        "outputId": "c6a2f907-bf78-4ab5-b366-ae1a28c101d8"
      },
      "execution_count": null,
      "outputs": [
        {
          "output_type": "execute_result",
          "data": {
            "text/plain": [
              "5"
            ]
          },
          "metadata": {},
          "execution_count": 23
        }
      ]
    },
    {
      "cell_type": "code",
      "source": [
        "sayilar= [0,1,2,3,4,5,6,7,8,9,10]"
      ],
      "metadata": {
        "id": "41mnJfbeA2yE"
      },
      "execution_count": null,
      "outputs": []
    },
    {
      "cell_type": "code",
      "source": [
        "sayilar.append(15)"
      ],
      "metadata": {
        "id": "aCqsP8sBA81B"
      },
      "execution_count": null,
      "outputs": []
    },
    {
      "cell_type": "code",
      "source": [
        "sayilar[10]"
      ],
      "metadata": {
        "colab": {
          "base_uri": "https://localhost:8080/"
        },
        "id": "pIV0Jn-EBBZA",
        "outputId": "581f6871-ebb2-42b5-c145-1470c62e72b4"
      },
      "execution_count": null,
      "outputs": [
        {
          "output_type": "execute_result",
          "data": {
            "text/plain": [
              "10"
            ]
          },
          "metadata": {},
          "execution_count": 26
        }
      ]
    },
    {
      "cell_type": "code",
      "source": [
        "sayilar"
      ],
      "metadata": {
        "colab": {
          "base_uri": "https://localhost:8080/"
        },
        "id": "57onf0K5BFm-",
        "outputId": "03e45f0e-1110-475a-8694-4f32dabc71dd"
      },
      "execution_count": null,
      "outputs": [
        {
          "output_type": "execute_result",
          "data": {
            "text/plain": [
              "[0, 1, 2, 3, 4, 5, 6, 7, 8, 9, 10, 15]"
            ]
          },
          "metadata": {},
          "execution_count": 27
        }
      ]
    },
    {
      "cell_type": "code",
      "source": [
        "sayilar[2:5]"
      ],
      "metadata": {
        "colab": {
          "base_uri": "https://localhost:8080/"
        },
        "id": "WHJieXPIBIru",
        "outputId": "12a507df-1b56-4d74-903b-7f6effcf7cb9"
      },
      "execution_count": null,
      "outputs": [
        {
          "output_type": "execute_result",
          "data": {
            "text/plain": [
              "[2, 3, 4]"
            ]
          },
          "metadata": {},
          "execution_count": 28
        }
      ]
    },
    {
      "cell_type": "code",
      "source": [
        "meyveler[2:4]"
      ],
      "metadata": {
        "colab": {
          "base_uri": "https://localhost:8080/"
        },
        "id": "u-dbZQSvBQ4p",
        "outputId": "839e0659-0f8b-4867-c5d9-018f0b03e5dd"
      },
      "execution_count": null,
      "outputs": [
        {
          "output_type": "execute_result",
          "data": {
            "text/plain": [
              "['muz', 'kiraz']"
            ]
          },
          "metadata": {},
          "execution_count": 29
        }
      ]
    },
    {
      "cell_type": "code",
      "source": [
        "sayilar = [1,2,3,4,55,6,777,888,98,888,666,4444,34,56,666,7777]\n"
      ],
      "metadata": {
        "id": "ytBUuq7hBWls"
      },
      "execution_count": null,
      "outputs": []
    },
    {
      "cell_type": "code",
      "source": [
        "sayilar.sort()"
      ],
      "metadata": {
        "id": "vy6MqO0EBhNV"
      },
      "execution_count": null,
      "outputs": []
    },
    {
      "cell_type": "code",
      "source": [
        "sayilar"
      ],
      "metadata": {
        "colab": {
          "base_uri": "https://localhost:8080/"
        },
        "id": "1aHmXf33BsPc",
        "outputId": "76824d66-29ce-4d0c-e341-ab3b4ddbeb96"
      },
      "execution_count": null,
      "outputs": [
        {
          "output_type": "execute_result",
          "data": {
            "text/plain": [
              "[1, 2, 3, 4, 6, 34, 55, 56, 98, 666, 666, 777, 888, 888, 4444, 7777]"
            ]
          },
          "metadata": {},
          "execution_count": 32
        }
      ]
    },
    {
      "cell_type": "code",
      "source": [
        "sayilar.sort(reverse=True)"
      ],
      "metadata": {
        "id": "K6x7q7RpByjo"
      },
      "execution_count": null,
      "outputs": []
    },
    {
      "cell_type": "code",
      "source": [
        "sayilar"
      ],
      "metadata": {
        "colab": {
          "base_uri": "https://localhost:8080/"
        },
        "id": "aZrHtr9JB4kV",
        "outputId": "1048b067-a1d7-4cde-e5f4-0f35df6031f0"
      },
      "execution_count": null,
      "outputs": [
        {
          "output_type": "execute_result",
          "data": {
            "text/plain": [
              "[7777, 4444, 888, 888, 777, 666, 666, 98, 56, 55, 34, 6, 4, 3, 2, 1]"
            ]
          },
          "metadata": {},
          "execution_count": 34
        }
      ]
    },
    {
      "cell_type": "code",
      "source": [
        "liste = [[1,2,3], [55,78], [3,4,78]]\n"
      ],
      "metadata": {
        "id": "Pr2Iyy4UCEdv"
      },
      "execution_count": null,
      "outputs": []
    },
    {
      "cell_type": "code",
      "source": [
        "liste[1]"
      ],
      "metadata": {
        "colab": {
          "base_uri": "https://localhost:8080/"
        },
        "id": "Old-gv2dCNZl",
        "outputId": "646009c1-b095-4f31-f5cc-805b504715b3"
      },
      "execution_count": null,
      "outputs": [
        {
          "output_type": "execute_result",
          "data": {
            "text/plain": [
              "[55, 78]"
            ]
          },
          "metadata": {},
          "execution_count": 36
        }
      ]
    },
    {
      "cell_type": "code",
      "source": [
        "liste[1][0]"
      ],
      "metadata": {
        "colab": {
          "base_uri": "https://localhost:8080/"
        },
        "id": "lgWLjFa8CZyT",
        "outputId": "8d42d19e-5872-42e6-8c53-db5ef9cb7404"
      },
      "execution_count": null,
      "outputs": [
        {
          "output_type": "execute_result",
          "data": {
            "text/plain": [
              "55"
            ]
          },
          "metadata": {},
          "execution_count": 37
        }
      ]
    },
    {
      "cell_type": "code",
      "source": [
        "liste.clear() #listedeki bütün elemanları siler..!"
      ],
      "metadata": {
        "id": "Vd1A6XDoCoU4"
      },
      "execution_count": null,
      "outputs": []
    },
    {
      "cell_type": "code",
      "source": [
        "isimler = [\"veysel\", \"eymen\", \"muhammed\", \"burak\", \"alperen\", \"agah\", \"muhammed\", \"alperen\"]\n",
        "\n",
        "isimler.count(\"alperen\")"
      ],
      "metadata": {
        "colab": {
          "base_uri": "https://localhost:8080/"
        },
        "id": "QXIfApfyC9RH",
        "outputId": "b4dfe7f4-dfe6-4903-9352-0a32c532b4d3"
      },
      "execution_count": null,
      "outputs": [
        {
          "output_type": "execute_result",
          "data": {
            "text/plain": [
              "2"
            ]
          },
          "metadata": {},
          "execution_count": 38
        }
      ]
    },
    {
      "cell_type": "code",
      "source": [
        "#string veriyi listeye dönüştürme\n",
        "\n",
        "ad = \"Muhammed\"\n",
        "yeni = list(ad)\n",
        "yeni"
      ],
      "metadata": {
        "colab": {
          "base_uri": "https://localhost:8080/"
        },
        "id": "chh-B3bXDgta",
        "outputId": "05fc9281-7b0a-487d-e3ab-e97d5a6d8374"
      },
      "execution_count": null,
      "outputs": [
        {
          "output_type": "execute_result",
          "data": {
            "text/plain": [
              "['M', 'u', 'h', 'a', 'm', 'm', 'e', 'd']"
            ]
          },
          "metadata": {},
          "execution_count": 39
        }
      ]
    },
    {
      "cell_type": "code",
      "source": [
        "yeni.count(\"m\")"
      ],
      "metadata": {
        "colab": {
          "base_uri": "https://localhost:8080/"
        },
        "id": "S-zVetj9Dsh0",
        "outputId": "7efce54a-c9e7-48d2-9961-08425a1742a3"
      },
      "execution_count": null,
      "outputs": [
        {
          "output_type": "execute_result",
          "data": {
            "text/plain": [
              "2"
            ]
          },
          "metadata": {},
          "execution_count": 40
        }
      ]
    },
    {
      "cell_type": "code",
      "source": [
        "sayi = \"123456789123456789123456789\"\n",
        "yeni = list(sayi)\n",
        "yeni"
      ],
      "metadata": {
        "colab": {
          "base_uri": "https://localhost:8080/"
        },
        "id": "MV9Zbe8iEAch",
        "outputId": "b54ef53e-d9c7-4188-f8bd-c90ae1556dff"
      },
      "execution_count": null,
      "outputs": [
        {
          "output_type": "execute_result",
          "data": {
            "text/plain": [
              "['1',\n",
              " '2',\n",
              " '3',\n",
              " '4',\n",
              " '5',\n",
              " '6',\n",
              " '7',\n",
              " '8',\n",
              " '9',\n",
              " '1',\n",
              " '2',\n",
              " '3',\n",
              " '4',\n",
              " '5',\n",
              " '6',\n",
              " '7',\n",
              " '8',\n",
              " '9',\n",
              " '1',\n",
              " '2',\n",
              " '3',\n",
              " '4',\n",
              " '5',\n",
              " '6',\n",
              " '7',\n",
              " '8',\n",
              " '9']"
            ]
          },
          "metadata": {},
          "execution_count": 41
        }
      ]
    },
    {
      "cell_type": "code",
      "source": [
        "liste1 = [1,2,3,4,5]\n",
        "liste2 = [6,7,8,9]\n",
        "liste3 = liste1+liste2"
      ],
      "metadata": {
        "id": "7fgcdnqNEZby"
      },
      "execution_count": null,
      "outputs": []
    },
    {
      "cell_type": "code",
      "source": [
        "liste3"
      ],
      "metadata": {
        "colab": {
          "base_uri": "https://localhost:8080/"
        },
        "id": "OZ_3mf45EmKO",
        "outputId": "2ae98d32-83d8-4980-fea4-2dd23a6d140c"
      },
      "execution_count": null,
      "outputs": [
        {
          "output_type": "execute_result",
          "data": {
            "text/plain": [
              "[1, 2, 3, 4, 5, 6, 7, 8, 9]"
            ]
          },
          "metadata": {},
          "execution_count": 43
        }
      ]
    },
    {
      "cell_type": "code",
      "source": [
        "liste5 = [1,2,3,4]\n",
        "liste5*5"
      ],
      "metadata": {
        "colab": {
          "base_uri": "https://localhost:8080/"
        },
        "id": "pwiRvB2NEs5D",
        "outputId": "debc53d2-163a-41ca-f907-cfaa2ede041f"
      },
      "execution_count": null,
      "outputs": [
        {
          "output_type": "execute_result",
          "data": {
            "text/plain": [
              "[1, 2, 3, 4, 1, 2, 3, 4, 1, 2, 3, 4, 1, 2, 3, 4, 1, 2, 3, 4]"
            ]
          },
          "metadata": {},
          "execution_count": 44
        }
      ]
    },
    {
      "cell_type": "code",
      "source": [
        "#kullanıcıdan ad-soyad, sınıf bilgisi alıp onu listeye ekleyen program"
      ],
      "metadata": {
        "id": "J_jW_2mjFGw-"
      },
      "execution_count": null,
      "outputs": []
    },
    {
      "cell_type": "code",
      "source": [
        "liste=[]\n",
        "adsoyad = input(\"Adını ve soyadını gir: \")\n",
        "sinif = input(\"Sınıfını gir: \")\n",
        "\n",
        "\n",
        "liste.append(adsoyad)\n",
        "liste.append(sinif)\n",
        "\n",
        "print(50*\"*\")\n",
        "print(liste)"
      ],
      "metadata": {
        "colab": {
          "base_uri": "https://localhost:8080/"
        },
        "id": "cODmPkzXFN2a",
        "outputId": "917a0ea0-2613-46c1-9efb-227d3ecbde90"
      },
      "execution_count": null,
      "outputs": [
        {
          "output_type": "stream",
          "name": "stdout",
          "text": [
            "Adını ve soyadını gir: veysel kaya\n",
            "Sınıfını gir: 9-c\n",
            "**************************************************\n",
            "['veysel kaya', '9-c']\n"
          ]
        }
      ]
    },
    {
      "cell_type": "code",
      "source": [
        "adsoyad = input(\"Adını ve soyadını gir: \")\n",
        "sinif = input(\"Sınıfını gir: \")\n",
        "\n",
        "\n",
        "liste.append(adsoyad)\n",
        "liste.append(sinif)\n",
        "\n",
        "print(50*\"*\")\n",
        "print(liste)"
      ],
      "metadata": {
        "colab": {
          "base_uri": "https://localhost:8080/"
        },
        "id": "yzAma7lsFk3M",
        "outputId": "75eef168-12c1-43d4-a8ee-45ad95799e76"
      },
      "execution_count": null,
      "outputs": [
        {
          "output_type": "stream",
          "name": "stdout",
          "text": [
            "Adını ve soyadını gir: muhammed varol\n",
            "Sınıfını gir: 10-c\n",
            "**************************************************\n",
            "['veysel kaya', '9-c', 'muhammed varol', '10-c']\n"
          ]
        }
      ]
    },
    {
      "cell_type": "code",
      "source": [
        "#Mantıksal Değerler....boll değerler...... karşılaştırma operatörleri ==, != , < , >, <=, >= "
      ],
      "metadata": {
        "id": "Joy_lJxWGv9J"
      },
      "execution_count": null,
      "outputs": []
    },
    {
      "cell_type": "code",
      "source": [
        "5>4"
      ],
      "metadata": {
        "colab": {
          "base_uri": "https://localhost:8080/"
        },
        "id": "gTKF4a32HOsk",
        "outputId": "61218ed0-21cf-4fc2-ff3f-b049ce55cc72"
      },
      "execution_count": null,
      "outputs": [
        {
          "output_type": "execute_result",
          "data": {
            "text/plain": [
              "True"
            ]
          },
          "metadata": {},
          "execution_count": 52
        }
      ]
    },
    {
      "cell_type": "code",
      "source": [
        "6==6"
      ],
      "metadata": {
        "colab": {
          "base_uri": "https://localhost:8080/"
        },
        "id": "iKZkweRrHV9t",
        "outputId": "3792deee-ad1c-4a1c-81cd-b0cf55d18cc4"
      },
      "execution_count": null,
      "outputs": [
        {
          "output_type": "execute_result",
          "data": {
            "text/plain": [
              "True"
            ]
          },
          "metadata": {},
          "execution_count": 53
        }
      ]
    },
    {
      "cell_type": "code",
      "source": [
        "6==5"
      ],
      "metadata": {
        "colab": {
          "base_uri": "https://localhost:8080/"
        },
        "id": "dIYN_CbkHXt0",
        "outputId": "bd0c9a6e-3506-403a-e30b-180b8ce81cde"
      },
      "execution_count": null,
      "outputs": [
        {
          "output_type": "execute_result",
          "data": {
            "text/plain": [
              "False"
            ]
          },
          "metadata": {},
          "execution_count": 54
        }
      ]
    },
    {
      "cell_type": "code",
      "source": [
        "1<2 and 4>3"
      ],
      "metadata": {
        "colab": {
          "base_uri": "https://localhost:8080/"
        },
        "id": "33LZkrJTHh-5",
        "outputId": "1b89f4ba-afbc-4286-a568-c07778a302c9"
      },
      "execution_count": null,
      "outputs": [
        {
          "output_type": "execute_result",
          "data": {
            "text/plain": [
              "True"
            ]
          },
          "metadata": {},
          "execution_count": 55
        }
      ]
    },
    {
      "cell_type": "code",
      "source": [
        "3>5 and 78>34"
      ],
      "metadata": {
        "colab": {
          "base_uri": "https://localhost:8080/"
        },
        "id": "6_KymLK_HqLc",
        "outputId": "311bbac0-6083-4d48-9844-0f4085f27257"
      },
      "execution_count": null,
      "outputs": [
        {
          "output_type": "execute_result",
          "data": {
            "text/plain": [
              "False"
            ]
          },
          "metadata": {},
          "execution_count": 56
        }
      ]
    },
    {
      "cell_type": "code",
      "source": [
        "bool(0)"
      ],
      "metadata": {
        "colab": {
          "base_uri": "https://localhost:8080/"
        },
        "id": "rS_YhYjZHzm1",
        "outputId": "e6c107d2-1ac9-40a2-fbfc-facff84effcd"
      },
      "execution_count": null,
      "outputs": [
        {
          "output_type": "execute_result",
          "data": {
            "text/plain": [
              "False"
            ]
          },
          "metadata": {},
          "execution_count": 57
        }
      ]
    },
    {
      "cell_type": "code",
      "source": [
        "bool(6)"
      ],
      "metadata": {
        "colab": {
          "base_uri": "https://localhost:8080/"
        },
        "id": "zz8TklNwH3Ld",
        "outputId": "d34a1046-07ce-40eb-86c6-6ce386b35671"
      },
      "execution_count": null,
      "outputs": [
        {
          "output_type": "execute_result",
          "data": {
            "text/plain": [
              "True"
            ]
          },
          "metadata": {},
          "execution_count": 59
        }
      ]
    },
    {
      "cell_type": "code",
      "source": [
        "1==1 or 3>5"
      ],
      "metadata": {
        "colab": {
          "base_uri": "https://localhost:8080/"
        },
        "id": "jbMzpFSFH-WB",
        "outputId": "ac7ae293-cdfe-48be-80db-365932f5d569"
      },
      "execution_count": null,
      "outputs": [
        {
          "output_type": "execute_result",
          "data": {
            "text/plain": [
              "True"
            ]
          },
          "metadata": {},
          "execution_count": 60
        }
      ]
    },
    {
      "cell_type": "code",
      "source": [
        "8>7"
      ],
      "metadata": {
        "colab": {
          "base_uri": "https://localhost:8080/"
        },
        "id": "DXYKRdH3IGjd",
        "outputId": "863d4235-2e18-4f0e-f01e-7b5d37ae95e0"
      },
      "execution_count": null,
      "outputs": [
        {
          "output_type": "execute_result",
          "data": {
            "text/plain": [
              "True"
            ]
          },
          "metadata": {},
          "execution_count": 61
        }
      ]
    },
    {
      "cell_type": "code",
      "source": [
        "not 8>7"
      ],
      "metadata": {
        "colab": {
          "base_uri": "https://localhost:8080/"
        },
        "id": "A9dnoYhLIItG",
        "outputId": "c2a8bee1-0ffa-4bec-a228-c75bfee28ed5"
      },
      "execution_count": null,
      "outputs": [
        {
          "output_type": "execute_result",
          "data": {
            "text/plain": [
              "False"
            ]
          },
          "metadata": {},
          "execution_count": 62
        }
      ]
    },
    {
      "cell_type": "code",
      "source": [
        "not ((3>5 or 5.9<5) and (9.6>6 and 8<7))"
      ],
      "metadata": {
        "colab": {
          "base_uri": "https://localhost:8080/"
        },
        "id": "pQz419MDIP2L",
        "outputId": "bb324ba7-63b6-4189-a741-a6ed1edac0f9"
      },
      "execution_count": null,
      "outputs": [
        {
          "output_type": "execute_result",
          "data": {
            "text/plain": [
              "True"
            ]
          },
          "metadata": {},
          "execution_count": 65
        }
      ]
    },
    {
      "cell_type": "code",
      "source": [
        "# koşullu durumlar. if-elif-else\n",
        "\n",
        "a=7\n",
        "if a == 5:\n",
        "  print(\"doğru\")\n",
        "else:\n",
        "  print(\"Yanlış\")\n"
      ],
      "metadata": {
        "colab": {
          "base_uri": "https://localhost:8080/"
        },
        "id": "tKbSN_dmIwCa",
        "outputId": "63bccd20-5cdd-41a4-f2d2-48e91f607f93"
      },
      "execution_count": null,
      "outputs": [
        {
          "output_type": "stream",
          "name": "stdout",
          "text": [
            "Yanlış\n"
          ]
        }
      ]
    },
    {
      "cell_type": "code",
      "source": [
        "#sinamaya girişte yaş kontrolü yapan program"
      ],
      "metadata": {
        "id": "bdeHmYrbJjjM"
      },
      "execution_count": null,
      "outputs": []
    }
  ]
}