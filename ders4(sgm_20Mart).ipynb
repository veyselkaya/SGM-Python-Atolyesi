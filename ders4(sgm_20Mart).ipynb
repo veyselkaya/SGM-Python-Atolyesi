{
  "nbformat": 4,
  "nbformat_minor": 0,
  "metadata": {
    "colab": {
      "name": "ders3(sgm_20Mart.ipynb",
      "provenance": [],
      "collapsed_sections": []
    },
    "kernelspec": {
      "name": "python3",
      "display_name": "Python 3"
    },
    "language_info": {
      "name": "python"
    }
  },
  "cells": [
    {
      "cell_type": "code",
      "execution_count": 2,
      "metadata": {
        "colab": {
          "base_uri": "https://localhost:8080/"
        },
        "id": "8F-0gjjmhAwO",
        "outputId": "5a5bcb46-6f3f-4995-c43b-b611be8c8d76"
      },
      "outputs": [
        {
          "output_type": "stream",
          "name": "stdout",
          "text": [
            "Tek sayılar: [1, 3, 55, 77, 87, 43, 567, 89] \n",
            "Tek listenin çarpımı: 2398476364515\n",
            "Çift sayılar: [2, 44, 66, 86, 56, 54] \n",
            "Çift listenin çarpımı: 1510451712\n"
          ]
        }
      ],
      "source": [
        "#Muhammed Burak Varol'un çözümü\n",
        "liste = [1,2,3,44,55,66,77,87,86,56,43,54,567,89]\n",
        "teksayilar= []\n",
        "ciftsayilar = []\n",
        "tekcarpim = 1\n",
        "ciftcarpim = 1\n",
        "\n",
        "for sayi in liste:\n",
        "  if sayi % 2 == 0:\n",
        "    ciftsayilar.append(sayi)\n",
        "    ciftcarpim = ciftcarpim*sayi\n",
        "  else:\n",
        "    teksayilar.append(sayi)\n",
        "    tekcarpim = tekcarpim*sayi\n",
        "print(f\"Tek sayılar: {teksayilar} \")\n",
        "print(f\"Tek listenin çarpımı: {tekcarpim}\")\n",
        "print(f\"Çift sayılar: {ciftsayilar} \")\n",
        "print(f\"Çift listenin çarpımı: {ciftcarpim}\")"
      ]
    },
    {
      "cell_type": "code",
      "source": [
        "#for döngüsü\n",
        "liste = [\"elma\", \"armut\", \"kiraz\"]\n",
        "for meyve in liste:\n",
        "  print(f\"{meyve} bir yaz meyvesidir.\")"
      ],
      "metadata": {
        "colab": {
          "base_uri": "https://localhost:8080/"
        },
        "id": "cl0jrDH6hkeo",
        "outputId": "44bc2abc-3fb2-4114-b7d6-7ac69896a74e"
      },
      "execution_count": 3,
      "outputs": [
        {
          "output_type": "stream",
          "name": "stdout",
          "text": [
            "elma bir yaz meyvesidir.\n",
            "armut bir yaz meyvesidir.\n",
            "kiraz bir yaz meyvesidir.\n"
          ]
        }
      ]
    },
    {
      "cell_type": "code",
      "source": [
        "#faktöriyel hesaplama...5!=5*4*3*2*1, 7!=7*6*5*4*3*2*1\n",
        "\n",
        "#5! hesayayan dögü\n",
        "faktoriyel=1\n",
        "for i in range(1,6):\n",
        "  faktoriyel *=i\n",
        "  print(f\" {i} sayısının faktöriyeli: \", faktoriyel)"
      ],
      "metadata": {
        "colab": {
          "base_uri": "https://localhost:8080/"
        },
        "id": "hvyif1zeiAY6",
        "outputId": "e62f3fd9-ab82-40d3-b2af-a40b5694c5a8"
      },
      "execution_count": 6,
      "outputs": [
        {
          "output_type": "stream",
          "name": "stdout",
          "text": [
            " 1 sayısının faktöriyeli:  1\n",
            " 2 sayısının faktöriyeli:  2\n",
            " 3 sayısının faktöriyeli:  6\n",
            " 4 sayısının faktöriyeli:  24\n",
            " 5 sayısının faktöriyeli:  120\n"
          ]
        }
      ]
    },
    {
      "cell_type": "code",
      "source": [
        "#dinamik faktöriyel hesaplayan program\n",
        "\n",
        "sayi = int(input(\"Faktöriyelini hesaplamak istediğiniz sayıyı giriniz:\"))\n",
        "faktoriyel = 1\n",
        "\n",
        "if sayi>0:\n",
        "  for i in range(1,sayi+1):\n",
        "    faktoriyel *= i\n",
        "  print(f\"{sayi} in faktoriyeli: {faktoriyel} \")\n",
        "  print(f\"{sayi}! {len(str(faktoriyel))} basamaklıdır\")\n",
        "\n",
        "elif sayi==0:\n",
        "  print(\"0 sayısının faktöriyeli 1 dir!\")\n",
        "else:\n",
        "  print(\"Lütfen bir doğal sayı giriniz...!\")\n",
        "\n"
      ],
      "metadata": {
        "colab": {
          "base_uri": "https://localhost:8080/"
        },
        "id": "qRFgJWhEiwkI",
        "outputId": "4596fdd7-4f04-4704-b2aa-7af1f83fd8a3"
      },
      "execution_count": 34,
      "outputs": [
        {
          "output_type": "stream",
          "name": "stdout",
          "text": [
            "Faktöriyelini hesaplamak istediğiniz sayıyı giriniz:9\n",
            "9 in faktoriyeli: 362880 \n",
            "9! 6 basamaklıdır\n"
          ]
        }
      ]
    },
    {
      "cell_type": "code",
      "source": [
        "a =5\n",
        "print(a)\n",
        "a*=2\n",
        "print(a)"
      ],
      "metadata": {
        "colab": {
          "base_uri": "https://localhost:8080/"
        },
        "id": "tpwmkPEvjJkV",
        "outputId": "9b08b434-4242-4165-e326-0ebb9fea9440"
      },
      "execution_count": 10,
      "outputs": [
        {
          "output_type": "stream",
          "name": "stdout",
          "text": [
            "5\n",
            "10\n"
          ]
        }
      ]
    },
    {
      "cell_type": "code",
      "source": [
        "#while döngüsü\n",
        "\n",
        "i = 0\n",
        "while i<10:\n",
        "  print(i)\n",
        "  i+=1"
      ],
      "metadata": {
        "colab": {
          "base_uri": "https://localhost:8080/"
        },
        "id": "k7JiKAtfmBLm",
        "outputId": "5a55cd19-59ba-4c42-ac37-5d5fe6814cdb"
      },
      "execution_count": 36,
      "outputs": [
        {
          "output_type": "stream",
          "name": "stdout",
          "text": [
            "0\n",
            "1\n",
            "2\n",
            "3\n",
            "4\n",
            "5\n",
            "6\n",
            "7\n",
            "8\n",
            "9\n"
          ]
        }
      ]
    },
    {
      "cell_type": "code",
      "source": [
        "i=0\n",
        "while i<10:\n",
        "  i+=1\n",
        "  print(i)\n",
        "  if i==5:\n",
        "    print(\"program sonlandırıldı...!\")\n",
        "    break"
      ],
      "metadata": {
        "colab": {
          "base_uri": "https://localhost:8080/"
        },
        "id": "eAic8g0Um5Tp",
        "outputId": "ad65e5e9-01f7-43ee-d963-67dd8c839888"
      },
      "execution_count": 39,
      "outputs": [
        {
          "output_type": "stream",
          "name": "stdout",
          "text": [
            "1\n",
            "2\n",
            "3\n",
            "4\n",
            "5\n",
            "program sonlandırıldı...!\n"
          ]
        }
      ]
    },
    {
      "cell_type": "code",
      "source": [
        "#bir sayının teki çift olduğunu kontrol eden program\n",
        "\n",
        "sayi = int(input(\"sayı gir: \"))\n",
        "if sayi %2==0:\n",
        "  print(f\"{sayi} bir çift sayıdır..\")\n",
        "else:\n",
        "  print(f\"{sayi} bir tek sayıdır..\")"
      ],
      "metadata": {
        "colab": {
          "base_uri": "https://localhost:8080/"
        },
        "id": "eocR4RBFrq86",
        "outputId": "dfd33276-a318-4c8f-ee80-089db133d9f8"
      },
      "execution_count": 45,
      "outputs": [
        {
          "output_type": "stream",
          "name": "stdout",
          "text": [
            "sayı gir: 8\n",
            "8 bir çift sayıdır..\n"
          ]
        }
      ]
    },
    {
      "cell_type": "code",
      "source": [
        "##bir sayının teki çift olduğunu kontrol eden programı while döngüsü ile yazalım\n",
        "print(\"programı sonlandırmak için q'ya basınız...!\")\n",
        "while True:\n",
        "  sayi = input(\"sayı gir: \")\n",
        "  if sayi == \"q\":\n",
        "    print(\"Program kapatıldı..!\")\n",
        "    break\n",
        "  if int(sayi) %2==0:\n",
        "    print(f\"{sayi} bir çift sayıdır..\")\n",
        "  else:\n",
        "    print(f\"{sayi} bir tek sayıdır..\")"
      ],
      "metadata": {
        "colab": {
          "base_uri": "https://localhost:8080/"
        },
        "id": "ijAn4KoBsUOk",
        "outputId": "7173a408-955a-4031-903f-90e56fbe2072"
      },
      "execution_count": 51,
      "outputs": [
        {
          "output_type": "stream",
          "name": "stdout",
          "text": [
            "programı sonlandırmak için q'ya basınız...!\n",
            "sayı gir: 6\n",
            "6 bir çift sayıdır..\n",
            "sayı gir: 78\n",
            "78 bir çift sayıdır..\n",
            "sayı gir: 9876543\n",
            "9876543 bir tek sayıdır..\n",
            "sayı gir: q\n",
            "Program kapatıldı..!\n"
          ]
        }
      ]
    },
    {
      "cell_type": "code",
      "source": [
        "#Kasiyer uygulaması...!\n",
        "print(\"Kasiyer Uygulaması...:)\")\n",
        "toplam = 0\n",
        "fiyat_listesi=[]\n",
        "while True:\n",
        "  sayi = input(\"Ürün fiyatını makinaya gir okut..!: \")\n",
        "  if sayi == \"q\":\n",
        "    print(\"Program kapatıldı..!\")\n",
        "    break\n",
        "  sayi = int(sayi)\n",
        "  toplam += sayi\n",
        "  fiyat_listesi.append(sayi)\n",
        "print(30*\"*\")\n",
        "print(f\"Ödemeniz: {toplam}TL dir.... \")\n",
        "print(f\"Fatura:{fiyat_listesi} \")"
      ],
      "metadata": {
        "colab": {
          "base_uri": "https://localhost:8080/"
        },
        "id": "beyTR67Zt83z",
        "outputId": "2d1acd14-c633-4562-a00e-8310a32fc8d9"
      },
      "execution_count": 57,
      "outputs": [
        {
          "output_type": "stream",
          "name": "stdout",
          "text": [
            "Kasiyer Uygulaması...:)\n",
            "Ürün fiyatını makinaya gir okut..!: 23\n",
            "Ürün fiyatını makinaya gir okut..!: 45\n",
            "Ürün fiyatını makinaya gir okut..!: 67\n",
            "Ürün fiyatını makinaya gir okut..!: 89\n",
            "Ürün fiyatını makinaya gir okut..!: 43\n",
            "Ürün fiyatını makinaya gir okut..!: 567\n",
            "Ürün fiyatını makinaya gir okut..!: 89\n",
            "Ürün fiyatını makinaya gir okut..!: 21\n",
            "Ürün fiyatını makinaya gir okut..!: 4\n",
            "Ürün fiyatını makinaya gir okut..!: 6\n",
            "Ürün fiyatını makinaya gir okut..!: q\n",
            "Program kapatıldı..!\n",
            "******************************\n",
            "Ödemeniz: 954TL dir.... \n",
            "Fatura:[23, 45, 67, 89, 43, 567, 89, 21, 4, 6] \n"
          ]
        }
      ]
    },
    {
      "cell_type": "code",
      "source": [
        "#ödev-1: while true döngüsü kullanılarak girilen sayıların karelerini ve küplerini bulan ve en son toplamını söyleyen program\n",
        "#ödev-1: kullanıcı adı veya şifresini 3 kez hatalı giren bir kullanıcıyı sistemden dışarı atan bir program"
      ],
      "metadata": {
        "id": "pEsXiHQZwRJO"
      },
      "execution_count": null,
      "outputs": []
    },
    {
      "cell_type": "code",
      "source": [
        "#for döngüsü kullanarak çarpım tablosu yapmak... \n",
        "for i in range(1,11):\n",
        "  print(20*\"*\")\n",
        "  for j in range(1,11):\n",
        "    print(f\"{i}x{j} = {i*j}\")"
      ],
      "metadata": {
        "colab": {
          "base_uri": "https://localhost:8080/"
        },
        "id": "TK9gvGNXws3D",
        "outputId": "ffabe43d-18fc-4b30-d4a3-4ae94b973b7c"
      },
      "execution_count": 63,
      "outputs": [
        {
          "output_type": "stream",
          "name": "stdout",
          "text": [
            "********************\n",
            "1x1 = 1\n",
            "1x2 = 2\n",
            "1x3 = 3\n",
            "1x4 = 4\n",
            "1x5 = 5\n",
            "1x6 = 6\n",
            "1x7 = 7\n",
            "1x8 = 8\n",
            "1x9 = 9\n",
            "1x10 = 10\n",
            "********************\n",
            "2x1 = 2\n",
            "2x2 = 4\n",
            "2x3 = 6\n",
            "2x4 = 8\n",
            "2x5 = 10\n",
            "2x6 = 12\n",
            "2x7 = 14\n",
            "2x8 = 16\n",
            "2x9 = 18\n",
            "2x10 = 20\n",
            "********************\n",
            "3x1 = 3\n",
            "3x2 = 6\n",
            "3x3 = 9\n",
            "3x4 = 12\n",
            "3x5 = 15\n",
            "3x6 = 18\n",
            "3x7 = 21\n",
            "3x8 = 24\n",
            "3x9 = 27\n",
            "3x10 = 30\n",
            "********************\n",
            "4x1 = 4\n",
            "4x2 = 8\n",
            "4x3 = 12\n",
            "4x4 = 16\n",
            "4x5 = 20\n",
            "4x6 = 24\n",
            "4x7 = 28\n",
            "4x8 = 32\n",
            "4x9 = 36\n",
            "4x10 = 40\n",
            "********************\n",
            "5x1 = 5\n",
            "5x2 = 10\n",
            "5x3 = 15\n",
            "5x4 = 20\n",
            "5x5 = 25\n",
            "5x6 = 30\n",
            "5x7 = 35\n",
            "5x8 = 40\n",
            "5x9 = 45\n",
            "5x10 = 50\n",
            "********************\n",
            "6x1 = 6\n",
            "6x2 = 12\n",
            "6x3 = 18\n",
            "6x4 = 24\n",
            "6x5 = 30\n",
            "6x6 = 36\n",
            "6x7 = 42\n",
            "6x8 = 48\n",
            "6x9 = 54\n",
            "6x10 = 60\n",
            "********************\n",
            "7x1 = 7\n",
            "7x2 = 14\n",
            "7x3 = 21\n",
            "7x4 = 28\n",
            "7x5 = 35\n",
            "7x6 = 42\n",
            "7x7 = 49\n",
            "7x8 = 56\n",
            "7x9 = 63\n",
            "7x10 = 70\n",
            "********************\n",
            "8x1 = 8\n",
            "8x2 = 16\n",
            "8x3 = 24\n",
            "8x4 = 32\n",
            "8x5 = 40\n",
            "8x6 = 48\n",
            "8x7 = 56\n",
            "8x8 = 64\n",
            "8x9 = 72\n",
            "8x10 = 80\n",
            "********************\n",
            "9x1 = 9\n",
            "9x2 = 18\n",
            "9x3 = 27\n",
            "9x4 = 36\n",
            "9x5 = 45\n",
            "9x6 = 54\n",
            "9x7 = 63\n",
            "9x8 = 72\n",
            "9x9 = 81\n",
            "9x10 = 90\n",
            "********************\n",
            "10x1 = 10\n",
            "10x2 = 20\n",
            "10x3 = 30\n",
            "10x4 = 40\n",
            "10x5 = 50\n",
            "10x6 = 60\n",
            "10x7 = 70\n",
            "10x8 = 80\n",
            "10x9 = 90\n",
            "10x10 = 100\n"
          ]
        }
      ]
    }
  ]
}